{
 "cells": [
  {
   "cell_type": "markdown",
   "metadata": {},
   "source": [
    "## DUC DATA CLEAN PRODUCTION INFO OF DUPLICATES (AMENDMENTS)"
   ]
  },
  {
   "cell_type": "markdown",
   "metadata": {},
   "source": [
    "### WORKFLOW\n",
    "\n",
    "    - Import Well Production Info\n",
    "    - Find duplicates\n",
    "    - Check Hours total by adding duplicate period entries.  If not greater then 744, likely ammendment entries\n",
    "    - If ammendments, add oil, gas, C5+, & water volumes for total and drop duplicate entry,\n",
    "   \n",
    "    "
   ]
  },
  {
   "cell_type": "code",
   "execution_count": null,
   "metadata": {},
   "outputs": [],
   "source": [
    "# Import libraries\n",
    "import warnings\n",
    "warnings.filterwarnings('ignore')\n",
    "import pandas as pd\n",
    "import numpy as np\n",
    "import matplotlib.pyplot as plt\n",
    "from datetime import datetime\n",
    "%matplotlib inline"
   ]
  },
  {
   "cell_type": "code",
   "execution_count": null,
   "metadata": {},
   "outputs": [],
   "source": [
    "# Load file\n",
    "Prodn = pd.read_csv('WellProduction.csv')"
   ]
  },
  {
   "cell_type": "code",
   "execution_count": null,
   "metadata": {},
   "outputs": [],
   "source": [
    "Prodn.head()"
   ]
  },
  {
   "cell_type": "code",
   "execution_count": null,
   "metadata": {},
   "outputs": [],
   "source": [
    "Prodn.info()"
   ]
  },
  {
   "cell_type": "markdown",
   "metadata": {},
   "source": [
    "### Get number of wells present in each ProdType"
   ]
  },
  {
   "cell_type": "code",
   "execution_count": null,
   "metadata": {},
   "outputs": [],
   "source": [
    "print('Well count with Hours',len(set(Prodn['EPAssetsId'][Prodn['ProdType']=='Production Hours'])))"
   ]
  },
  {
   "cell_type": "code",
   "execution_count": null,
   "metadata": {},
   "outputs": [],
   "source": [
    "print('Well count with Oil Production',len(set(Prodn['EPAssetsId'][Prodn['ProdType']=='Oil Production (Bbls)'])))"
   ]
  },
  {
   "cell_type": "code",
   "execution_count": null,
   "metadata": {},
   "outputs": [],
   "source": [
    "print('Well count with Gas Production',len(set(Prodn['EPAssetsId'][Prodn['ProdType']=='Gas Production (MMcf)'])))"
   ]
  },
  {
   "cell_type": "code",
   "execution_count": null,
   "metadata": {},
   "outputs": [],
   "source": [
    "print('Well count with Condensate Production',len(set(Prodn['EPAssetsId'][Prodn['ProdType']=='Condensate Production (Bbls)'])))"
   ]
  },
  {
   "cell_type": "code",
   "execution_count": null,
   "metadata": {},
   "outputs": [],
   "source": [
    "print('Well count with Water Production',len(set(Prodn['EPAssetsId'][Prodn['ProdType']=='Water Production (Bbls)'])))"
   ]
  },
  {
   "cell_type": "markdown",
   "metadata": {},
   "source": [
    "## Prodn contains duplicate indexes.  Fix Issue First to be able to pivot data in next Notebook"
   ]
  },
  {
   "cell_type": "code",
   "execution_count": null,
   "metadata": {},
   "outputs": [],
   "source": [
    "Dups = Prodn.drop(['Volume','WellHeader.Match'], axis =1)"
   ]
  },
  {
   "cell_type": "code",
   "execution_count": null,
   "metadata": {},
   "outputs": [],
   "source": [
    "Dups['is_duplicated'] = Dups.duplicated()\n",
    "Dups.shape"
   ]
  },
  {
   "cell_type": "code",
   "execution_count": null,
   "metadata": {},
   "outputs": [],
   "source": [
    "Prodn['is_duplicated'] = Dups['is_duplicated']"
   ]
  },
  {
   "cell_type": "markdown",
   "metadata": {},
   "source": [
    "### Hours"
   ]
  },
  {
   "cell_type": "code",
   "execution_count": null,
   "metadata": {},
   "outputs": [],
   "source": [
    "Dups[Dups['is_duplicated']==True][Dups['ProdType']=='Production Hours'].head()\n"
   ]
  },
  {
   "cell_type": "code",
   "execution_count": null,
   "metadata": {},
   "outputs": [],
   "source": [
    "len(Dups[Dups['is_duplicated']==True][Dups['ProdType']=='Production Hours'])"
   ]
  },
  {
   "cell_type": "code",
   "execution_count": null,
   "metadata": {},
   "outputs": [],
   "source": [
    "len(Dups[Dups['is_duplicated']==True])"
   ]
  },
  {
   "cell_type": "markdown",
   "metadata": {},
   "source": [
    "### Examine duplicates for two wells"
   ]
  },
  {
   "cell_type": "code",
   "execution_count": null,
   "metadata": {},
   "outputs": [],
   "source": [
    "Prodn[Prodn['EPAssetsId']==1167456][Prodn['ProdPeriod']=='2019-01-31 00:00:00.000']"
   ]
  },
  {
   "cell_type": "code",
   "execution_count": null,
   "metadata": {},
   "outputs": [],
   "source": [
    "Prodn[Prodn['EPAssetsId']==1169598][Prodn['ProdPeriod']=='2019-08-31 00:00:00.000']"
   ]
  },
  {
   "cell_type": "markdown",
   "metadata": {},
   "source": [
    "### Work with a smaller df for duplicate hours to verify if duplicates are merged that hours does not excedd 744 in a month."
   ]
  },
  {
   "cell_type": "code",
   "execution_count": null,
   "metadata": {},
   "outputs": [],
   "source": [
    "H_Dup = Dups[Dups['is_duplicated']==True][Dups['ProdType']=='Production Hours']"
   ]
  },
  {
   "cell_type": "code",
   "execution_count": null,
   "metadata": {},
   "outputs": [],
   "source": [
    "H_Dup['Dup_Hours']= 0\n",
    "H_Dup['Non_Dup_Hours']=0\n",
    "H_Dup['All_Hours']=0"
   ]
  },
  {
   "cell_type": "code",
   "execution_count": null,
   "metadata": {},
   "outputs": [],
   "source": [
    "H_Dup.head()"
   ]
  },
  {
   "cell_type": "code",
   "execution_count": null,
   "metadata": {},
   "outputs": [],
   "source": [
    "dup_hours = []\n",
    "hours = []\n",
    "for row in range(len(H_Dup)):\n",
    "    dup_hours.append(float(Prodn['Volume'][Prodn['EPAssetsId']==H_Dup.iloc[row][0]][Prodn['ProdPeriod']==H_Dup.iloc[row][1]][Prodn['ProdType']==H_Dup.iloc[row][2]][Prodn['is_duplicated']==True]))\n",
    "    hours.append(float(Prodn['Volume'][Prodn['EPAssetsId']==H_Dup.iloc[row][0]][Prodn['ProdPeriod']==H_Dup.iloc[row][1]][Prodn['ProdType']==H_Dup.iloc[row][2]][Prodn['is_duplicated']==False]))\n",
    "\n",
    "H_Dup['Dup_Hours'] = dup_hours\n",
    "H_Dup['Non_Dup_Hours'] = hours\n",
    "H_Dup['All_Hours'] = H_Dup['Dup_Hours'] + H_Dup['Non_Dup_Hours']\n"
   ]
  },
  {
   "cell_type": "code",
   "execution_count": null,
   "metadata": {},
   "outputs": [],
   "source": [
    "H_Dup.head()"
   ]
  },
  {
   "cell_type": "code",
   "execution_count": null,
   "metadata": {},
   "outputs": [],
   "source": [
    "H_Dup.shape"
   ]
  },
  {
   "cell_type": "code",
   "execution_count": null,
   "metadata": {},
   "outputs": [],
   "source": [
    "plt.plot(H_Dup['All_Hours'])\n",
    "plt.show()"
   ]
  },
  {
   "cell_type": "code",
   "execution_count": null,
   "metadata": {},
   "outputs": [],
   "source": [
    "max(H_Dup['All_Hours'])"
   ]
  },
  {
   "cell_type": "markdown",
   "metadata": {},
   "source": [
    "### Appears the hours are not double entries but amendments.  Still two entries for hours or production far a well in a month will throw an eror on a pivot"
   ]
  },
  {
   "cell_type": "code",
   "execution_count": null,
   "metadata": {},
   "outputs": [],
   "source": [
    "H_Dup.info()"
   ]
  },
  {
   "cell_type": "markdown",
   "metadata": {},
   "source": [
    "## Now get duplicates for all volumes & hours."
   ]
  },
  {
   "cell_type": "code",
   "execution_count": null,
   "metadata": {},
   "outputs": [],
   "source": [
    "All_Dup = Dups[Dups['is_duplicated']==True]"
   ]
  },
  {
   "cell_type": "code",
   "execution_count": null,
   "metadata": {},
   "outputs": [],
   "source": [
    "All_Dup.info()"
   ]
  },
  {
   "cell_type": "code",
   "execution_count": null,
   "metadata": {},
   "outputs": [],
   "source": [
    "All_Dup['ProdType'].value_counts()"
   ]
  },
  {
   "cell_type": "code",
   "execution_count": null,
   "metadata": {},
   "outputs": [],
   "source": [
    "dup_vols = []\n",
    "vols = []\n",
    "for row in range(len(All_Dup)):\n",
    "    dup_vols.append(float(Prodn['Volume'][Prodn['EPAssetsId']==All_Dup.iloc[row][0]][Prodn['ProdPeriod']==All_Dup.iloc[row][1]][Prodn['ProdType']==All_Dup.iloc[row][2]][Prodn['is_duplicated']==True]))\n",
    "    vols.append(float(Prodn['Volume'][Prodn['EPAssetsId']==All_Dup.iloc[row][0]][Prodn['ProdPeriod']==All_Dup.iloc[row][1]][Prodn['ProdType']==All_Dup.iloc[row][2]][Prodn['is_duplicated']==False]))\n",
    "\n",
    "All_Dup['Dup_Vols'] = dup_vols\n",
    "All_Dup['Non_Dup_Vols'] = vols\n",
    "All_Dup['All_Vols'] = All_Dup['Dup_Vols'] + All_Dup['Non_Dup_Vols']"
   ]
  },
  {
   "cell_type": "code",
   "execution_count": null,
   "metadata": {},
   "outputs": [],
   "source": [
    "len(dup_vols), len(vols), len(All_Dup)"
   ]
  },
  {
   "cell_type": "code",
   "execution_count": null,
   "metadata": {},
   "outputs": [],
   "source": [
    "sum(All_Dup['Dup_Vols']), sum(All_Dup['Non_Dup_Vols']), sum(All_Dup['All_Vols'])"
   ]
  },
  {
   "cell_type": "code",
   "execution_count": null,
   "metadata": {},
   "outputs": [],
   "source": [
    "sum(Prodn['Volume'][Prodn['is_duplicated']==True]), sum(Prodn['Volume'][Prodn['is_duplicated']==False]),sum(Prodn['Volume'])"
   ]
  },
  {
   "cell_type": "markdown",
   "metadata": {},
   "source": [
    "### The duplicated volume (is_duplicated = True) matches\n",
    "\n",
    "### Now, replace the volumes in Prodn where is_duplicated = False with the volume summation.\n",
    "\n",
    "### Then drop is_duplicated = True from Prodn"
   ]
  },
  {
   "cell_type": "code",
   "execution_count": null,
   "metadata": {},
   "outputs": [],
   "source": [
    "Prodn[Prodn['is_duplicated']==True].head()"
   ]
  },
  {
   "cell_type": "code",
   "execution_count": null,
   "metadata": {},
   "outputs": [],
   "source": [
    "Prodn[Prodn['EPAssetsId']==1167456][Prodn['ProdPeriod']=='2019-01-31 00:00:00.000']"
   ]
  },
  {
   "cell_type": "code",
   "execution_count": null,
   "metadata": {
    "scrolled": true
   },
   "outputs": [],
   "source": [
    "All_Dup.head()"
   ]
  },
  {
   "cell_type": "code",
   "execution_count": null,
   "metadata": {},
   "outputs": [],
   "source": [
    "# Cycle through All_Dup samples and Take All_Vols values and use it to replace the value in Prodn \n",
    "#    where matchiong EPAssetsId, ProdPeriod, ProdType, and is_duplicated is False\n",
    "\n",
    "for row in range(len(All_Dup)):\n",
    "    Vol = float(All_Dup.iloc[row][6])\n",
    "    Ind = Prodn['Volume'][Prodn['EPAssetsId']==All_Dup.iloc[row][0]][Prodn['ProdPeriod']==All_Dup.iloc[row][1]][Prodn['ProdType']==All_Dup.iloc[row][2]][Prodn['is_duplicated']==False].index[0]\n",
    "    Prodn.iloc[Ind,3] = Vol"
   ]
  },
  {
   "cell_type": "code",
   "execution_count": null,
   "metadata": {
    "scrolled": true
   },
   "outputs": [],
   "source": [
    "Prodn[Prodn['EPAssetsId']==1167456][Prodn['ProdPeriod']=='2019-01-31 00:00:00.000']"
   ]
  },
  {
   "cell_type": "markdown",
   "metadata": {},
   "source": [
    "### Now the Total volume or hours is adjacent to the False Flag "
   ]
  },
  {
   "cell_type": "code",
   "execution_count": null,
   "metadata": {},
   "outputs": [],
   "source": [
    "Prodn.shape"
   ]
  },
  {
   "cell_type": "code",
   "execution_count": null,
   "metadata": {},
   "outputs": [],
   "source": [
    "Prodn_Clean = Prodn[Prodn['is_duplicated'] == False]\n",
    "Prodn_Clean.shape"
   ]
  },
  {
   "cell_type": "code",
   "execution_count": null,
   "metadata": {},
   "outputs": [],
   "source": [
    "sum(Prodn_Clean['Volume']), sum(Prodn_Clean['is_duplicated'])"
   ]
  },
  {
   "cell_type": "markdown",
   "metadata": {},
   "source": [
    "### Total of volume (hours and volumes) matched the total in Prodn with multiple time period entries (ammendments) to 5 decimal places."
   ]
  },
  {
   "cell_type": "code",
   "execution_count": null,
   "metadata": {},
   "outputs": [],
   "source": [
    "Prodn_Clean.drop(['WellHeader.Match', 'is_duplicated'], axis = 1, inplace = True)\n",
    "Prodn_Clean.reset_index\n",
    "Prodn_Clean.head()"
   ]
  },
  {
   "cell_type": "code",
   "execution_count": null,
   "metadata": {},
   "outputs": [],
   "source": [
    "Prodn_Clean.to_csv('WellProduction_No_Duplicates.csv')"
   ]
  },
  {
   "cell_type": "code",
   "execution_count": null,
   "metadata": {},
   "outputs": [],
   "source": []
  }
 ],
 "metadata": {
  "kernelspec": {
   "display_name": "Python 3",
   "language": "python",
   "name": "python3"
  },
  "language_info": {
   "codemirror_mode": {
    "name": "ipython",
    "version": 3
   },
   "file_extension": ".py",
   "mimetype": "text/x-python",
   "name": "python",
   "nbconvert_exporter": "python",
   "pygments_lexer": "ipython3",
   "version": "3.6.8"
  }
 },
 "nbformat": 4,
 "nbformat_minor": 2
}
