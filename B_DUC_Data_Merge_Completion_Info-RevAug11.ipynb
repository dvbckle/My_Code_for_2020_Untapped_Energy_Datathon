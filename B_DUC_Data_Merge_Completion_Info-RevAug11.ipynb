{
 "cells": [
  {
   "cell_type": "markdown",
   "metadata": {},
   "source": [
    "## DUC DATA COMPLETION INFORMATION"
   ]
  },
  {
   "cell_type": "markdown",
   "metadata": {},
   "source": [
    "### WORKFLOW:\n",
    "- Import Cleaned Well Header File\n",
    "- Import Completion File\n",
    "- Convert todatetime\n",
    "- Iterate through EPAssetID's and find:\n",
    "    - Earliest Completion Date\n",
    "    - Last Completion Date\n",
    "    - Completion Flag: 0 for not found, 1 for any completion\n",
    "    - Highest completion top\n",
    "    - Deepest Completion bottom\n",
    "\n"
   ]
  },
  {
   "cell_type": "code",
   "execution_count": null,
   "metadata": {},
   "outputs": [],
   "source": [
    "# Import libraries\n",
    "import warnings\n",
    "warnings.filterwarnings('ignore')\n",
    "import pandas as pd\n",
    "import numpy as np\n",
    "import matplotlib.pyplot as plt\n",
    "from datetime import datetime\n",
    "from sklearn.preprocessing import LabelEncoder\n",
    "%matplotlib inline"
   ]
  },
  {
   "cell_type": "code",
   "execution_count": null,
   "metadata": {},
   "outputs": [],
   "source": [
    "# Load files\n",
    "Wells = pd.read_csv('WellHeader_Clean.csv')\n",
    "Comps = pd.read_csv('PerfTreatments.csv')"
   ]
  },
  {
   "cell_type": "code",
   "execution_count": null,
   "metadata": {},
   "outputs": [],
   "source": [
    "Comps.info()"
   ]
  },
  {
   "cell_type": "code",
   "execution_count": null,
   "metadata": {},
   "outputs": [],
   "source": [
    "# Convert to datetime\n",
    "Comps['ActivityDate'] = pd.to_datetime(Comps['ActivityDate'], infer_datetime_format=True)"
   ]
  },
  {
   "cell_type": "code",
   "execution_count": null,
   "metadata": {},
   "outputs": [],
   "source": [
    "IDs = set(Comps['EPAssetsId'])\n",
    "len(IDs)"
   ]
  },
  {
   "cell_type": "markdown",
   "metadata": {},
   "source": [
    "#### PerfTreatments has 20 up hole remediation and or error entries with IntervalTop <= 687.  We are loking for the production interval so remove these and other remedial, cement sqeeze etc. entries "
   ]
  },
  {
   "cell_type": "code",
   "execution_count": null,
   "metadata": {},
   "outputs": [],
   "source": [
    "# PerfTreatments has a few entries at 0 mMD.  Remove these eroneous data points\n",
    "len(Comps[Comps['IntervalTop']<=687])"
   ]
  },
  {
   "cell_type": "code",
   "execution_count": null,
   "metadata": {},
   "outputs": [],
   "source": [
    "# Remove rows and check\n",
    "Comps = Comps[Comps.IntervalTop > 687]\n",
    "len(Comps[Comps['IntervalTop']<=687])"
   ]
  },
  {
   "cell_type": "code",
   "execution_count": null,
   "metadata": {},
   "outputs": [],
   "source": [
    "C_Activities = list(set(Comps['ActivityType']))\n",
    "C_Activities.remove(C_Activities[0])  #remove nan from list"
   ]
  },
  {
   "cell_type": "code",
   "execution_count": null,
   "metadata": {
    "scrolled": true
   },
   "outputs": [],
   "source": [
    "C_Activities"
   ]
  },
  {
   "cell_type": "code",
   "execution_count": null,
   "metadata": {},
   "outputs": [],
   "source": [
    "sum(Comps['ActivityType'].isnull())"
   ]
  },
  {
   "cell_type": "code",
   "execution_count": null,
   "metadata": {},
   "outputs": [],
   "source": [
    "Keep_Activities = ['Acidize','Multi-Stage Fracture','Hydraulic Fracture','Packing Device Capped w/Cement','Sand Fracture','Acid Wash','Open Hole',\n",
    " 'Multi-Stage Fracture - Port Closed','Chemical Fracture','Hydra Jet Perforation','Other','Perforation',\n",
    " 'Slotted Liner','Fracture','Chemical Squeeze','Open Hole/Barefoot Completion','Acid Treatment','Acid Squeeze']"
   ]
  },
  {
   "cell_type": "code",
   "execution_count": null,
   "metadata": {},
   "outputs": [],
   "source": [
    "Drop_Activities = list(set(C_Activities) - set(Keep_Activities))\n",
    "Drop_Activities"
   ]
  },
  {
   "cell_type": "code",
   "execution_count": null,
   "metadata": {},
   "outputs": [],
   "source": [
    "# Replace Nulls with Other - These are mostly in some BC Wells\n",
    "Comps['ActivityType'].fillna('Other', inplace = True)"
   ]
  },
  {
   "cell_type": "markdown",
   "metadata": {},
   "source": [
    "#### Filter events to drop into a new dataframe.  Use the EPAPTId EPASSetsID and IntervalTop to select corresponding redundant perf or other treatment events that are related to remedial avtivities.  Create a Remedial dataframe"
   ]
  },
  {
   "cell_type": "code",
   "execution_count": null,
   "metadata": {},
   "outputs": [],
   "source": [
    "Remedial = Comps[Comps['ActivityType'] == 'Bridge Plug - No Cement']\n",
    "for item in Drop_Activities:\n",
    "    if item != 'Bridge Plug - No Cement':\n",
    "\n",
    "        df = Comps[Comps['ActivityType'] == item]\n",
    "        Remedial = pd.concat([Remedial,df])\n",
    "Remedial.index = range(Remedial.shape[0])    \n",
    "Remedial.info()"
   ]
  },
  {
   "cell_type": "code",
   "execution_count": null,
   "metadata": {},
   "outputs": [],
   "source": [
    "Remedial.head()"
   ]
  },
  {
   "cell_type": "code",
   "execution_count": null,
   "metadata": {},
   "outputs": [],
   "source": [
    "#Merge in corresponding activities like perforation that align with the remedial event\n",
    "\n",
    "for sample in range(len(Remedial)):\n",
    "    ID = Remedial['EPAssetsId'][sample]\n",
    "    depth = Remedial['IntervalTop'][sample]\n",
    "    df = Comps[Comps['EPAssetsId']==ID]\n",
    "    df1 = df[df['IntervalTop']==depth]\n",
    "    Remedial = pd.concat([Remedial,df1])\n",
    "\n",
    "Remedial.info()"
   ]
  },
  {
   "cell_type": "code",
   "execution_count": null,
   "metadata": {},
   "outputs": [],
   "source": [
    "# Drop Duplicates and reindex\n",
    "Remedial = Remedial.drop_duplicates()\n",
    "Remedial.index = range(Remedial.shape[0]) \n",
    "Remedial.info()"
   ]
  },
  {
   "cell_type": "markdown",
   "metadata": {},
   "source": [
    "#### Remove all remedial activities from the Comps dataframe"
   ]
  },
  {
   "cell_type": "code",
   "execution_count": null,
   "metadata": {},
   "outputs": [],
   "source": [
    "for sample in range(len(Remedial)):\n",
    "    PTID = Remedial['EPAPTId'][sample]\n",
    "    Comps = Comps[Comps['EPAPTId'] != PTID]\n",
    "    \n",
    "Comps.info()"
   ]
  },
  {
   "cell_type": "code",
   "execution_count": null,
   "metadata": {},
   "outputs": [],
   "source": [
    "# Save the Remedial Activities file\n",
    "Remedial.to_csv('Remedial_Activities.csv')"
   ]
  },
  {
   "cell_type": "markdown",
   "metadata": {},
   "source": [
    "#### Removed another 148 entries.  Now transfer Completion Info to the Well Header."
   ]
  },
  {
   "cell_type": "code",
   "execution_count": null,
   "metadata": {},
   "outputs": [],
   "source": [
    "Comps.head()"
   ]
  },
  {
   "cell_type": "code",
   "execution_count": null,
   "metadata": {},
   "outputs": [],
   "source": [
    "Comps.drop(Comps[['WellHeader.Match','EPAPTId','ObservationNumber','ActivityType','PerfShots']], axis =1, inplace = True)"
   ]
  },
  {
   "cell_type": "code",
   "execution_count": null,
   "metadata": {},
   "outputs": [],
   "source": [
    "Comps.head()"
   ]
  },
  {
   "cell_type": "code",
   "execution_count": null,
   "metadata": {},
   "outputs": [],
   "source": [
    "Comps.info()"
   ]
  },
  {
   "cell_type": "markdown",
   "metadata": {},
   "source": [
    "#### Review the Wells info"
   ]
  },
  {
   "cell_type": "code",
   "execution_count": null,
   "metadata": {},
   "outputs": [],
   "source": [
    "Wells.head()"
   ]
  },
  {
   "cell_type": "code",
   "execution_count": null,
   "metadata": {},
   "outputs": [],
   "source": [
    "Wells.drop(Wells[['Unnamed: 0']], axis = 1, inplace = True)"
   ]
  },
  {
   "cell_type": "code",
   "execution_count": null,
   "metadata": {},
   "outputs": [],
   "source": [
    "# Convert to datetime\n",
    "date_cols = ['SpudDate', 'FinalDrillDate','StatusDate']\n",
    "for col in date_cols:\n",
    "    Wells[col] = pd.to_datetime(Wells[col], infer_datetime_format=True)"
   ]
  },
  {
   "cell_type": "code",
   "execution_count": null,
   "metadata": {},
   "outputs": [],
   "source": [
    "Wells.info()"
   ]
  },
  {
   "cell_type": "markdown",
   "metadata": {},
   "source": [
    "### Group Comps (PerfTreatments) by EPAssetId for min interval top & date, and maximum interval base and date to get renge of completion depth & time"
   ]
  },
  {
   "cell_type": "code",
   "execution_count": null,
   "metadata": {},
   "outputs": [],
   "source": [
    "Tops_Early = Comps.groupby('EPAssetsId').min()[['IntervalTop', 'ActivityDate']]\n",
    "Tops_Early.columns=['Comp_Top', 'Early_Comp']\n",
    "Tops_Early.head()"
   ]
  },
  {
   "cell_type": "code",
   "execution_count": null,
   "metadata": {},
   "outputs": [],
   "source": [
    "# Add a completion flag denoting the well was in the PerfTreatment file\n",
    "# After merge the remaining wells without a completion will have a null value under the completion flag, and\n",
    "#   completion dates and depths\n",
    "\n",
    "Bases_Late = Comps.groupby('EPAssetsId').max()[['IntervalTop', 'ActivityDate']]\n",
    "Bases_Late.columns=['Comp_Base', 'Late_Comp']\n",
    "Bases_Late['Comp_Flag'] = 1\n",
    "Bases_Late.head()"
   ]
  },
  {
   "cell_type": "markdown",
   "metadata": {},
   "source": [
    "### Merge Wells with the Tops and Bases dataframes on EPAssetsId"
   ]
  },
  {
   "cell_type": "code",
   "execution_count": null,
   "metadata": {},
   "outputs": [],
   "source": [
    "Wells = pd.merge(Wells, Tops_Early, left_on = 'EPAssetsId', right_on = Tops_Early.index, how = 'outer', sort = False)\n",
    "\n",
    "Wells = pd.merge(Wells, Bases_Late, left_on = 'EPAssetsId', right_on = Bases_Late.index, how = 'outer', sort = False)"
   ]
  },
  {
   "cell_type": "code",
   "execution_count": null,
   "metadata": {},
   "outputs": [],
   "source": [
    "Wells.info()"
   ]
  },
  {
   "cell_type": "markdown",
   "metadata": {},
   "source": [
    "#### There are 329 wells without any completion information"
   ]
  },
  {
   "cell_type": "code",
   "execution_count": null,
   "metadata": {},
   "outputs": [],
   "source": [
    "Wells.head()"
   ]
  },
  {
   "cell_type": "code",
   "execution_count": null,
   "metadata": {},
   "outputs": [],
   "source": [
    "#Check range of results\n",
    "min(Wells['Comp_Top']), min(Wells['Comp_Base']), min(Wells['Early_Comp']), min(Wells['Late_Comp'])"
   ]
  },
  {
   "cell_type": "code",
   "execution_count": null,
   "metadata": {},
   "outputs": [],
   "source": [
    "#Check range of results\n",
    "max(Wells['Comp_Top']), max(Wells['Comp_Base']), max(Wells['Early_Comp']), max(Wells['Late_Comp'])"
   ]
  },
  {
   "cell_type": "markdown",
   "metadata": {},
   "source": [
    "### The latest completion activity on these 10,000+ wells is Feb 18, 2020."
   ]
  },
  {
   "cell_type": "markdown",
   "metadata": {},
   "source": [
    "#### Save results to file"
   ]
  },
  {
   "cell_type": "code",
   "execution_count": null,
   "metadata": {},
   "outputs": [],
   "source": [
    "Wells.to_csv('WellHeader_with_Completions.csv')"
   ]
  },
  {
   "cell_type": "markdown",
   "metadata": {},
   "source": [
    "### Look at TVD by Direction Well vs All Wells and TVD vs Comp_Top depth"
   ]
  },
  {
   "cell_type": "code",
   "execution_count": null,
   "metadata": {},
   "outputs": [],
   "source": [
    "fig, (ax1) = plt.subplots(1, 1, figsize = (8, 8))\n",
    "\n",
    "plt.scatter(Wells['TotalDepth'], Wells['TVD'], label = 'All Wells with TVD Entry')\n",
    "plt.scatter(Wells['TotalDepth'][Wells['WellProfile']=='Vertical'], Wells['TVD'][Wells['WellProfile']=='Vertical'], label = 'Vertical Wells')\n",
    "plt.scatter(Wells['TotalDepth'][Wells['WellProfile']=='Directional'], Wells['TVD'][Wells['WellProfile']=='Directional'], label = 'Directional Wells')\n",
    "\n",
    "plt.title('Wells TVD vs Total Depth')\n",
    "plt.xlabel('Total Depth')\n",
    "plt.ylabel('TVD')\n",
    "plt.legend()\n",
    "plt.grid()\n",
    "plt.show"
   ]
  },
  {
   "cell_type": "code",
   "execution_count": null,
   "metadata": {},
   "outputs": [],
   "source": [
    "fig, (ax1) = plt.subplots(1, 1, figsize = (8, 8))\n",
    "\n",
    "plt.scatter(Wells['Comp_Top'][Wells['WellProfile']=='Horizontal'], Wells['TVD'][Wells['WellProfile']=='Horizontal'], label = 'Horizontalal Wells')\n",
    "plt.scatter(Wells['Comp_Top'][Wells['WellProfile']=='Vertical'], Wells['TVD'][Wells['WellProfile']=='Vertical'], label = 'Vertical Wells')\n",
    "plt.scatter(Wells['Comp_Top'][Wells['WellProfile']=='Directional'], Wells['TVD'][Wells['WellProfile']=='Directional'], label = 'Directional Wells')\n",
    "\n",
    "plt.title('Wells TVD vs Completion Top')\n",
    "plt.xlabel('Completion Top')\n",
    "plt.ylabel('TVD')\n",
    "plt.legend()\n",
    "plt.grid()\n",
    "plt.show"
   ]
  },
  {
   "cell_type": "markdown",
   "metadata": {},
   "source": [
    "#### Points to the right of the trend indicate horizontal well with completions far from the landing point or the well has a long build section.\n",
    "\n",
    "#### Point to the left possibly indicate completion events still in the dataset related to remedial activities possibly labelled as 'Other'  or less likely uphole comingling."
   ]
  },
  {
   "cell_type": "code",
   "execution_count": null,
   "metadata": {},
   "outputs": [],
   "source": []
  }
 ],
 "metadata": {
  "kernelspec": {
   "display_name": "Python 3",
   "language": "python",
   "name": "python3"
  },
  "language_info": {
   "codemirror_mode": {
    "name": "ipython",
    "version": 3
   },
   "file_extension": ".py",
   "mimetype": "text/x-python",
   "name": "python",
   "nbconvert_exporter": "python",
   "pygments_lexer": "ipython3",
   "version": "3.6.8"
  }
 },
 "nbformat": 4,
 "nbformat_minor": 2
}
