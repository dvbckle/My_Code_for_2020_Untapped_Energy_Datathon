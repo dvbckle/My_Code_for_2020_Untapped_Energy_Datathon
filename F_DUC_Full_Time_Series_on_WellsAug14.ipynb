{
 "cells": [
  {
   "cell_type": "markdown",
   "metadata": {},
   "source": [
    "## DUC DATA PLOT DUCs NUMBER & LOCATION by YEAR-MONTH (MAP & BAR CHART)\n",
    "\n",
    "## CREATE ANIMATION"
   ]
  },
  {
   "cell_type": "code",
   "execution_count": null,
   "metadata": {},
   "outputs": [],
   "source": [
    "# Import libraries\n",
    "import warnings\n",
    "warnings.filterwarnings('ignore')\n",
    "import pandas as pd\n",
    "import numpy as np\n",
    "import matplotlib.pyplot as plt\n",
    "import seaborn as sns\n",
    "from datetime import datetime\n",
    "from datetime import timedelta\n",
    "import matplotlib.ticker as ticker\n",
    "%matplotlib inline"
   ]
  },
  {
   "cell_type": "code",
   "execution_count": null,
   "metadata": {},
   "outputs": [],
   "source": [
    "Wells = pd.read_csv('Well_Header_with_Production.csv')"
   ]
  },
  {
   "cell_type": "code",
   "execution_count": null,
   "metadata": {
    "scrolled": true
   },
   "outputs": [],
   "source": [
    "Wells.head()"
   ]
  },
  {
   "cell_type": "code",
   "execution_count": null,
   "metadata": {},
   "outputs": [],
   "source": [
    "# Convert Date Features in Wells to datetime\n",
    "date_cols = ['SpudDate', 'FinalDrillDate','StatusDate', 'Early_Comp', 'Late_Comp', 'First_Prod', 'Last_Prod','Inferred_Comp_Date']\n",
    "for col in date_cols:\n",
    "    Wells[col] = pd.to_datetime(Wells[col], infer_datetime_format=True)"
   ]
  },
  {
   "cell_type": "markdown",
   "metadata": {},
   "source": [
    "### Add in DUC and DUCish flag for status at the end of the time series."
   ]
  },
  {
   "cell_type": "code",
   "execution_count": null,
   "metadata": {},
   "outputs": [],
   "source": [
    "#DUCs  Drilled / not completed:  Completion Flag = 0, or there is no corresponding inferred completion in the Early_Comp date.\n",
    "# DUCish Drilled , Limited Production, Completed more than 3 months ago\n",
    "\n",
    "Wells['DUCs'] = 1*(Wells['Comp_Flag']==0)*(Wells['Early_Comp']> pd.to_datetime('2020-01-31')) |1*(Wells['Comp_Flag']==0)*(Wells['InferComp_Flag']==0)\n",
    "\n",
    "Wells['DUCish'] = (Wells['Comp_Flag']==1) * (Wells['Production Hours']<=700) *(Wells['Late_Comp']< pd.to_datetime('2019-11-30'))"
   ]
  },
  {
   "cell_type": "code",
   "execution_count": null,
   "metadata": {},
   "outputs": [],
   "source": [
    "print('Duc Count is ', Wells['DUCs'].sum(), ' and DUCish count is ',Wells['DUCish'].sum() )"
   ]
  },
  {
   "cell_type": "code",
   "execution_count": null,
   "metadata": {},
   "outputs": [],
   "source": [
    "cols = ['EPAssetsId', '2015-01-31', '2015-02-28',\n",
    "       '2015-03-31', '2015-04-30', '2015-05-31', '2015-06-30', '2015-07-31',\n",
    "       '2015-08-31', '2015-09-30', '2015-10-31', '2015-11-30', '2015-12-31',\n",
    "       '2016-01-31', '2016-02-29', '2016-03-31', '2016-04-30', '2016-05-31',\n",
    "       '2016-06-30', '2016-07-31', '2016-08-31', '2016-09-30', '2016-10-31',\n",
    "       '2016-11-30', '2016-12-31', '2017-01-31', '2017-02-28', '2017-03-31',\n",
    "       '2017-04-30', '2017-05-31', '2017-06-30', '2017-07-31', '2017-08-31',\n",
    "       '2017-09-30', '2017-10-31', '2017-11-30', '2017-12-31', '2018-01-31',\n",
    "       '2018-02-28', '2018-03-31', '2018-04-30', '2018-05-31', '2018-06-30',\n",
    "       '2018-07-31', '2018-08-31', '2018-09-30', '2018-10-31', '2018-11-30',\n",
    "       '2018-12-31', '2019-01-31', '2019-02-28', '2019-03-31', '2019-04-30',\n",
    "       '2019-05-31', '2019-06-30', '2019-07-31', '2019-08-31', '2019-09-30',\n",
    "       '2019-10-31', '2019-11-30', '2019-12-31', '2020-01-31']"
   ]
  },
  {
   "cell_type": "code",
   "execution_count": null,
   "metadata": {},
   "outputs": [],
   "source": [
    "df=pd.DataFrame(columns = cols)\n",
    "df['EPAssetsId'] = Wells['EPAssetsId']"
   ]
  },
  {
   "cell_type": "code",
   "execution_count": null,
   "metadata": {},
   "outputs": [],
   "source": [
    "Wells = pd.merge(Wells, df, left_on = 'EPAssetsId', right_on = 'EPAssetsId', how = 'outer', sort = False)"
   ]
  },
  {
   "cell_type": "code",
   "execution_count": null,
   "metadata": {},
   "outputs": [],
   "source": [
    "Wells.head()"
   ]
  },
  {
   "cell_type": "code",
   "execution_count": null,
   "metadata": {},
   "outputs": [],
   "source": [
    "Months = ['2015-01-31', '2015-02-28',\n",
    "       '2015-03-31', '2015-04-30', '2015-05-31', '2015-06-30', '2015-07-31',\n",
    "       '2015-08-31', '2015-09-30', '2015-10-31', '2015-11-30', '2015-12-31',\n",
    "       '2016-01-31', '2016-02-29', '2016-03-31', '2016-04-30', '2016-05-31',\n",
    "       '2016-06-30', '2016-07-31', '2016-08-31', '2016-09-30', '2016-10-31',\n",
    "       '2016-11-30', '2016-12-31', '2017-01-31', '2017-02-28', '2017-03-31',\n",
    "       '2017-04-30', '2017-05-31', '2017-06-30', '2017-07-31', '2017-08-31',\n",
    "       '2017-09-30', '2017-10-31', '2017-11-30', '2017-12-31', '2018-01-31',\n",
    "       '2018-02-28', '2018-03-31', '2018-04-30', '2018-05-31', '2018-06-30',\n",
    "       '2018-07-31', '2018-08-31', '2018-09-30', '2018-10-31', '2018-11-30',\n",
    "       '2018-12-31', '2019-01-31', '2019-02-28', '2019-03-31', '2019-04-30',\n",
    "       '2019-05-31', '2019-06-30', '2019-07-31', '2019-08-31', '2019-09-30',\n",
    "       '2019-10-31', '2019-11-30', '2019-12-31', '2020-01-31']"
   ]
  },
  {
   "cell_type": "code",
   "execution_count": null,
   "metadata": {},
   "outputs": [],
   "source": [
    "S_Months = ['2015-Jan', '2015-Feb',\n",
    "       '2015-Mar', '2015-Apr', '2015-May', '2015-Jun', '2015-Jul',\n",
    "       '2015-Aug', '2015-Sep', '2015-Oct', '2015-Nov', '2015-Dec',\n",
    "       '2016-Jan', '2016-Feb', '2016-Mar', '2016-Apr', '2016-May',\n",
    "       '2016-Jun', '2016-Jul', '2016-Aug', '2016-Sep', '2016-Oct',\n",
    "       '2016-Nov', '2016-Dec', '2017-Jan', '2017-Feb', '2017-Mar',\n",
    "       '2017-Apr', '2017-May', '2017-Jun', '2017-Jul', '2017-Aug',\n",
    "       '2017-Sep', '2017-Oct', '2017-Nov', '2017-Dec', '2018-Jan',\n",
    "       '2018-Feb', '2018-Mar', '2018-Apr', '2018-May', '2018-Jun',\n",
    "       '2018-Jul', '2018-Aug', '2018-Sep', '2018-Oct', '2018-Nov',\n",
    "       '2018-Dec', '2019-Jan', '2019-Feb', '2019-Mar', '2019-Apr',\n",
    "       '2019-May', '2019-Jun', '2019-Jul', '2019-Aug', '2019-Sep',\n",
    "       '2019-Oct', '2019-Nov', '2019-Dec', '2020-Jan']"
   ]
  },
  {
   "cell_type": "code",
   "execution_count": null,
   "metadata": {},
   "outputs": [],
   "source": [
    "for Month in Months:\n",
    "    Wells[Month] = 1*( Wells['FinalDrillDate']<=pd.to_datetime(Month) ) - 1*( Wells['Early_Comp']<=pd.to_datetime(Month) )"
   ]
  },
  {
   "cell_type": "code",
   "execution_count": null,
   "metadata": {},
   "outputs": [],
   "source": [
    "Wells.to_csv('Wells_with_DUC_Time_Series.csv')"
   ]
  },
  {
   "cell_type": "code",
   "execution_count": null,
   "metadata": {},
   "outputs": [],
   "source": [
    "Month"
   ]
  },
  {
   "cell_type": "code",
   "execution_count": null,
   "metadata": {},
   "outputs": [],
   "source": [
    "Wells[Wells['2020-01-31']==1].head()"
   ]
  },
  {
   "cell_type": "code",
   "execution_count": null,
   "metadata": {},
   "outputs": [],
   "source": [
    "DUCs_by_Month = []\n",
    "for Month in Months:\n",
    "    DUCs_by_Month.append(sum(Wells[Month]))"
   ]
  },
  {
   "cell_type": "code",
   "execution_count": null,
   "metadata": {},
   "outputs": [],
   "source": [
    "sum(DUCs_by_Month)"
   ]
  },
  {
   "cell_type": "code",
   "execution_count": null,
   "metadata": {},
   "outputs": [],
   "source": [
    "len(Months)"
   ]
  },
  {
   "cell_type": "markdown",
   "metadata": {},
   "source": [
    "### Map and Corresponding Bar Chart by month - Basis for Animation below"
   ]
  },
  {
   "cell_type": "code",
   "execution_count": null,
   "metadata": {
    "scrolled": false
   },
   "outputs": [],
   "source": [
    "month = 25\n",
    "Month = Months[month]\n",
    "S_Month = S_Months[month]\n",
    "colors = ['teal','orange','brown','black','tan','r','b','g','y','m']\n",
    "f_colors = ['b', 'orange', 'g', 'r']\n",
    "fig, (ax1, ax2) = plt.subplots(1, 2, figsize = (16, 11), sharey = False)\n",
    "ax1.scatter(x=Wells['Surf_Longitude'][Wells[Month] == 1][Wells['Type_C']==0][Wells['Formation_C']==0],\n",
    "            y=Wells['Surf_Latitude'][Wells[Month] == 1][Wells['Type_C']==0][Wells['Formation_C']==0], \n",
    "            color = 'b', s = 80, marker = 'o', alpha = 0.5, label = 'Cardium GAS')\n",
    "ax1.scatter(x=Wells['Surf_Longitude'][Wells[Month] == 1][Wells['Type_C']==1][Wells['Formation_C']==0], \n",
    "            y=Wells['Surf_Latitude'][Wells[Month] == 1][Wells['Type_C']==1][Wells['Formation_C']==0],  \n",
    "            color = 'b', s = 80, marker = 'd', alpha = 0.5, label = 'Cardium OIL')\n",
    "ax1.scatter(x=Wells['Surf_Longitude'][Wells[Month] == 1][Wells['Type_C']==0][Wells['Formation_C']==1],\n",
    "            y=Wells['Surf_Latitude'][Wells[Month] == 1][Wells['Type_C']==0][Wells['Formation_C']==1], \n",
    "            color = 'orange', s = 80, marker = 'o', alpha = 0.5, label = 'Duvernay GAS')\n",
    "ax1.scatter(x=Wells['Surf_Longitude'][Wells[Month] == 1][Wells['Type_C']==1][Wells['Formation_C']==1], \n",
    "            y=Wells['Surf_Latitude'][Wells[Month] == 1][Wells['Type_C']==1][Wells['Formation_C']==1],  \n",
    "            color = 'orange', s = 80, marker = 'd', alpha = 0.5, label = 'Duvernay OIL')\n",
    "ax1.scatter(x=Wells['Surf_Longitude'][Wells[Month] == 1][Wells['Type_C']==0][Wells['Formation_C']==2],\n",
    "            y=Wells['Surf_Latitude'][Wells[Month] == 1][Wells['Type_C']==0][Wells['Formation_C']==2], \n",
    "            color = 'g', s = 80, marker = 'o', alpha = 0.5, label = 'Montenay GAS')\n",
    "ax1.scatter(x=Wells['Surf_Longitude'][Wells[Month] == 1][Wells['Type_C']==1][Wells['Formation_C']==2], \n",
    "            y=Wells['Surf_Latitude'][Wells[Month] == 1][Wells['Type_C']==1][Wells['Formation_C']==2],  \n",
    "            color = 'g', s = 80, marker = 'd', alpha = 0.5, label = 'Montenay OIL')\n",
    "ax1.scatter(x=Wells['Surf_Longitude'][Wells[Month] == 1][Wells['Type_C']==0][Wells['Formation_C']==3],\n",
    "            y=Wells['Surf_Latitude'][Wells[Month] == 1][Wells['Type_C']==0][Wells['Formation_C']==3], \n",
    "            color = 'r', s = 80, marker = 'o', alpha = 0.5, label = 'Viking GAS')\n",
    "ax1.scatter(x=Wells['Surf_Longitude'][Wells[Month] == 1][Wells['Type_C']==1][Wells['Formation_C']==3], \n",
    "            y=Wells['Surf_Latitude'][Wells[Month] == 1][Wells['Type_C']==1][Wells['Formation_C']==3],  \n",
    "            color = 'r', s = 80, marker = 'd', alpha = 0.5, label = 'Viking OIL')\n",
    "\n",
    "ax1.set_title(('DUCs Surface Location for Month {}\\nColored by Formation').format(Month), fontsize = 14)\n",
    "ax1.set_xlim(-123.5, -107)\n",
    "ax1.set_ylim(49.5, 58)\n",
    "ax1.grid()\n",
    "\n",
    "ax2.set_title('Cumulative DUCs by Month',fontsize = 14)\n",
    "ax2.bar(S_Months, DUCs_by_Month, color = 'gray')\n",
    "ax2.bar(S_Month, DUCs_by_Month[S_Months.index(S_Month)], color = colors[(S_Months.index(S_Month))%10])\n",
    "#ax2.set_xlabel(rotation=45)\n",
    "ax2.xaxis.set_major_locator(ticker.AutoLocator())\n",
    "ax2.xaxis.set_minor_locator(ticker.AutoMinorLocator())\n",
    "ax2.grid()\n",
    "ax1.legend()\n",
    "plt.show()"
   ]
  },
  {
   "cell_type": "markdown",
   "metadata": {},
   "source": [
    "## Prepare Animation from Map & Bar Chart above"
   ]
  },
  {
   "cell_type": "code",
   "execution_count": null,
   "metadata": {},
   "outputs": [],
   "source": [
    "import matplotlib.animation\n",
    "from IPython.display import HTML"
   ]
  },
  {
   "cell_type": "code",
   "execution_count": null,
   "metadata": {},
   "outputs": [],
   "source": [
    "fig_i,(ax1, ax2) = plt.subplots(nrows = 1, ncols = 2, figsize = (16,11))\n",
    "month = 60\n",
    "\n",
    "def animate(month):\n",
    "    #use cla() to erase previous iteration, then replot axis labels\n",
    "    ax1.cla()\n",
    "    \n",
    "    Month = Months[month]\n",
    "    S_Month = S_Months[month]\n",
    "    colors = ['teal','orange','brown','black','tan','r','b','g','y','m']\n",
    "\n",
    "    ax1.scatter(x=Wells['Surf_Longitude'][Wells[Month] == 1][Wells['Type_C']==0][Wells['Formation_C']==0],\n",
    "                y=Wells['Surf_Latitude'][Wells[Month] == 1][Wells['Type_C']==0][Wells['Formation_C']==0], \n",
    "                color = 'b', s = 80, marker = 'o', alpha = 0.5, label = 'Cardium GAS')\n",
    "    ax1.scatter(x=Wells['Surf_Longitude'][Wells[Month] == 1][Wells['Type_C']==1][Wells['Formation_C']==0], \n",
    "                y=Wells['Surf_Latitude'][Wells[Month] == 1][Wells['Type_C']==1][Wells['Formation_C']==0],  \n",
    "                color = 'b', s = 80, marker = 'd', alpha = 0.5, label = 'Cardium OIL')\n",
    "    ax1.scatter(x=Wells['Surf_Longitude'][Wells[Month] == 1][Wells['Type_C']==0][Wells['Formation_C']==1],\n",
    "                y=Wells['Surf_Latitude'][Wells[Month] == 1][Wells['Type_C']==0][Wells['Formation_C']==1], \n",
    "                color = 'orange', s = 80, marker = 'o', alpha = 0.5, label = 'Duvernay GAS')\n",
    "    ax1.scatter(x=Wells['Surf_Longitude'][Wells[Month] == 1][Wells['Type_C']==1][Wells['Formation_C']==1], \n",
    "                y=Wells['Surf_Latitude'][Wells[Month] == 1][Wells['Type_C']==1][Wells['Formation_C']==1],  \n",
    "                color = 'orange', s = 80, marker = 'd', alpha = 0.5, label = 'Duvernay OIL')\n",
    "    ax1.scatter(x=Wells['Surf_Longitude'][Wells[Month] == 1][Wells['Type_C']==0][Wells['Formation_C']==2],\n",
    "                y=Wells['Surf_Latitude'][Wells[Month] == 1][Wells['Type_C']==0][Wells['Formation_C']==2], \n",
    "                color = 'g', s = 80, marker = 'o', alpha = 0.5, label = 'Montenay GAS')\n",
    "    ax1.scatter(x=Wells['Surf_Longitude'][Wells[Month] == 1][Wells['Type_C']==1][Wells['Formation_C']==2], \n",
    "                y=Wells['Surf_Latitude'][Wells[Month] == 1][Wells['Type_C']==1][Wells['Formation_C']==2],  \n",
    "                color = 'g', s = 80, marker = 'd', alpha = 0.5, label = 'Montenay OIL')\n",
    "    ax1.scatter(x=Wells['Surf_Longitude'][Wells[Month] == 1][Wells['Type_C']==0][Wells['Formation_C']==3],\n",
    "                y=Wells['Surf_Latitude'][Wells[Month] == 1][Wells['Type_C']==0][Wells['Formation_C']==3], \n",
    "                color = 'r', s = 80, marker = 'o', alpha = 0.5, label = 'Viking GAS')\n",
    "    ax1.scatter(x=Wells['Surf_Longitude'][Wells[Month] == 1][Wells['Type_C']==1][Wells['Formation_C']==3], \n",
    "                y=Wells['Surf_Latitude'][Wells[Month] == 1][Wells['Type_C']==1][Wells['Formation_C']==3],  \n",
    "                color = 'r', s = 80, marker = 'd', alpha = 0.5, label = 'Viking OIL')\n",
    "\n",
    "    ax1.set_title(('Surface Location of DUCs for Month {}\\nColored by Formation').format(Month),fontsize = 14)\n",
    "    ax1.set_xlim(-123.5, -107)\n",
    "    ax1.set_ylim(49.5, 58)\n",
    "    ax1.grid()\n",
    "\n",
    "    ax2.set_title('Cumulative DUCs by Month',fontsize = 14)\n",
    "    ax2.bar(S_Months, DUCs_by_Month, color = 'gray')\n",
    "    ax2.bar(S_Month, DUCs_by_Month[S_Months.index(S_Month)], color = colors[(S_Months.index(S_Month))%10])\n",
    "    #ax2.set_xlabel(rotation=45)\n",
    "    ax2.xaxis.set_major_locator(ticker.AutoLocator())\n",
    "    ax2.xaxis.set_minor_locator(ticker.AutoMinorLocator())\n",
    "    ax2.grid()\n",
    "    ax1.legend()\n",
    "\n",
    "#Run animation\n",
    "ani = matplotlib.animation.FuncAnimation(fig_i, animate, frames=range(61), interval=750, repeat_delay=500)\n",
    "\n",
    "\n",
    "#plt.show()\n",
    "#Import HTML Display to view in the Notebook\n",
    "#from IPython.display import HTML\n",
    "HTML(ani.to_jshtml()) "
   ]
  },
  {
   "cell_type": "code",
   "execution_count": null,
   "metadata": {},
   "outputs": [],
   "source": [
    "Wells['MonthsDUC_Status'] = 0\n",
    "for Month in Months:\n",
    "    Wells['MonthsDUC_Status'] = Wells['MonthsDUC_Status'] + Wells[Month]\n"
   ]
  },
  {
   "cell_type": "code",
   "execution_count": null,
   "metadata": {
    "scrolled": true
   },
   "outputs": [],
   "source": [
    "Wells['MonthsDUC_Status'].describe()"
   ]
  },
  {
   "cell_type": "markdown",
   "metadata": {},
   "source": [
    "## There is an error in the data, look at the wells with negative DUC months"
   ]
  },
  {
   "cell_type": "code",
   "execution_count": null,
   "metadata": {},
   "outputs": [],
   "source": [
    "Wells[['EPAssetsId','CurrentOperatorParentName','SpudDate','DaysDrilling','FinalDrillDate','Early_Comp','First_Prod','MonthsDUC_Status']][Wells['MonthsDUC_Status'] == 31]"
   ]
  },
  {
   "cell_type": "code",
   "execution_count": null,
   "metadata": {},
   "outputs": [],
   "source": [
    "# Wells Where Months DUC Status is less than 0\n",
    "\n",
    "Wells[['EPAssetsId','CurrentOperatorParentName','SpudDate','DaysDrilling','FinalDrillDate','Early_Comp','First_Prod','MonthsDUC_Status']][Wells['MonthsDUC_Status'] <0]"
   ]
  },
  {
   "cell_type": "code",
   "execution_count": null,
   "metadata": {},
   "outputs": [],
   "source": [
    "# Wells Where CompletionMonths is Before Final Drill Date\n",
    "\n",
    "Wells[['EPAssetsId','CurrentOperatorParentName','SpudDate','DaysDrilling','FinalDrillDate','Early_Comp','First_Prod','MonthsDUC_Status']][Wells['Early_Comp']<Wells['FinalDrillDate']]"
   ]
  },
  {
   "cell_type": "code",
   "execution_count": null,
   "metadata": {},
   "outputs": [],
   "source": [
    "Wells_to_Correct = Wells['EPAssetsId'][Wells['MonthsDUC_Status'] <0]"
   ]
  },
  {
   "cell_type": "code",
   "execution_count": null,
   "metadata": {},
   "outputs": [],
   "source": [
    "for ID in Wells_to_Correct:\n",
    "    Wells['Early_Comp'][Wells['EPAssetsId']==ID] = Wells['FinalDrillDate'][Wells['EPAssetsId']==ID] + timedelta(days = 7)\n",
    "    print(ID, Wells['Early_Comp'][Wells['EPAssetsId']==ID])\n"
   ]
  },
  {
   "cell_type": "code",
   "execution_count": null,
   "metadata": {},
   "outputs": [],
   "source": [
    "# Check that the completions are after the drill datewell are corrected\n",
    "\n",
    "Wells[['EPAssetsId','CurrentOperatorParentName','SpudDate','DaysDrilling','FinalDrillDate','Early_Comp','First_Prod','MonthsDUC_Status']][Wells['MonthsDUC_Status'] <0]"
   ]
  },
  {
   "cell_type": "markdown",
   "metadata": {},
   "source": [
    "## Re-Do the DUC flag by production  month and recheck"
   ]
  },
  {
   "cell_type": "code",
   "execution_count": null,
   "metadata": {},
   "outputs": [],
   "source": [
    "for Month in Months:\n",
    "    Wells[Month] = 1*( Wells['FinalDrillDate']<=pd.to_datetime(Month) ) - 1*( Wells['Early_Comp']<=pd.to_datetime(Month) )"
   ]
  },
  {
   "cell_type": "code",
   "execution_count": null,
   "metadata": {},
   "outputs": [],
   "source": [
    "Wells['MonthsDUC_Status'] = 0\n",
    "for Month in Months:\n",
    "    Wells['MonthsDUC_Status'] = Wells['MonthsDUC_Status'] + Wells[Month]\n"
   ]
  },
  {
   "cell_type": "code",
   "execution_count": null,
   "metadata": {
    "scrolled": true
   },
   "outputs": [],
   "source": [
    "Wells['MonthsDUC_Status'].describe()"
   ]
  },
  {
   "cell_type": "markdown",
   "metadata": {},
   "source": [
    "## No Negative Months as a DUC"
   ]
  },
  {
   "cell_type": "code",
   "execution_count": null,
   "metadata": {},
   "outputs": [],
   "source": [
    "Wells.to_csv('Wells_with_DUC_Time_Series.csv')"
   ]
  },
  {
   "cell_type": "markdown",
   "metadata": {},
   "source": [
    "# Recycle through the code above and rerun where DUCs by monthe were summed"
   ]
  },
  {
   "cell_type": "code",
   "execution_count": null,
   "metadata": {},
   "outputs": [],
   "source": [
    "Wells[['EPAssetsId','CurrentOperatorParentName','SpudDate','DaysDrilling','FinalDrillDate','Early_Comp','First_Prod','Comp_Flag','InferComp_Flag','MonthsDUC_Status']][Wells['EPAssetsId'] == 42546]"
   ]
  },
  {
   "cell_type": "code",
   "execution_count": null,
   "metadata": {},
   "outputs": [],
   "source": []
  },
  {
   "cell_type": "code",
   "execution_count": null,
   "metadata": {},
   "outputs": [],
   "source": []
  }
 ],
 "metadata": {
  "kernelspec": {
   "display_name": "Python 3",
   "language": "python",
   "name": "python3"
  },
  "language_info": {
   "codemirror_mode": {
    "name": "ipython",
    "version": 3
   },
   "file_extension": ".py",
   "mimetype": "text/x-python",
   "name": "python",
   "nbconvert_exporter": "python",
   "pygments_lexer": "ipython3",
   "version": "3.6.8"
  }
 },
 "nbformat": 4,
 "nbformat_minor": 2
}
