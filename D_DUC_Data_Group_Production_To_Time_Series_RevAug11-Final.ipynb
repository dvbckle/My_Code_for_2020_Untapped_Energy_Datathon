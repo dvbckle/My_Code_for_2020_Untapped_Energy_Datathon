{
 "cells": [
  {
   "cell_type": "markdown",
   "metadata": {},
   "source": [
    "## DUC DATA PRODUCTION INFO TO TIME SERIES"
   ]
  },
  {
   "cell_type": "markdown",
   "metadata": {},
   "source": [
    "### WORKFLOW\n",
    "\n",
    "    - Import Well Production Info\n",
    "    - Group Production file by EPAssetsId and ProdType and pivot to get a time series of Production and Hours\n",
    "    - Sum Hours to cumulative hours to find first month where Hours > 1400 to infer completion date for missing completion     data\n",
    "    - Get time series for each fluid type and BOE in monthly and cumulative tables\n",
    "    - Get an inferred completion date when there are 3 months of reported production (for wells missing hours)\n",
    "    - Get a last month of production date and add as a feature\n",
    "    - Check total \"volumes\"  (volumes and hours against original file\n",
    "    - Save Wells dataframe with cumulative production info\n",
    "    "
   ]
  },
  {
   "cell_type": "code",
   "execution_count": null,
   "metadata": {},
   "outputs": [],
   "source": [
    "# Import libraries\n",
    "import warnings\n",
    "warnings.filterwarnings('ignore')\n",
    "import pandas as pd\n",
    "import numpy as np\n",
    "import matplotlib.pyplot as plt\n",
    "from datetime import datetime\n",
    "%matplotlib inline"
   ]
  },
  {
   "cell_type": "code",
   "execution_count": null,
   "metadata": {},
   "outputs": [],
   "source": [
    "# Load file\n",
    "Prodn = pd.read_csv('WellProduction_No_Duplicates.csv')"
   ]
  },
  {
   "cell_type": "code",
   "execution_count": null,
   "metadata": {},
   "outputs": [],
   "source": [
    "Prodn.head()"
   ]
  },
  {
   "cell_type": "code",
   "execution_count": null,
   "metadata": {},
   "outputs": [],
   "source": [
    "Prodn.drop('Unnamed: 0', axis = 1, inplace = True)"
   ]
  },
  {
   "cell_type": "code",
   "execution_count": null,
   "metadata": {},
   "outputs": [],
   "source": [
    "Prodn.info()"
   ]
  },
  {
   "cell_type": "markdown",
   "metadata": {},
   "source": [
    "### Get number of wells present in each ProdType"
   ]
  },
  {
   "cell_type": "code",
   "execution_count": null,
   "metadata": {},
   "outputs": [],
   "source": [
    "print('Well count with Hours',len(set(Prodn['EPAssetsId'][Prodn['ProdType']=='Production Hours'])))"
   ]
  },
  {
   "cell_type": "code",
   "execution_count": null,
   "metadata": {},
   "outputs": [],
   "source": [
    "print('Well count with Oil Production',len(set(Prodn['EPAssetsId'][Prodn['ProdType']=='Oil Production (Bbls)'])))"
   ]
  },
  {
   "cell_type": "code",
   "execution_count": null,
   "metadata": {},
   "outputs": [],
   "source": [
    "print('Well count with Gas Production',len(set(Prodn['EPAssetsId'][Prodn['ProdType']=='Gas Production (MMcf)'])))"
   ]
  },
  {
   "cell_type": "code",
   "execution_count": null,
   "metadata": {},
   "outputs": [],
   "source": [
    "print('Well count with Condensate Production',len(set(Prodn['EPAssetsId'][Prodn['ProdType']=='Condensate Production (Bbls)'])))"
   ]
  },
  {
   "cell_type": "code",
   "execution_count": null,
   "metadata": {},
   "outputs": [],
   "source": [
    "print('Well count with Water Production',len(set(Prodn['EPAssetsId'][Prodn['ProdType']=='Water Production (Bbls)'])))"
   ]
  },
  {
   "cell_type": "markdown",
   "metadata": {},
   "source": [
    "## Get Time Series for Hours"
   ]
  },
  {
   "cell_type": "markdown",
   "metadata": {},
   "source": [
    "### Hours"
   ]
  },
  {
   "cell_type": "code",
   "execution_count": null,
   "metadata": {},
   "outputs": [],
   "source": [
    "P_Hours = Prodn[Prodn['ProdType']=='Production Hours'].pivot(index = 'EPAssetsId', columns = 'ProdPeriod' ,values = 'Volume').reset_index()\n",
    "\n",
    "P_Hours.head()"
   ]
  },
  {
   "cell_type": "code",
   "execution_count": null,
   "metadata": {},
   "outputs": [],
   "source": [
    "P_Hours.shape"
   ]
  },
  {
   "cell_type": "code",
   "execution_count": null,
   "metadata": {},
   "outputs": [],
   "source": [
    "P_Hours.fillna(0, inplace = True)\n",
    "P_Hours.head()"
   ]
  },
  {
   "cell_type": "code",
   "execution_count": null,
   "metadata": {
    "scrolled": false
   },
   "outputs": [],
   "source": [
    "P_Cum_Hours = pd.DataFrame(columns = P_Hours.columns)\n",
    "P_Cum_Hours['EPAssetsId'] = P_Hours['EPAssetsId']\n",
    "P_Cum_Hours['2015-01-31 00:00:00.000'] = P_Hours['2015-01-31 00:00:00.000']\n",
    "\n",
    "for col in range(2,62):\n",
    "    P_Cum_Hours.iloc[:,col] = P_Cum_Hours.iloc[:,col-1] + P_Hours.iloc[:,col]\n",
    "    \n",
    "P_Cum_Hours.head()"
   ]
  },
  {
   "cell_type": "code",
   "execution_count": null,
   "metadata": {
    "scrolled": false
   },
   "outputs": [],
   "source": [
    "P_Comp_Flag_by_Hours = pd.DataFrame(columns = P_Hours.columns)\n",
    "P_Comp_Flag_by_Hours['EPAssetsId'] = P_Hours['EPAssetsId']\n",
    "P_Comp_Flag_by_Hours['2015-01-31 00:00:00.000'] = 0\n",
    "\n",
    "for col in range(2,62):\n",
    "    P_Comp_Flag_by_Hours.iloc[:,col] = P_Cum_Hours.iloc[:,col]>1400\n",
    "\n",
    "P_Comp_Flag_by_Hours.head()"
   ]
  },
  {
   "cell_type": "code",
   "execution_count": null,
   "metadata": {},
   "outputs": [],
   "source": []
  },
  {
   "cell_type": "code",
   "execution_count": null,
   "metadata": {},
   "outputs": [],
   "source": [
    "# Get a Flag for when the effective completion date (month) is based on \n",
    "#    cumulative hours > 1400 as denoted P_Comp_Flag_by_Hours.  Code saves a 1 when status changes.\n",
    "P_Comp_Flag = pd.DataFrame(columns = P_Hours.columns)\n",
    "P_Comp_Flag['EPAssetsId'] = P_Hours['EPAssetsId']\n",
    "P_Comp_Flag.fillna( 0, inplace = True)\n",
    "\n",
    "for col in range(2,62):\n",
    "    P_Comp_Flag.iloc[:,col] = 1*(P_Comp_Flag_by_Hours.iloc[:,col-1] <  P_Comp_Flag_by_Hours.iloc[:,col])\n",
    "P_Comp_Flag.head()"
   ]
  },
  {
   "cell_type": "code",
   "execution_count": null,
   "metadata": {
    "scrolled": true
   },
   "outputs": [],
   "source": [
    "# Convert the status change flag to a month date two months prior from the column index\n",
    "#   If there is no change in status the effective completion is set to Dec 2021\n",
    "CompDates = []\n",
    "Months = P_Comp_Flag.columns\n",
    "for row in range(len(P_Comp_Flag)):\n",
    "    if True in list(P_Comp_Flag.iloc[row,:]):\n",
    "        CompDates.append(Months[(list(P_Comp_Flag.iloc[row,:]).index(True))-2])\n",
    "    else:\n",
    "        CompDates.append('2020-12-31 00:00:00.000')\n",
    "CompDates[0:5]"
   ]
  },
  {
   "cell_type": "code",
   "execution_count": null,
   "metadata": {},
   "outputs": [],
   "source": [
    "CompDates[195:200]"
   ]
  },
  {
   "cell_type": "code",
   "execution_count": null,
   "metadata": {},
   "outputs": [],
   "source": [
    "P_Comp_Flag['Inferred_Comp_Date'] = CompDates"
   ]
  },
  {
   "cell_type": "code",
   "execution_count": null,
   "metadata": {
    "scrolled": false
   },
   "outputs": [],
   "source": [
    "P_Comp_Flag.head()"
   ]
  },
  {
   "cell_type": "markdown",
   "metadata": {},
   "source": [
    "## Add the Inferred Completion Date to the Hours and Cumulative Hours Time Series and Save"
   ]
  },
  {
   "cell_type": "code",
   "execution_count": null,
   "metadata": {},
   "outputs": [],
   "source": [
    "P_Hours['Inferred_Comp_Date'] = CompDates\n",
    "P_Hours.to_csv('ProdHours_Time_Series.csv')"
   ]
  },
  {
   "cell_type": "code",
   "execution_count": null,
   "metadata": {},
   "outputs": [],
   "source": [
    "P_Cum_Hours['Inferred_Comp_Date'] = CompDates\n",
    "P_Cum_Hours.to_csv('Cum_ProdHours_Time_Series.csv')"
   ]
  },
  {
   "cell_type": "code",
   "execution_count": null,
   "metadata": {},
   "outputs": [],
   "source": [
    "P_Comp_Flag.to_csv('ProdHours_Inferred_Completion_Flag.csv')"
   ]
  },
  {
   "cell_type": "markdown",
   "metadata": {},
   "source": [
    "## Get Time Series for Gas"
   ]
  },
  {
   "cell_type": "code",
   "execution_count": null,
   "metadata": {},
   "outputs": [],
   "source": [
    "P_Gas = Prodn[Prodn['ProdType']=='Gas Production (MMcf)'].pivot(index = 'EPAssetsId', columns = 'ProdPeriod' ,values = 'Volume').reset_index()\n",
    "\n",
    "P_Gas.head()"
   ]
  },
  {
   "cell_type": "code",
   "execution_count": null,
   "metadata": {},
   "outputs": [],
   "source": [
    "P_Gas.shape"
   ]
  },
  {
   "cell_type": "code",
   "execution_count": null,
   "metadata": {},
   "outputs": [],
   "source": [
    "P_Gas.fillna(0, inplace = True)\n",
    "P_Gas.head()"
   ]
  },
  {
   "cell_type": "code",
   "execution_count": null,
   "metadata": {
    "scrolled": true
   },
   "outputs": [],
   "source": [
    "P_Cum_Gas = pd.DataFrame(columns = P_Gas.columns)\n",
    "P_Cum_Gas['EPAssetsId'] = P_Gas['EPAssetsId']\n",
    "P_Cum_Gas['2015-01-31 00:00:00.000'] = P_Gas['2015-01-31 00:00:00.000']\n",
    "\n",
    "for col in range(2,62):\n",
    "    P_Cum_Gas.iloc[:,col] = P_Cum_Gas.iloc[:,col-1] + P_Gas.iloc[:,col]\n",
    "    \n",
    "P_Cum_Gas.head()"
   ]
  },
  {
   "cell_type": "markdown",
   "metadata": {},
   "source": [
    "## Get Time Series for Oil"
   ]
  },
  {
   "cell_type": "code",
   "execution_count": null,
   "metadata": {},
   "outputs": [],
   "source": [
    "P_Oil = Prodn[Prodn['ProdType']=='Oil Production (Bbls)'].pivot(index = 'EPAssetsId', columns = 'ProdPeriod' ,values = 'Volume').reset_index()\n",
    "\n",
    "P_Oil.head()"
   ]
  },
  {
   "cell_type": "code",
   "execution_count": null,
   "metadata": {},
   "outputs": [],
   "source": [
    "P_Oil.tail()"
   ]
  },
  {
   "cell_type": "code",
   "execution_count": null,
   "metadata": {},
   "outputs": [],
   "source": [
    "P_Oil.shape"
   ]
  },
  {
   "cell_type": "code",
   "execution_count": null,
   "metadata": {
    "scrolled": true
   },
   "outputs": [],
   "source": [
    "P_Oil.fillna(0, inplace = True)\n",
    "P_Oil.head()"
   ]
  },
  {
   "cell_type": "code",
   "execution_count": null,
   "metadata": {
    "scrolled": true
   },
   "outputs": [],
   "source": [
    "P_Cum_Oil = pd.DataFrame(columns = P_Oil.columns)\n",
    "P_Cum_Oil['EPAssetsId'] = P_Oil['EPAssetsId']\n",
    "P_Cum_Oil['2015-01-31 00:00:00.000'] = P_Oil['2015-01-31 00:00:00.000']\n",
    "\n",
    "for col in range(2,62):\n",
    "    P_Cum_Oil.iloc[:,col] = P_Cum_Oil.iloc[:,col-1] + P_Oil.iloc[:,col]\n",
    "    \n",
    "P_Cum_Oil.head()"
   ]
  },
  {
   "cell_type": "code",
   "execution_count": null,
   "metadata": {},
   "outputs": [],
   "source": []
  },
  {
   "cell_type": "markdown",
   "metadata": {},
   "source": [
    "## Get Time Series for Condensate"
   ]
  },
  {
   "cell_type": "code",
   "execution_count": null,
   "metadata": {},
   "outputs": [],
   "source": [
    "P_Cond = Prodn[Prodn['ProdType']=='Condensate Production (Bbls)'].pivot(index = 'EPAssetsId', columns = 'ProdPeriod' ,values = 'Volume').reset_index()\n",
    "\n",
    "P_Cond.head()"
   ]
  },
  {
   "cell_type": "code",
   "execution_count": null,
   "metadata": {},
   "outputs": [],
   "source": [
    "P_Cond.shape"
   ]
  },
  {
   "cell_type": "code",
   "execution_count": null,
   "metadata": {},
   "outputs": [],
   "source": [
    "P_Cond.fillna(0, inplace = True)\n",
    "P_Cond.head()"
   ]
  },
  {
   "cell_type": "code",
   "execution_count": null,
   "metadata": {
    "scrolled": false
   },
   "outputs": [],
   "source": [
    "P_Cum_Cond = pd.DataFrame(columns = P_Cond.columns)\n",
    "P_Cum_Cond['EPAssetsId'] = P_Cond['EPAssetsId']\n",
    "P_Cum_Cond['2015-02-28 00:00:00.000'] = P_Cond['2015-02-28 00:00:00.000']\n",
    "\n",
    "for col in range(2,61):\n",
    "    P_Cum_Cond.iloc[:,col] = P_Cum_Cond.iloc[:,col-1] + P_Cond.iloc[:,col]\n",
    "    \n",
    "P_Cum_Cond.head()"
   ]
  },
  {
   "cell_type": "markdown",
   "metadata": {},
   "source": [
    "## Get Time Series for Water"
   ]
  },
  {
   "cell_type": "code",
   "execution_count": null,
   "metadata": {},
   "outputs": [],
   "source": [
    "P_Water = Prodn[Prodn['ProdType']=='Water Production (Bbls)'].pivot(index = 'EPAssetsId', columns = 'ProdPeriod' ,values = 'Volume').reset_index()\n",
    "\n",
    "P_Water.head()"
   ]
  },
  {
   "cell_type": "code",
   "execution_count": null,
   "metadata": {},
   "outputs": [],
   "source": [
    "P_Water.shape"
   ]
  },
  {
   "cell_type": "code",
   "execution_count": null,
   "metadata": {},
   "outputs": [],
   "source": [
    "P_Water.fillna(0, inplace = True)\n",
    "P_Water.head()"
   ]
  },
  {
   "cell_type": "code",
   "execution_count": null,
   "metadata": {
    "scrolled": false
   },
   "outputs": [],
   "source": [
    "P_Cum_Water = pd.DataFrame(columns = P_Water.columns)\n",
    "P_Cum_Water['EPAssetsId'] = P_Water['EPAssetsId']\n",
    "P_Cum_Water['2015-01-31 00:00:00.000'] = P_Water['2015-01-31 00:00:00.000']\n",
    "\n",
    "for col in range(2,62):\n",
    "    P_Cum_Water.iloc[:,col] = P_Cum_Water.iloc[:,col-1] + P_Water.iloc[:,col]\n",
    "    \n",
    "P_Cum_Water.head()"
   ]
  },
  {
   "cell_type": "markdown",
   "metadata": {},
   "source": [
    "## Save Monthly and Cumulative Production for Gas, Oil, Condensate & Water"
   ]
  },
  {
   "cell_type": "code",
   "execution_count": null,
   "metadata": {},
   "outputs": [],
   "source": [
    "P_Gas.to_csv('GasProd_Time_Series.csv')\n",
    "P_Cum_Gas.to_csv('Cum_GasProd_Time_Series.csv')"
   ]
  },
  {
   "cell_type": "code",
   "execution_count": null,
   "metadata": {},
   "outputs": [],
   "source": [
    "P_Oil.to_csv('OilProd_Time_Series.csv')\n",
    "P_Cum_Oil.to_csv('Cum_OilProd_Time_Series.csv')"
   ]
  },
  {
   "cell_type": "code",
   "execution_count": null,
   "metadata": {},
   "outputs": [],
   "source": [
    "P_Cond.to_csv('CondProd_Time_Series.csv')\n",
    "P_Cum_Cond.to_csv('Cum_CondProd_Time_Series.csv')"
   ]
  },
  {
   "cell_type": "code",
   "execution_count": null,
   "metadata": {},
   "outputs": [],
   "source": [
    "P_Water.to_csv('WaterProd_Time_Series.csv')\n",
    "P_Cum_Water.to_csv('Cum_WaterProd_Time_Series.csv')"
   ]
  },
  {
   "cell_type": "markdown",
   "metadata": {},
   "source": [
    "## Check total sum of all volumes - matches  total of original Production file"
   ]
  },
  {
   "cell_type": "code",
   "execution_count": null,
   "metadata": {},
   "outputs": [],
   "source": [
    "col = '2020-01-31 00:00:00.000'\n",
    "S = sum(P_Cum_Hours[col]) +sum(P_Cum_Oil[col]) + sum(P_Cum_Gas[col]) + sum(P_Cum_Cond[col]) + sum(P_Cum_Water[col])\n",
    "S"
   ]
  },
  {
   "cell_type": "markdown",
   "metadata": {},
   "source": [
    "## Get Total Production BOE"
   ]
  },
  {
   "cell_type": "markdown",
   "metadata": {},
   "source": [
    "### There are 10,386 Wells in the Production Data, but only 10,374 have Gas production and 10,196 have Hours recorded.  Fewer instances in Oil, Condensate, & Water\n",
    "\n",
    "#### So all EPAssetId's are not represented in all subsets."
   ]
  },
  {
   "cell_type": "markdown",
   "metadata": {},
   "source": [
    "## Convert Gas to BOE"
   ]
  },
  {
   "cell_type": "code",
   "execution_count": null,
   "metadata": {
    "scrolled": false
   },
   "outputs": [],
   "source": [
    "P_Gas_BOE = pd.DataFrame(columns = P_Gas.columns)\n",
    "P_Gas_BOE['EPAssetsId'] = P_Gas['EPAssetsId']\n",
    "for col in P_Gas.columns:\n",
    "    if col != 'EPAssetsId':\n",
    "        P_Gas_BOE[col] = P_Gas[col]*1000/6\n",
    "\n",
    "P_Gas_BOE.head()"
   ]
  },
  {
   "cell_type": "code",
   "execution_count": null,
   "metadata": {},
   "outputs": [],
   "source": [
    "# Save Gas as BOE\n",
    "P_Gas_BOE.to_csv('P_Gas_as_BOE.csv')"
   ]
  },
  {
   "cell_type": "code",
   "execution_count": null,
   "metadata": {},
   "outputs": [],
   "source": [
    "Liq = P_Oil.append(P_Cond, ignore_index=True)\n",
    "Liq.head()"
   ]
  },
  {
   "cell_type": "code",
   "execution_count": null,
   "metadata": {
    "scrolled": true
   },
   "outputs": [],
   "source": [
    "Liq.info()"
   ]
  },
  {
   "cell_type": "code",
   "execution_count": null,
   "metadata": {},
   "outputs": [],
   "source": [
    "BOE = Liq.append(P_Gas_BOE, ignore_index=True)"
   ]
  },
  {
   "cell_type": "code",
   "execution_count": null,
   "metadata": {
    "scrolled": true
   },
   "outputs": [],
   "source": [
    "P_BOE = BOE.groupby('EPAssetsId').sum()\n",
    "P_BOE.head()"
   ]
  },
  {
   "cell_type": "code",
   "execution_count": null,
   "metadata": {},
   "outputs": [],
   "source": [
    "P_BOE.index = range(P_BOE.shape[0])\n",
    "P_BOE.head()"
   ]
  },
  {
   "cell_type": "code",
   "execution_count": null,
   "metadata": {},
   "outputs": [],
   "source": [
    "P_BOE.info()"
   ]
  },
  {
   "cell_type": "code",
   "execution_count": null,
   "metadata": {},
   "outputs": [],
   "source": [
    "# Save P_BOE by month\n",
    "P_BOE.to_csv('BOEProd_Time_Series.csv')"
   ]
  },
  {
   "cell_type": "markdown",
   "metadata": {},
   "source": [
    "### Get BOE as Cumulative BOE"
   ]
  },
  {
   "cell_type": "code",
   "execution_count": null,
   "metadata": {},
   "outputs": [],
   "source": [
    "P_Cum_BOE = pd.DataFrame(columns = P_Oil.columns)\n",
    "P_Cum_BOE['EPAssetsId'] = P_BOE['EPAssetsId']\n",
    "P_Cum_BOE['2015-01-31 00:00:00.000'] = P_BOE['2015-01-31 00:00:00.000']\n",
    "\n",
    "for col in range(2,62):\n",
    "    P_Cum_BOE.iloc[:,col] = P_Cum_BOE.iloc[:,col-1] + P_BOE.iloc[:,col-1]\n",
    "    \n",
    "P_Cum_BOE.head()"
   ]
  },
  {
   "cell_type": "code",
   "execution_count": null,
   "metadata": {},
   "outputs": [],
   "source": [
    "P_Cum_BOE.tail()"
   ]
  },
  {
   "cell_type": "code",
   "execution_count": null,
   "metadata": {},
   "outputs": [],
   "source": []
  },
  {
   "cell_type": "code",
   "execution_count": null,
   "metadata": {},
   "outputs": [],
   "source": [
    "#Save Cumulative BOE \n",
    "P_Cum_BOE.to_csv('Cum_BOEProd_Time_Series.csv')"
   ]
  },
  {
   "cell_type": "code",
   "execution_count": null,
   "metadata": {},
   "outputs": [],
   "source": []
  },
  {
   "cell_type": "markdown",
   "metadata": {},
   "source": [
    "## Get Inferred Completion Month from Cumulative Production for missing date for Wells Without Hours"
   ]
  },
  {
   "cell_type": "code",
   "execution_count": null,
   "metadata": {
    "scrolled": true
   },
   "outputs": [],
   "source": [
    "P_Comp_Flag_by_BOE = pd.DataFrame(columns = P_Cum_BOE.columns)\n",
    "P_Comp_Flag_by_BOE['EPAssetsId'] = P_Cum_BOE['EPAssetsId']\n",
    "P_Comp_Flag_by_BOE['2015-01-31 00:00:00.000'] = P_Cum_BOE['2015-01-31 00:00:00.000'] > 0\n",
    "\n",
    "for col in range(2,62):\n",
    "    P_Comp_Flag_by_BOE.iloc[:,col] = P_Cum_BOE.iloc[:,col]>P_Cum_BOE.iloc[:,col-1]\n",
    "\n",
    "P_Comp_Flag_by_BOE.head()"
   ]
  },
  {
   "cell_type": "code",
   "execution_count": null,
   "metadata": {},
   "outputs": [],
   "source": [
    "P_Comp_Flag_by_BOE.tail()"
   ]
  },
  {
   "cell_type": "code",
   "execution_count": null,
   "metadata": {},
   "outputs": [],
   "source": [
    "\n",
    "P_Comp_Flag_by_BOE['2015-01-31 00:00:00.000'] = 1 * (P_Comp_Flag_by_BOE['2015-01-31 00:00:00.000'] == True )\n",
    "\n",
    "for col in range(2,62):\n",
    "    P_Comp_Flag_by_BOE.iloc[:,col] = 1 * (P_Comp_Flag_by_BOE.iloc[:,col] == True ) + P_Comp_Flag_by_BOE.iloc[:,col-1]\n",
    "\n",
    "P_Comp_Flag_by_BOE.head()"
   ]
  },
  {
   "cell_type": "code",
   "execution_count": null,
   "metadata": {},
   "outputs": [],
   "source": [
    "P_Comp_Flag_by_BOE.tail()"
   ]
  },
  {
   "cell_type": "code",
   "execution_count": null,
   "metadata": {},
   "outputs": [],
   "source": [
    "# Convert where the status flag reaches 3 to a month date two months prior from the column index\n",
    "#   If there is not 3 months of increasing cumulative production the effective completion is set to Dec 2021\n",
    "CompDates_by_BOE = []\n",
    "Months = P_Comp_Flag_by_BOE.columns\n",
    "for row in range(len(P_Comp_Flag_by_BOE)):\n",
    "    if 3 in list(P_Comp_Flag_by_BOE.iloc[row,1:]):\n",
    "        CompDates_by_BOE.append(Months[(list(P_Comp_Flag_by_BOE.iloc[row,:]).index(3))-2])\n",
    "    else:\n",
    "        CompDates_by_BOE.append('2020-12-31 00:00:00.000')\n",
    "CompDates_by_BOE[0:5]"
   ]
  },
  {
   "cell_type": "code",
   "execution_count": null,
   "metadata": {},
   "outputs": [],
   "source": [
    "'EPAssetsId' in CompDates_by_BOE"
   ]
  },
  {
   "cell_type": "code",
   "execution_count": null,
   "metadata": {},
   "outputs": [],
   "source": [
    "P_Comp_Flag_by_BOE['Inferred_Comp_Date'] = CompDates_by_BOE\n",
    "P_Comp_Flag_by_BOE.head()"
   ]
  },
  {
   "cell_type": "code",
   "execution_count": null,
   "metadata": {},
   "outputs": [],
   "source": [
    "P_Comp_Flag_by_BOE.tail()"
   ]
  },
  {
   "cell_type": "code",
   "execution_count": null,
   "metadata": {},
   "outputs": [],
   "source": [
    "# Convert the status flag to the last month of production from the maximum sum of increasing cumulative prod by month\n",
    "#   If there is no production, last prod'n is set to Dec 2021\n",
    "LastProd_by_BOE = []\n",
    "Months = P_Comp_Flag_by_BOE.columns\n",
    "for row in range(len(P_Comp_Flag_by_BOE)):\n",
    "    if 1 in list(P_Comp_Flag_by_BOE.iloc[row,1:62]):\n",
    "        Max = np.max(P_Comp_Flag_by_BOE.iloc[row,1:62])\n",
    "        LastProd_by_BOE.append(Months[(list(P_Comp_Flag_by_BOE.iloc[row,:]).index(Max))])\n",
    "    else:\n",
    "        CompDates_by_BOE.append('2020-12-31 00:00:00.000')\n",
    "LastProd_by_BOE[0:5]"
   ]
  },
  {
   "cell_type": "code",
   "execution_count": null,
   "metadata": {},
   "outputs": [],
   "source": [
    "'EPAssetsId' in LastProd_by_BOE"
   ]
  },
  {
   "cell_type": "code",
   "execution_count": null,
   "metadata": {},
   "outputs": [],
   "source": [
    "P_Comp_Flag_by_BOE['Last_Prod']=LastProd_by_BOE"
   ]
  },
  {
   "cell_type": "code",
   "execution_count": null,
   "metadata": {},
   "outputs": [],
   "source": [
    "P_Comp_Flag_by_BOE.to_csv('Prod_by_BOE_Inferred_Completion_Flag.csv')"
   ]
  },
  {
   "cell_type": "markdown",
   "metadata": {},
   "source": [
    "## Final check  on Volumes"
   ]
  },
  {
   "cell_type": "code",
   "execution_count": null,
   "metadata": {},
   "outputs": [],
   "source": [
    "# Sum of separate volumes by ProdType was correct.  So cross check that separate volumes total the Cum BOE volumes\n",
    "\n",
    "col = '2020-01-31 00:00:00.000'\n",
    "S =  sum(P_Cum_Oil[col]) + sum(P_Cum_Gas[col])*1000/6 + sum(P_Cum_Cond[col])\n",
    "S, sum(P_Cum_BOE[col])"
   ]
  },
  {
   "cell_type": "markdown",
   "metadata": {},
   "source": [
    "## Volumes match"
   ]
  }
 ],
 "metadata": {
  "kernelspec": {
   "display_name": "Python 3",
   "language": "python",
   "name": "python3"
  },
  "language_info": {
   "codemirror_mode": {
    "name": "ipython",
    "version": 3
   },
   "file_extension": ".py",
   "mimetype": "text/x-python",
   "name": "python",
   "nbconvert_exporter": "python",
   "pygments_lexer": "ipython3",
   "version": "3.6.8"
  }
 },
 "nbformat": 4,
 "nbformat_minor": 2
}
