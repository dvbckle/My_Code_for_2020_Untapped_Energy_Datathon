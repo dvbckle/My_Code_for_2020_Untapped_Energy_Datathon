{
 "cells": [
  {
   "cell_type": "markdown",
   "metadata": {},
   "source": [
    "# DUC Datathon: EDA on DUCs & Classification / Regression Models for DUC prediction."
   ]
  },
  {
   "cell_type": "markdown",
   "metadata": {},
   "source": [
    "## WorkFlow\n",
    "    - Load Well data with time series DUC information\n",
    "    - EDA Histograms, Box Plots etc.\n",
    "    - Parse data into Train / Test set and a unseen validation set\n",
    "    - Build a model to investigate the applicabiity to predict the duration a well will be a DUC.  Predict on a subset of    the entire time series. \n",
    "        - Run variations with & without TVD.\n",
    "     - If successful, train a model on the first 60% of the time series and predict the remaining 40% of the time series to see if DUC inventory can be predicted with future area drilling plans.  \n",
    "        - Train and forecast on projected depth, then compare with Train on actual Total Depth, and predict on Projected    Depth to mimic information available on planned, but undrilled wells."
   ]
  },
  {
   "cell_type": "code",
   "execution_count": null,
   "metadata": {},
   "outputs": [],
   "source": [
    "# Import libraries\n",
    "import warnings\n",
    "warnings.filterwarnings('ignore')\n",
    "import pandas as pd\n",
    "import numpy as np\n",
    "import matplotlib.pyplot as plt\n",
    "import seaborn as sns\n",
    "from datetime import datetime\n",
    "from datetime import timedelta\n",
    "import matplotlib.ticker as ticker\n",
    "%matplotlib inline"
   ]
  },
  {
   "cell_type": "code",
   "execution_count": null,
   "metadata": {},
   "outputs": [],
   "source": [
    "Wells = pd.read_csv('Wells_with_DUC_Time_Series.csv')"
   ]
  },
  {
   "cell_type": "code",
   "execution_count": null,
   "metadata": {},
   "outputs": [],
   "source": [
    "Wells.head()"
   ]
  },
  {
   "cell_type": "code",
   "execution_count": null,
   "metadata": {},
   "outputs": [],
   "source": [
    "Wells.drop(['Unnamed: 0','Unnamed: 0.1'], axis =1, inplace = True)"
   ]
  },
  {
   "cell_type": "code",
   "execution_count": null,
   "metadata": {},
   "outputs": [],
   "source": [
    "# Convert Date Features in Wells to datetime\n",
    "date_cols = ['SpudDate', 'FinalDrillDate','StatusDate', 'Early_Comp', 'Late_Comp', 'First_Prod', 'Last_Prod', 'Inferred_Comp_Date']\n",
    "for col in date_cols:\n",
    "    Wells[col] = pd.to_datetime(Wells[col], infer_datetime_format=True)"
   ]
  },
  {
   "cell_type": "markdown",
   "metadata": {},
   "source": [
    "## Load a copy of Wells to use as a placeholder for model prediction and comparison on entire Cumulative DUCs"
   ]
  },
  {
   "cell_type": "code",
   "execution_count": null,
   "metadata": {},
   "outputs": [],
   "source": [
    "df_R = pd.read_csv('Wells_with_DUC_Time_Series.csv')"
   ]
  },
  {
   "cell_type": "code",
   "execution_count": null,
   "metadata": {},
   "outputs": [],
   "source": [
    "df_R.drop(['Unnamed: 0','Unnamed: 0.1'], axis =1, inplace = True)"
   ]
  },
  {
   "cell_type": "code",
   "execution_count": null,
   "metadata": {},
   "outputs": [],
   "source": [
    "# Convert Date Features in Wells to datetime\n",
    "date_cols = ['SpudDate', 'FinalDrillDate','StatusDate', 'Early_Comp', 'Late_Comp', 'First_Prod', 'Last_Prod', 'Inferred_Comp_Date']\n",
    "for col in date_cols:\n",
    "    df_R[col] = pd.to_datetime(df_R[col], infer_datetime_format=True)"
   ]
  },
  {
   "cell_type": "code",
   "execution_count": null,
   "metadata": {},
   "outputs": [],
   "source": [
    "Wells.columns[0:40]"
   ]
  },
  {
   "cell_type": "code",
   "execution_count": null,
   "metadata": {},
   "outputs": [],
   "source": [
    "Wells[['WellType', 'WellTypeStandardised',\n",
    "       'KBElevation', 'TotalDepth', 'SpudDate', 'FinalDrillDate', 'RigReleaseDate',\n",
    "       'DaysDrilling', 'TVD', 'WellProfile', 'Formation_C', 'Comp_Top', 'Early_Comp',\n",
    "       'Comp_Base', 'TotalProd(BOE)','MonthsDUC_Status']].describe()"
   ]
  },
  {
   "cell_type": "code",
   "execution_count": null,
   "metadata": {},
   "outputs": [],
   "source": [
    "sum(Wells['MonthsDUC_Status']==0), sum(Wells['MonthsDUC_Status']==1), sum(Wells['MonthsDUC_Status']==2), sum(Wells['MonthsDUC_Status']>2)"
   ]
  },
  {
   "cell_type": "code",
   "execution_count": null,
   "metadata": {},
   "outputs": [],
   "source": [
    "plt.figure(figsize=(12,5)) \n",
    "sns.distplot(Wells['MonthsDUC_Status'], bins = 31, color = 'tab:blue', label = 'DUC Months - All Wells', kde = False)\n",
    "sns.distplot(Wells['MonthsDUC_Status'][Wells['Type_C']==0], bins = 31, color = 'tab:red', label = 'DUC Months - GAS', kde = False)\n",
    "sns.distplot(Wells['MonthsDUC_Status'][Wells['Type_C']==1], bins = 31, color = 'tab:green', label = 'DUC Months - OIL', kde = False)\n",
    "\n",
    "plt.title('Histogram of Total Months a Well is a DUC')\n",
    "plt.grid()\n",
    "plt.legend()\n",
    "plt.show()"
   ]
  },
  {
   "cell_type": "code",
   "execution_count": null,
   "metadata": {},
   "outputs": [],
   "source": [
    "plt.figure(figsize=(12,5)) \n",
    "sns.distplot(Wells['MonthsDUC_Status'][Wells['Type_C']==0], bins = 31, color = 'tab:red', label = 'DUC Months - GAS', kde = False)\n",
    "sns.distplot(Wells['MonthsDUC_Status'][Wells['Type_C']==1], bins = 31, color = 'tab:green', label = 'DUC Months - OIL', kde = False)\n",
    "\n",
    "plt.title('Histogram of Total Months that a Well is a DUC, GAS & OIL')\n",
    "plt.grid()\n",
    "plt.legend()\n",
    "plt.show()"
   ]
  },
  {
   "cell_type": "code",
   "execution_count": null,
   "metadata": {},
   "outputs": [],
   "source": [
    "plt.figure(figsize=(12,5)) \n",
    "sns.distplot(Wells['MonthsDUC_Status'][Wells['Formation_C']==2], bins = 31, color = 'tab:green', label = 'DUC Months - Montney', kde = False)\n",
    "\n",
    "plt.title('Histogram of Total Months a Well is a DUC')\n",
    "plt.xlim(0,15)\n",
    "plt.grid()\n",
    "plt.legend()\n",
    "plt.show()"
   ]
  },
  {
   "cell_type": "code",
   "execution_count": null,
   "metadata": {},
   "outputs": [],
   "source": [
    "plt.figure(figsize=(12,5)) \n",
    "sns.distplot(Wells['MonthsDUC_Status'][Wells['Formation_C']==2][Wells['Type_C']==1], bins = 31, color = 'tab:green', label = 'DUC Months - Montney OIL', kde = False)\n",
    "sns.distplot(Wells['MonthsDUC_Status'][Wells['Formation_C']==3][Wells['Type_C']==1], bins = 31, color = 'tab:red', label = 'DUC Months - Viking OIL', kde = False)\n",
    "sns.distplot(Wells['MonthsDUC_Status'][Wells['Formation_C']==0][Wells['Type_C']==1], bins = 31, color = 'tab:blue', label = 'DUC Months - Cardium OIL', kde = False)\n",
    "sns.distplot(Wells['MonthsDUC_Status'][Wells['Formation_C']==1][Wells['Type_C']==1], bins = 31, color = 'orange', label = 'DUC Months - Duvernay OIL', kde = False)\n",
    "\n",
    "plt.title('Histogram of Total Months an OIL Well is a DUC')\n",
    "plt.xlim(0,15)\n",
    "plt.grid()\n",
    "plt.legend()\n",
    "plt.show()"
   ]
  },
  {
   "cell_type": "markdown",
   "metadata": {},
   "source": [
    "### Get a stacked histogram binned by DUC-months with colors matching Tableau Presentation color scheme"
   ]
  },
  {
   "cell_type": "code",
   "execution_count": null,
   "metadata": {},
   "outputs": [],
   "source": [
    "Cardium = []\n",
    "Duvernay = []\n",
    "Montney = []\n",
    "Viking = []\n",
    "\n",
    "Names = [Cardium, Duvernay, Montney, Viking]\n",
    "for Form in range(4):\n",
    "    for DucMonth in range(31):\n",
    "        val = len(Wells['MonthsDUC_Status'][Wells['MonthsDUC_Status'] == DucMonth][Wells['Formation_C']==Form])\n",
    "        Names[Form].append(val)\n"
   ]
  },
  {
   "cell_type": "code",
   "execution_count": null,
   "metadata": {
    "scrolled": true
   },
   "outputs": [],
   "source": [
    "plt.figure(figsize=(12,5))\n",
    "plt.bar(range(31), Names[3], color = 'gold', label = \"Viking\")\n",
    "plt.bar(range(31), Names[2], color = 'purple', label = 'Montney')\n",
    "plt.bar(range(31), Names[0], color = 'b', label = 'Cardium')\n",
    "plt.bar(range(31), Names[1], color = 'orange', label = 'Duvernay')\n",
    "plt.title('Histogram of Total Months a Well is a DUC, by Formation', fontsize = 16, weight = 'bold')\n",
    "plt.xlim(-1,25)\n",
    "plt.legend()\n",
    "plt.grid()\n",
    "plt.show()"
   ]
  },
  {
   "cell_type": "markdown",
   "metadata": {},
   "source": [
    "### Although the values are much lower for months 3 and above than for months 0 and 1, the number of wells are still significant and contribute to the ongoing inventory of DUCs."
   ]
  },
  {
   "cell_type": "code",
   "execution_count": null,
   "metadata": {},
   "outputs": [],
   "source": [
    "# Display the values for Montney for DUC-Months 0 to 31\n",
    "Montney"
   ]
  },
  {
   "cell_type": "code",
   "execution_count": null,
   "metadata": {},
   "outputs": [],
   "source": [
    "plt.figure(figsize=(12,5)) \n",
    "sns.distplot(Wells['MonthsDUC_Status'][Wells['Formation_C']==2][Wells['Type_C']==0], bins = 31, color = 'tab:green', label = 'DUC Months - Montney GAS', kde = False)\n",
    "sns.distplot(Wells['MonthsDUC_Status'][Wells['Formation_C']==0][Wells['Type_C']==0], bins = 31, color = 'tab:blue', label = 'DUC Months - Cardium GAS', kde = False)\n",
    "sns.distplot(Wells['MonthsDUC_Status'][Wells['Formation_C']==1][Wells['Type_C']==0], bins = 31, color = 'orange', label = 'DUC Months - Duvernay GAS', kde = False)\n",
    "sns.distplot(Wells['MonthsDUC_Status'][Wells['Formation_C']==3][Wells['Type_C']==0], bins = 31, color = 'tab:red', label = 'DUC Months - Viking GAS', kde = False)\n",
    "\n",
    "plt.title('Histogram of Total Months a GAS Well is a DUC')\n",
    "plt.xlim(0,15)\n",
    "plt.grid()\n",
    "plt.legend()\n",
    "plt.show()"
   ]
  },
  {
   "cell_type": "code",
   "execution_count": null,
   "metadata": {},
   "outputs": [],
   "source": [
    "plt.figure(figsize=(12,5)) \n",
    "sns.distplot(Wells['MonthsDUC_Status'][Wells['Type_C']==1], bins = 31, color = 'tab:green', label = 'DUC Months', kde = False)\n",
    "plt.title('Histogram of Total Months a OIL Well is a DUC')\n",
    "plt.grid()\n",
    "plt.show()"
   ]
  },
  {
   "cell_type": "code",
   "execution_count": null,
   "metadata": {
    "scrolled": true
   },
   "outputs": [],
   "source": [
    "colors_pallette =['blue', 'orange', 'purple', 'gold']\n",
    "\n",
    "fig, (ax1, ax2) = plt.subplots(1, 2, figsize = (12, 5), sharey = False)\n",
    "ax1=sns.boxplot(Wells['Formation_C'][Wells['Type_C']==0], Wells['MonthsDUC_Status'][Wells['Type_C']==0],\n",
    "                 ax = ax1)\n",
    "ax2=sns.boxplot(Wells['Formation_C'][Wells['Type_C']==1], Wells['MonthsDUC_Status'][Wells['Type_C']==1],\n",
    "                 ax = ax2)\n",
    "\n",
    "ax1.set_title('GAS Well Box Plot DUC Months by Formation')\n",
    "ax2.set_title('OIL Well Box Plot DUC Months by Formation')\n",
    "plt.show()"
   ]
  },
  {
   "cell_type": "code",
   "execution_count": null,
   "metadata": {},
   "outputs": [],
   "source": [
    "#Plot the same info in a Boxen plot to compare the visualization. \n",
    "\n",
    "fig, (ax1, ax2) = plt.subplots(1, 2, figsize = (12, 5), sharey = False)\n",
    "ax1=sns.boxenplot(Wells['Formation_C'][Wells['Type_C']==0], Wells['MonthsDUC_Status'][Wells['Type_C']==0], ax = ax1)\n",
    "ax2=sns.boxenplot(Wells['Formation_C'][Wells['Type_C']==1], Wells['MonthsDUC_Status'][Wells['Type_C']==1], ax = ax2)\n",
    "\n",
    "ax1.set_title('GAS Well Boxen Plot DUC Months by Formation')\n",
    "ax2.set_title('OIL Well Boxen Plot DUC Months by Formation')\n",
    "\n",
    "plt.show()"
   ]
  },
  {
   "cell_type": "code",
   "execution_count": null,
   "metadata": {},
   "outputs": [],
   "source": [
    "#Plot the same info in a Violin plot to compare the visualization.\n",
    "\n",
    "fig, (ax1, ax2) = plt.subplots(1, 2, figsize = (12, 5), sharey = False)\n",
    "ax1=sns.violinplot(Wells['Formation_C'][Wells['Type_C']==0], Wells['MonthsDUC_Status'][Wells['Type_C']==0], ax = ax1)\n",
    "ax2=sns.violinplot(Wells['Formation_C'][Wells['Type_C']==1], Wells['MonthsDUC_Status'][Wells['Type_C']==1], ax = ax2)\n",
    "\n",
    "ax1.set_title('GAS Well Violin Plot DUC Months by Formation')\n",
    "ax2.set_title('OIL Well Violin Plot DUC Months by Formation')\n",
    "\n",
    "plt.show()"
   ]
  },
  {
   "cell_type": "code",
   "execution_count": null,
   "metadata": {},
   "outputs": [],
   "source": [
    "fig, (ax1, ax2) = plt.subplots(1, 2, figsize = (12, 5), sharey = False)\n",
    "ax1=sns.boxplot(Wells['WellProfile'][Wells['Type_C']==0], Wells['MonthsDUC_Status'][Wells['Type_C']==0], ax = ax1)\n",
    "ax2=sns.boxplot(Wells['WellProfile'][Wells['Type_C']==1], Wells['MonthsDUC_Status'][Wells['Type_C']==1], ax = ax2)\n",
    "\n",
    "ax1.set_title('GAS Well Box Plot DUC Months by Profile')\n",
    "ax2.set_title('OIL Well Box Plot DUC Months by Profile')\n",
    "\n",
    "plt.show()"
   ]
  },
  {
   "cell_type": "code",
   "execution_count": null,
   "metadata": {},
   "outputs": [],
   "source": [
    "fig, (ax1, ax2) = plt.subplots(1, 2, figsize = (12, 5), sharey = False)\n",
    "ax1=sns.boxenplot(Wells['WellProfile'][Wells['Type_C']==0], Wells['MonthsDUC_Status'][Wells['Type_C']==0], ax = ax1)\n",
    "ax2=sns.boxenplot(Wells['WellProfile'][Wells['Type_C']==1], Wells['MonthsDUC_Status'][Wells['Type_C']==1], ax = ax2)\n",
    "\n",
    "ax1.set_title('GAS Well Boxen Plot DUC Months by Profile')\n",
    "ax2.set_title('OIL Well Boxen Plot DUC Months by Profile')\n",
    "\n",
    "plt.show()"
   ]
  },
  {
   "cell_type": "code",
   "execution_count": null,
   "metadata": {},
   "outputs": [],
   "source": [
    "fig, (ax1, ax2) = plt.subplots(1, 2, figsize = (12, 5), sharey = False)\n",
    "ax1=sns.violinplot(Wells['WellProfile'][Wells['Type_C']==0], Wells['MonthsDUC_Status'][Wells['Type_C']==0], ax = ax1)\n",
    "ax2=sns.violinplot(Wells['WellProfile'][Wells['Type_C']==1], Wells['MonthsDUC_Status'][Wells['Type_C']==1], ax = ax2)\n",
    "\n",
    "ax1.set_title('GAS Well Vioilin Plot DUC Months by Profile')\n",
    "ax2.set_title('OIL Well Violin Plot DUC Months by Profile')\n",
    "\n",
    "plt.show()"
   ]
  },
  {
   "cell_type": "markdown",
   "metadata": {},
   "source": [
    "### Box Plots by Field for each Formation"
   ]
  },
  {
   "cell_type": "code",
   "execution_count": null,
   "metadata": {},
   "outputs": [],
   "source": [
    "plt.figure(figsize=(15,5))\n",
    "sns.boxplot(Wells['Field'][Wells['Type_C']<2][Wells['Formation_C']==0],\n",
    "                Wells['MonthsDUC_Status'][Wells['Type_C']<2][Wells['Formation_C']==0])\n",
    "plt.title('GAS & OIL Well Box Plot DUC Months for Cardium')\n",
    "plt.xticks(rotation=45)\n",
    "plt.show()"
   ]
  },
  {
   "cell_type": "code",
   "execution_count": null,
   "metadata": {
    "scrolled": true
   },
   "outputs": [],
   "source": [
    "#Boxen plot variation\n",
    "\n",
    "plt.figure(figsize=(15,5))\n",
    "sns.boxenplot(Wells['Field'][Wells['Type_C']<2][Wells['Formation_C']==0],\n",
    "                Wells['MonthsDUC_Status'][Wells['Type_C']<2][Wells['Formation_C']==0])\n",
    "plt.title('GAS & OIL Well Boxen Plot DUC Months for Cardium')\n",
    "plt.xticks(rotation=45)\n",
    "plt.show()"
   ]
  },
  {
   "cell_type": "code",
   "execution_count": null,
   "metadata": {},
   "outputs": [],
   "source": [
    "plt.figure(figsize=(15,5))\n",
    "sns.boxplot(Wells['Field'][Wells['Type_C']<2][Wells['Formation_C']==1],\n",
    "                Wells['MonthsDUC_Status'][Wells['Type_C']<2][Wells['Formation_C']==1])\n",
    "plt.title('GAS & OIL Well Box Plot DUC Months for Duvernay')\n",
    "plt.xticks(rotation=45)\n",
    "plt.show()"
   ]
  },
  {
   "cell_type": "code",
   "execution_count": null,
   "metadata": {},
   "outputs": [],
   "source": [
    "plt.figure(figsize=(15,5))\n",
    "sns.boxplot(Wells['Field'][Wells['Type_C']<2][Wells['Formation_C']==2],\n",
    "                Wells['MonthsDUC_Status'][Wells['Type_C']<2][Wells['Formation_C']==2])\n",
    "plt.title('GAS & OIL Well Box Plot DUC Months for Montney')\n",
    "plt.xticks(rotation=45)\n",
    "plt.show()"
   ]
  },
  {
   "cell_type": "code",
   "execution_count": null,
   "metadata": {
    "scrolled": true
   },
   "outputs": [],
   "source": [
    "plt.figure(figsize=(15,5))\n",
    "sns.boxplot(Wells['Field'][Wells['Type_C']<2][Wells['Formation_C']==3],\n",
    "                Wells['MonthsDUC_Status'][Wells['Type_C']<2][Wells['Formation_C']==3])\n",
    "plt.title('GAS & OIL Well Box Plot DUC Months for Viking')\n",
    "plt.xticks(rotation=45)\n",
    "plt.show()"
   ]
  },
  {
   "cell_type": "markdown",
   "metadata": {},
   "source": [
    "### Load Classification and Regression Models\n",
    "\n",
    "### First runs will be use all data and then checked on how the cumulative DUCs curve changes"
   ]
  },
  {
   "cell_type": "code",
   "execution_count": null,
   "metadata": {},
   "outputs": [],
   "source": [
    "from sklearn.model_selection import train_test_split\n",
    "from sklearn.ensemble import RandomForestClassifier, RandomForestRegressor\n",
    "from sklearn.preprocessing import StandardScaler\n",
    "from sklearn.metrics import confusion_matrix, classification_report, fbeta_score, accuracy_score, roc_auc_score, roc_curve, auc\n",
    "from sklearn.metrics import r2_score, mean_squared_error"
   ]
  },
  {
   "cell_type": "markdown",
   "metadata": {},
   "source": [
    "# DUC Prediction"
   ]
  },
  {
   "cell_type": "markdown",
   "metadata": {},
   "source": [
    "### The Cumulative DUC inventory in logically driven by the wells that are DUCs for a longer priod of time\n",
    "\n",
    "### Every potentially productive well is a DUC, for a day, a week, a month or longer .  The DUC inventory won't be changed in the long term by the revolving inventory of short terms DUCs, some adding while others are subtracting.\n",
    "\n",
    "### Decisions by the operator that any well will remain a DUC are determined by a number of outside factors such as commodity price, Operator financial status, land retention requirements and more.\n",
    "\n",
    "### The accuracy of predicting the length of time a specific well will be a DUC may be suspect.  However, can we aggregate a well by well prediction and predict the total number of DUC-months on a group of wells or the number of DUC-months for a group of wells over a nominal number of 1 to 3 months.\n",
    "\n",
    "## Build classification and regression models and substitute the x_test results into the dataset and plot the Cumulative DUC charts with & without the model"
   ]
  },
  {
   "cell_type": "code",
   "execution_count": null,
   "metadata": {},
   "outputs": [],
   "source": [
    "# Get minimim Final Drill Date and find a starting point to change the drill date to number of days from a common date\n",
    "# so we can use the FINALDRILLDATE in the model\n",
    "min(Wells['FinalDrillDate'])"
   ]
  },
  {
   "cell_type": "code",
   "execution_count": null,
   "metadata": {},
   "outputs": [],
   "source": [
    "# CONVERT FINALDRILLDATE TO DAYS FROM Jan 1 2014 FOR ML MODEL\n",
    "Wells['EndDrillDate_InDays'] = (Wells['FinalDrillDate']-pd.to_datetime('2014-01-01')).apply(lambda x: float(x.days))\n"
   ]
  },
  {
   "cell_type": "markdown",
   "metadata": {},
   "source": [
    "### Group the DUC Months into classes 0,1,2,3,4 months and 5 for >5 months"
   ]
  },
  {
   "cell_type": "code",
   "execution_count": null,
   "metadata": {},
   "outputs": [],
   "source": [
    "Wells['DUC_CountGroup'] = 5 -  1*(Wells['MonthsDUC_Status']<5) - 1*(Wells[\n",
    "    'MonthsDUC_Status']<4) - 1*(Wells['MonthsDUC_Status']<3) - 1 *(Wells['MonthsDUC_Status']<2) - 1 *(Wells['MonthsDUC_Status']<1)"
   ]
  },
  {
   "cell_type": "code",
   "execution_count": null,
   "metadata": {},
   "outputs": [],
   "source": [
    "Wells['DUC_CountGroup'].value_counts()"
   ]
  },
  {
   "cell_type": "code",
   "execution_count": null,
   "metadata": {
    "scrolled": true
   },
   "outputs": [],
   "source": [
    "Wells['MonthsDUC_Status'].value_counts()"
   ]
  },
  {
   "cell_type": "markdown",
   "metadata": {},
   "source": [
    "### Get Stats on the classification Groups"
   ]
  },
  {
   "cell_type": "code",
   "execution_count": null,
   "metadata": {},
   "outputs": [],
   "source": [
    "# ALL WELLS\n",
    "Wells['MonthsDUC_Status'][Wells['DUC_CountGroup']==5].describe()"
   ]
  },
  {
   "cell_type": "code",
   "execution_count": null,
   "metadata": {},
   "outputs": [],
   "source": [
    "# GAS Wells\n",
    "Wells['MonthsDUC_Status'][Wells['DUC_CountGroup']==5][Wells['Type_C']==0].describe()"
   ]
  },
  {
   "cell_type": "code",
   "execution_count": null,
   "metadata": {},
   "outputs": [],
   "source": [
    "# OIL Wells\n",
    "Wells['MonthsDUC_Status'][Wells['DUC_CountGroup']==5][Wells['Type_C']==1].describe()"
   ]
  },
  {
   "cell_type": "code",
   "execution_count": null,
   "metadata": {},
   "outputs": [],
   "source": [
    "# MEAN for GAS Wells by Formation 0,1,2,3 (Cardium, Duvernay, Montney, Viking)\n",
    "for n in range(4):\n",
    "    print('Mean for GAS wells class 5 for Formation ',n,' is',round(Wells['MonthsDUC_Status'][Wells['DUC_CountGroup']==5][Wells['Type_C']==0][Wells['Formation_C']==n].describe()[1], 3))"
   ]
  },
  {
   "cell_type": "code",
   "execution_count": null,
   "metadata": {},
   "outputs": [],
   "source": [
    "# MEAN for OIL Wells by Formation 0,1,2,3 (Cardium, Duvernay, Montney, Viking)\n",
    "for n in range(4):\n",
    "    print('Mean for OIL wells class 5 for Formation ',n,' is',round(Wells['MonthsDUC_Status'][Wells['DUC_CountGroup']==5][Wells['Type_C']==1][Wells['Formation_C']==n].describe()[1], 3))"
   ]
  },
  {
   "cell_type": "markdown",
   "metadata": {},
   "source": [
    "###  Use 7.45 for models except if run by Formation"
   ]
  },
  {
   "cell_type": "markdown",
   "metadata": {},
   "source": [
    "## Get X set for ALL Wells - do not split by well type or formation"
   ]
  },
  {
   "cell_type": "code",
   "execution_count": null,
   "metadata": {},
   "outputs": [],
   "source": [
    "X = Wells[['KBElevation','TVD', 'TotalDepth','EndDrillDate_InDays', \n",
    "        'Profile_C', 'Formation_C', 'Field_C', 'Type_C','MonthsDUC_Status','DUC_CountGroup']][Wells['TVD']>0][Wells['Formation_C']>=0]\n",
    "X.shape"
   ]
  },
  {
   "cell_type": "markdown",
   "metadata": {},
   "source": [
    "## Classification"
   ]
  },
  {
   "cell_type": "code",
   "execution_count": null,
   "metadata": {},
   "outputs": [],
   "source": [
    "y = X['MonthsDUC_Status']\n",
    "yC = X['DUC_CountGroup']\n",
    "X.drop(['MonthsDUC_Status','DUC_CountGroup'], axis =1, inplace = True)\n",
    "y.shape, yC.shape"
   ]
  },
  {
   "cell_type": "code",
   "execution_count": null,
   "metadata": {},
   "outputs": [],
   "source": [
    "X.head()"
   ]
  },
  {
   "cell_type": "code",
   "execution_count": null,
   "metadata": {},
   "outputs": [],
   "source": [
    "X_train,X_test, y_train, y_test = train_test_split(X,yC, stratify = yC, test_size=0.25, random_state=0)"
   ]
  },
  {
   "cell_type": "code",
   "execution_count": null,
   "metadata": {},
   "outputs": [],
   "source": [
    "# CHECK SPLITS BY FORMATION\n",
    "sum(X_train['Formation_C']==2), sum(X_test['Formation_C']==2), sum(X_train['Formation_C']==3), sum(X_test['Formation_C']==3) "
   ]
  },
  {
   "cell_type": "code",
   "execution_count": null,
   "metadata": {},
   "outputs": [],
   "source": [
    "scaler = StandardScaler()\n",
    "X_train = scaler.fit_transform(X_train)\n",
    "X_test = scaler.transform(X_test)"
   ]
  },
  {
   "cell_type": "code",
   "execution_count": null,
   "metadata": {},
   "outputs": [],
   "source": [
    "n, d, crit = 175, 12, 'gini'\n",
    "RFC = RandomForestClassifier(n_estimators = n, max_depth = d, criterion = crit, random_state = 0)\n",
    "RFC.fit(X_train, y_train)"
   ]
  },
  {
   "cell_type": "code",
   "execution_count": null,
   "metadata": {},
   "outputs": [],
   "source": [
    "y_pred = RFC.predict(X_test)\n",
    "print(classification_report(y_test, y_pred))"
   ]
  },
  {
   "cell_type": "code",
   "execution_count": null,
   "metadata": {},
   "outputs": [],
   "source": [
    "print(confusion_matrix(y_test, y_pred))"
   ]
  },
  {
   "cell_type": "markdown",
   "metadata": {},
   "source": [
    "## Note that the confusion matrix is showing the model is not acurately predicting well by well DUC months.  However, the overall aggregated trend of number of wells with low DUC months and number of wells with high DUC months is better.\n",
    "\n",
    "## One case where a well by well error could appear that doesn't affect the overal outcome this could happen is with multiple wells on a pad.  If one or two wells have many DUC months, the difference between those wells is slight and the prediction might be accurate on a pad basis but inaccurate on an individual well basis. "
   ]
  },
  {
   "cell_type": "code",
   "execution_count": null,
   "metadata": {},
   "outputs": [],
   "source": [
    "y_test.value_counts()"
   ]
  },
  {
   "cell_type": "code",
   "execution_count": null,
   "metadata": {},
   "outputs": [],
   "source": [
    "YP=pd.Series(y_pred)\n",
    "YP.value_counts()"
   ]
  },
  {
   "cell_type": "markdown",
   "metadata": {},
   "source": [
    "### Look at y_test and y_pred total DUC months and for DUC months > 2 per well "
   ]
  },
  {
   "cell_type": "code",
   "execution_count": null,
   "metadata": {},
   "outputs": [],
   "source": [
    "y_test_SumMonths = sum((y_test==1)) + 2*sum((y_test==2)) + 3*sum((y_test==3)) + 4*sum((y_test==4)) + 7.45*sum((y_test==5))\n",
    "y_test_SumMonths"
   ]
  },
  {
   "cell_type": "code",
   "execution_count": null,
   "metadata": {},
   "outputs": [],
   "source": [
    "y_pred_SumMonths = sum((y_pred==1)) + 2*sum((y_pred==2)) + 3*sum((y_pred==3)) + 4*sum((y_pred==4)) + 7.45*sum((y_pred==5))\n",
    "y_pred_SumMonths"
   ]
  },
  {
   "cell_type": "code",
   "execution_count": null,
   "metadata": {},
   "outputs": [],
   "source": [
    "y_test_SumMonths3Over = 3*sum((y_test==3)) + 4*sum((y_test==4)) + 7.45*sum((y_test==5)) \n",
    "y_test_SumMonths3Over"
   ]
  },
  {
   "cell_type": "code",
   "execution_count": null,
   "metadata": {},
   "outputs": [],
   "source": [
    "y_pred_SumMonths3Over = 3*sum((y_pred==3)) + 4*sum((y_pred==4)) + 7.45*sum((y_pred==5))\n",
    "y_pred_SumMonths3Over"
   ]
  },
  {
   "cell_type": "markdown",
   "metadata": {},
   "source": [
    "### Model is under predicting DUC Months, Compare Distributions"
   ]
  },
  {
   "cell_type": "code",
   "execution_count": null,
   "metadata": {},
   "outputs": [],
   "source": [
    "plt.figure(figsize=(12,5)) \n",
    "sns.distplot(y_test, bins = 11, color = 'tab:green', label = 'y_test', kde = False)\n",
    "sns.distplot(YP, bins = 11, color = 'tab:blue', label = 'y-pred', kde = False)\n",
    "\n",
    "\n",
    "plt.title('Histogram y-test & y_pred')\n",
    "#plt.xlim(0,15)\n",
    "#plt.yscale('log')\n",
    "plt.grid()\n",
    "plt.legend()\n",
    "plt.show()"
   ]
  },
  {
   "cell_type": "markdown",
   "metadata": {},
   "source": [
    "## Substitue the predicted months for X_test into the Wells copy(df_R) then calculate and plot cumulative DUCs by month."
   ]
  },
  {
   "cell_type": "code",
   "execution_count": null,
   "metadata": {
    "scrolled": false
   },
   "outputs": [],
   "source": [
    "# CHANGE RELEVANT EARLY COMPLETION DATES\n",
    "vals = [0,1,2,3,4,7.45]  #Class 5 has a mean of 7.45 months\n",
    "\n",
    "for j in range(len(y_test)):\n",
    "    ID = df_R.iloc[y_test[j:j+1].index[0]][0]\n",
    "    \n",
    "    # CALCULATE THE PREDICTED MONTHS FROM THE CLASSIFICATION 0 TO 5\n",
    "    val = y_pred[j]\n",
    "    pred = vals[val]\n",
    "\n",
    "    df_R['Early_Comp'][df_R['EPAssetsId']==ID] = df_R['FinalDrillDate'][df_R['EPAssetsId']==ID] + timedelta(days = int(pred*30.45))"
   ]
  },
  {
   "cell_type": "code",
   "execution_count": null,
   "metadata": {},
   "outputs": [],
   "source": [
    "Months = ['2015-01-31', '2015-02-28',\n",
    "       '2015-03-31', '2015-04-30', '2015-05-31', '2015-06-30', '2015-07-31',\n",
    "       '2015-08-31', '2015-09-30', '2015-10-31', '2015-11-30', '2015-12-31',\n",
    "       '2016-01-31', '2016-02-29', '2016-03-31', '2016-04-30', '2016-05-31',\n",
    "       '2016-06-30', '2016-07-31', '2016-08-31', '2016-09-30', '2016-10-31',\n",
    "       '2016-11-30', '2016-12-31', '2017-01-31', '2017-02-28', '2017-03-31',\n",
    "       '2017-04-30', '2017-05-31', '2017-06-30', '2017-07-31', '2017-08-31',\n",
    "       '2017-09-30', '2017-10-31', '2017-11-30', '2017-12-31', '2018-01-31',\n",
    "       '2018-02-28', '2018-03-31', '2018-04-30', '2018-05-31', '2018-06-30',\n",
    "       '2018-07-31', '2018-08-31', '2018-09-30', '2018-10-31', '2018-11-30',\n",
    "       '2018-12-31', '2019-01-31', '2019-02-28', '2019-03-31', '2019-04-30',\n",
    "       '2019-05-31', '2019-06-30', '2019-07-31', '2019-08-31', '2019-09-30',\n",
    "       '2019-10-31', '2019-11-30', '2019-12-31', '2020-01-31']"
   ]
  },
  {
   "cell_type": "code",
   "execution_count": null,
   "metadata": {},
   "outputs": [],
   "source": [
    "for Month in Months:\n",
    "    df_R[Month] = 1*( df_R['FinalDrillDate']<=pd.to_datetime(Month) ) - 1*( df_R['Early_Comp']<=pd.to_datetime(Month) )"
   ]
  },
  {
   "cell_type": "code",
   "execution_count": null,
   "metadata": {},
   "outputs": [],
   "source": [
    "header =['Model'] + Months\n",
    "DUCs_Compare = pd.DataFrame(columns = header)\n",
    "DUCs_Compare['Model']=['BaseCase', 'Classifier 1']\n",
    "DUCs_Compare.head()"
   ]
  },
  {
   "cell_type": "code",
   "execution_count": null,
   "metadata": {},
   "outputs": [],
   "source": [
    "#Load Base Case DUCs into df\n",
    "\n",
    "for j in range(len(Months)):\n",
    "    DUCs_Compare.iloc[0][j+1] = (sum(Wells[Months[j]]))\n",
    "DUCs_Compare.shape"
   ]
  },
  {
   "cell_type": "code",
   "execution_count": null,
   "metadata": {},
   "outputs": [],
   "source": [
    "#Load Classification results into df\n",
    "for j in range(len(Months)):\n",
    "    DUCs_Compare.iloc[1][j+1] = (sum(df_R[Months[j]]))\n",
    "DUCs_Compare.head()\n",
    " "
   ]
  },
  {
   "cell_type": "code",
   "execution_count": null,
   "metadata": {},
   "outputs": [],
   "source": [
    "fig, ax1 = plt.subplots(1, 1, figsize=(15, 8)) \n",
    "ax1.plot(DUCs_Compare.iloc[0,1:], label = DUCs_Compare.iloc[0,0], c = 'm', lw = 3)\n",
    "ax1.plot(DUCs_Compare.iloc[1,1:], label = DUCs_Compare.iloc[1,0])\n",
    "\n",
    "ax1.set_title('Cumulative DUCs by Month: Comparison of Base Case and DUC Prediction Models', fontsize = 16, weight = 'bold')\n",
    "ax1.xaxis.set_major_locator(ticker.MaxNLocator(11))\n",
    "ax1.xaxis.set_minor_locator(ticker.AutoMinorLocator())\n",
    "ax1.grid()\n",
    "ax1.set_ylim(0, 450)\n",
    "plt.legend()\n",
    "plt.show()\n",
    "\n"
   ]
  },
  {
   "cell_type": "code",
   "execution_count": null,
   "metadata": {},
   "outputs": [],
   "source": [
    "DUCs_Compare.head()"
   ]
  },
  {
   "cell_type": "markdown",
   "metadata": {},
   "source": [
    "# Regression"
   ]
  },
  {
   "cell_type": "code",
   "execution_count": null,
   "metadata": {},
   "outputs": [],
   "source": [
    "# X FILTERED FOR WELL WITHOUT TVD\n",
    "X = Wells[['KBElevation','TVD', 'TotalDepth','EndDrillDate_InDays', \n",
    "        'Profile_C', 'Formation_C', 'Field_C', 'Type_C','MonthsDUC_Status','DUC_CountGroup']][Wells['TVD']>0][Wells['Formation_C']>=0]\n",
    "X.shape"
   ]
  },
  {
   "cell_type": "code",
   "execution_count": null,
   "metadata": {},
   "outputs": [],
   "source": [
    "y = X['MonthsDUC_Status']\n",
    "yC = X['DUC_CountGroup']\n",
    "X.drop(['MonthsDUC_Status','DUC_CountGroup'], axis =1, inplace = True)\n",
    "y.shape, yC.shape"
   ]
  },
  {
   "cell_type": "code",
   "execution_count": null,
   "metadata": {},
   "outputs": [],
   "source": [
    "X_train,X_test, y_train, y_test = train_test_split(X, y, test_size=0.25, random_state=0)"
   ]
  },
  {
   "cell_type": "code",
   "execution_count": null,
   "metadata": {},
   "outputs": [],
   "source": [
    "len(X_test)"
   ]
  },
  {
   "cell_type": "code",
   "execution_count": null,
   "metadata": {},
   "outputs": [],
   "source": [
    "scaler = StandardScaler()\n",
    "X_train = scaler.fit_transform(X_train)\n",
    "X_test = scaler.transform(X_test)"
   ]
  },
  {
   "cell_type": "code",
   "execution_count": null,
   "metadata": {},
   "outputs": [],
   "source": [
    "n, d, mf = 175, 26, 'log2'\n",
    "RFR = RandomForestRegressor(n_estimators = n, max_depth = d, max_features = mf, random_state = 0)\n",
    "RFR.fit(X_train, y_train)"
   ]
  },
  {
   "cell_type": "code",
   "execution_count": null,
   "metadata": {},
   "outputs": [],
   "source": [
    "y_pred = RFR.predict(X_test)\n",
    "RFR_R2 = r2_score(y_test, y_pred)\n",
    "MSE = mean_squared_error(y_test, y_pred)\n",
    "RMSE = np.sqrt(MSE)\n",
    "print(n, \" ests & \" ,d, \" max depth,\", mf, \"max features, R2 for RFR is: \", RFR_R2)\n",
    "print(n, \" ests & \", d, \" max depth,\", mf, \"max features, RMSE RFR is: \", RMSE)"
   ]
  },
  {
   "cell_type": "code",
   "execution_count": null,
   "metadata": {},
   "outputs": [],
   "source": [
    "plt.scatter(y_test, y_pred)\n",
    "plt.show()"
   ]
  },
  {
   "cell_type": "code",
   "execution_count": null,
   "metadata": {},
   "outputs": [],
   "source": [
    "y_test_SumMonths = sum(y_test)\n",
    "y_test_SumMonths"
   ]
  },
  {
   "cell_type": "code",
   "execution_count": null,
   "metadata": {},
   "outputs": [],
   "source": [
    "y_pred_SumMonths = sum(y_pred)\n",
    "y_pred_SumMonths"
   ]
  },
  {
   "cell_type": "code",
   "execution_count": null,
   "metadata": {},
   "outputs": [],
   "source": [
    "YP = pd.Series(y_pred)"
   ]
  },
  {
   "cell_type": "code",
   "execution_count": null,
   "metadata": {},
   "outputs": [],
   "source": [
    "y_test.describe()"
   ]
  },
  {
   "cell_type": "code",
   "execution_count": null,
   "metadata": {},
   "outputs": [],
   "source": [
    "YP.describe()"
   ]
  },
  {
   "cell_type": "code",
   "execution_count": null,
   "metadata": {},
   "outputs": [],
   "source": [
    "# COMPARE TOTAL MONTHS AND MONTHS FOR WELLS OVER 2 MONTHS\n",
    "sum(y_test), sum(y_pred),  sum(y_test[y_test>2]), sum(YP[YP>2]) "
   ]
  },
  {
   "cell_type": "markdown",
   "metadata": {},
   "source": [
    "## Aggregated totals are similar, despite the low R2 score\n",
    "\n",
    "### Look at counts over 2 months and the mean of actuals and results over 2 months and the product"
   ]
  },
  {
   "cell_type": "code",
   "execution_count": null,
   "metadata": {},
   "outputs": [],
   "source": [
    "TS, TM, PS, PM  = sum(y_test>2), np.mean(y_test[y_test>2]),sum(YP>2),  np.mean(YP[YP>2])\n",
    "TS, round(TM,2), (TS*TM), PS, round(PM,3), round(PS*PM,1)"
   ]
  },
  {
   "cell_type": "markdown",
   "metadata": {},
   "source": [
    "## Model is under predicting, but much closer than the classification, Look at the Distrubutions"
   ]
  },
  {
   "cell_type": "code",
   "execution_count": null,
   "metadata": {},
   "outputs": [],
   "source": [
    "plt.figure(figsize=(12,5)) \n",
    "sns.distplot(y_test, bins = 15, color = 'tab:green', label = 'y_test', kde = False)\n",
    "sns.distplot(YP, bins = 15, color = 'tab:blue', label = 'y-pred', kde = False)\n",
    "\n",
    "\n",
    "plt.title('Regression Model 1 Histogram y-test & y_pred')\n",
    "#plt.xlim(0,15)\n",
    "#plt.yscale('log')\n",
    "plt.grid()\n",
    "plt.legend()\n",
    "plt.show()"
   ]
  },
  {
   "cell_type": "markdown",
   "metadata": {},
   "source": [
    "# Now substitue the prediction into Wells by changing the Early Completion Date and then recalculate DUC status by month.  First Reset Early Comp Date"
   ]
  },
  {
   "cell_type": "code",
   "execution_count": null,
   "metadata": {},
   "outputs": [],
   "source": [
    "df_R['Early_Comp'] = Wells['Early_Comp']"
   ]
  },
  {
   "cell_type": "code",
   "execution_count": null,
   "metadata": {},
   "outputs": [],
   "source": [
    "# CHANGE RELEVANT EARLY COMPLETION DATES - REGRESSION RESULTS ARE DIRECT MONTHS\n",
    "\n",
    "for j in range(len(y_test)):\n",
    "    ID = df_R.iloc[y_test[j:j+1].index[0]][0]\n",
    "    \n",
    "    # Y_PRED VALUES ARE FORECASTED AS MONTHS NOT CLASSES, SO NO CONVERSION REQUIRED\n",
    "    pred = y_pred[j]\n",
    "    #pred = vals[val]\n",
    "\n",
    "    df_R['Early_Comp'][df_R['EPAssetsId']==ID] = df_R['FinalDrillDate'][df_R['EPAssetsId']==ID] + timedelta(days = int(pred*30.45))"
   ]
  },
  {
   "cell_type": "code",
   "execution_count": null,
   "metadata": {},
   "outputs": [],
   "source": [
    "for Month in Months:\n",
    "    df_R[Month] = 1*( df_R['FinalDrillDate']<=pd.to_datetime(Month) ) - 1*( df_R['Early_Comp']<=pd.to_datetime(Month) )"
   ]
  },
  {
   "cell_type": "code",
   "execution_count": null,
   "metadata": {},
   "outputs": [],
   "source": [
    "DUCs_by_Month_with_y_pred = ['Regression 1']\n",
    "for Month in Months:\n",
    "    DUCs_by_Month_with_y_pred.append(sum(df_R[Month]))"
   ]
  },
  {
   "cell_type": "code",
   "execution_count": null,
   "metadata": {
    "scrolled": true
   },
   "outputs": [],
   "source": [
    "DUCs_Compare.loc[2] = DUCs_by_Month_with_y_pred\n",
    "DUCs_Compare.head()"
   ]
  },
  {
   "cell_type": "code",
   "execution_count": null,
   "metadata": {},
   "outputs": [],
   "source": [
    "fig, ax1 = plt.subplots(1, 1, figsize=(15, 8)) \n",
    "ax1.plot(DUCs_Compare.iloc[0,1:], label = DUCs_Compare.iloc[0,0], c = 'm', lw = 3)\n",
    "ax1.plot(DUCs_Compare.iloc[1,1:], label = DUCs_Compare.iloc[1,0])\n",
    "ax1.plot(DUCs_Compare.iloc[2,1:], label = DUCs_Compare.iloc[2,0])\n",
    "\n",
    "ax1.set_title('Cumulative DUCs by Month: Comparison of Base Case and DUC Prediction Models', fontsize = 16, weight = 'bold')\n",
    "ax1.xaxis.set_major_locator(ticker.MaxNLocator(11))\n",
    "ax1.xaxis.set_minor_locator(ticker.AutoMinorLocator())\n",
    "ax1.set_ylim(0,450)\n",
    "ax1.grid()\n",
    "plt.legend()\n",
    "plt.show()\n"
   ]
  },
  {
   "cell_type": "code",
   "execution_count": null,
   "metadata": {},
   "outputs": [],
   "source": [
    "# COMPARE DELTA TO BASE CASE AND CALCULTAE PERCENT ERROR FOR REGRESSION\n",
    "Err = 0\n",
    "month = '2015-01-31'\n",
    "for Month in Months:\n",
    "    delta_err = abs((DUCs_Compare[Month][0] - DUCs_Compare[Month][2]) / DUCs_Compare[Month][0])\n",
    "    if delta_err > Err:\n",
    "        Err = delta_err\n",
    "        month = Month\n",
    "'Regression', round(Err, 3), Month"
   ]
  },
  {
   "cell_type": "code",
   "execution_count": null,
   "metadata": {},
   "outputs": [],
   "source": [
    "# COMPARE DELTA TO BASE CASE AND CALCULTAE PERCENT ERROR FOR CLASSIFICATION\n",
    "Err = 0\n",
    "month = '2015-01-31'\n",
    "for Month in Months:\n",
    "    delta_err = abs( 1 - DUCs_Compare[Month][1]  / DUCs_Compare[Month][0] )\n",
    "    if delta_err > Err:\n",
    "        Err = delta_err\n",
    "        month = Month\n",
    "'Classification', round(Err, 3), Month"
   ]
  },
  {
   "cell_type": "markdown",
   "metadata": {},
   "source": [
    "# The x-test size is about 1/6th of the total number of wells.  The max error is 11.8% in Jan 2020, 74 DUCs vs 87 actual for Regression and 12.9% in Jan 2020, 80 DUCs vs 87 for Classification"
   ]
  },
  {
   "cell_type": "code",
   "execution_count": null,
   "metadata": {},
   "outputs": [],
   "source": [
    "DUCs_Compare.head()"
   ]
  },
  {
   "cell_type": "code",
   "execution_count": null,
   "metadata": {
    "scrolled": false
   },
   "outputs": [],
   "source": [
    "sum(DUCs_Compare.iloc[0,1:]),  sum(DUCs_Compare.iloc[1,1:]), sum(DUCs_Compare.iloc[2,1:])"
   ]
  },
  {
   "cell_type": "markdown",
   "metadata": {},
   "source": [
    "## Retrain the models without TVD and Compare, then train the models on the first three years of data and predict the remaining 2 years.  Need to drop TVD to be able to predict on all wells going forward."
   ]
  },
  {
   "cell_type": "code",
   "execution_count": null,
   "metadata": {},
   "outputs": [],
   "source": [
    "X = Wells[['KBElevation','TotalDepth','EndDrillDate_InDays', \n",
    "        'Profile_C', 'Formation_C', 'Field_C', 'Type_C','MonthsDUC_Status','DUC_CountGroup']][Wells['Formation_C']>=0]\n",
    "X.shape"
   ]
  },
  {
   "cell_type": "markdown",
   "metadata": {},
   "source": [
    "## Classification"
   ]
  },
  {
   "cell_type": "code",
   "execution_count": null,
   "metadata": {},
   "outputs": [],
   "source": [
    "y = X['MonthsDUC_Status']\n",
    "yC = X['DUC_CountGroup']\n",
    "X.drop(['MonthsDUC_Status','DUC_CountGroup'], axis =1, inplace = True)\n",
    "y.shape, yC.shape"
   ]
  },
  {
   "cell_type": "code",
   "execution_count": null,
   "metadata": {},
   "outputs": [],
   "source": [
    "X.head()"
   ]
  },
  {
   "cell_type": "code",
   "execution_count": null,
   "metadata": {},
   "outputs": [],
   "source": [
    "X_train,X_test, y_train, y_test = train_test_split(X,yC, stratify = yC, test_size=0.25, random_state=0)"
   ]
  },
  {
   "cell_type": "code",
   "execution_count": null,
   "metadata": {},
   "outputs": [],
   "source": [
    "# CHECK SPLITS BY FORMATION\n",
    "sum(X_train['Formation_C']==2), sum(X_test['Formation_C']==2), sum(X_train['Formation_C']==3), sum(X_test['Formation_C']==3) "
   ]
  },
  {
   "cell_type": "code",
   "execution_count": null,
   "metadata": {},
   "outputs": [],
   "source": [
    "scaler = StandardScaler()\n",
    "X_train = scaler.fit_transform(X_train)\n",
    "X_test = scaler.transform(X_test)"
   ]
  },
  {
   "cell_type": "code",
   "execution_count": null,
   "metadata": {},
   "outputs": [],
   "source": [
    "n, d, crit = 175, 12, 'gini'\n",
    "RFC = RandomForestClassifier(n_estimators = n, max_depth = d, criterion = crit, random_state = 0)\n",
    "RFC.fit(X_train, y_train)"
   ]
  },
  {
   "cell_type": "code",
   "execution_count": null,
   "metadata": {},
   "outputs": [],
   "source": [
    "y_pred = RFC.predict(X_test)\n",
    "print(classification_report(y_test, y_pred))"
   ]
  },
  {
   "cell_type": "code",
   "execution_count": null,
   "metadata": {},
   "outputs": [],
   "source": [
    "print(confusion_matrix(y_test, y_pred))"
   ]
  },
  {
   "cell_type": "markdown",
   "metadata": {},
   "source": [
    "## Substitue the predicted months for X_test into the Wells copy(df_R) then calculate and plot cumulative DUCs by month.  Rest Early Comp Dates"
   ]
  },
  {
   "cell_type": "code",
   "execution_count": null,
   "metadata": {},
   "outputs": [],
   "source": [
    "df_R['Early_Comp'] = Wells['Early_Comp']"
   ]
  },
  {
   "cell_type": "code",
   "execution_count": null,
   "metadata": {},
   "outputs": [],
   "source": [
    "# CHANGE RELEVANT EARLY COMPLETION DATES\n",
    "vals = [0,1,2,3,4,7.45]  #Class 5 has a mean of 7.45 months\n",
    "\n",
    "for j in range(len(y_test)):\n",
    "    ID = df_R.iloc[y_test[j:j+1].index[0]][0]\n",
    "    \n",
    "    # CALCULATE THE PREDICTED MONTHS FROM THE CLASSIFICATION 0 TO 5\n",
    "    val = y_pred[j]\n",
    "    pred = vals[val]\n",
    "\n",
    "    df_R['Early_Comp'][df_R['EPAssetsId']==ID] = df_R['FinalDrillDate'][df_R['EPAssetsId']==ID] + timedelta(days = int(pred*30.45))"
   ]
  },
  {
   "cell_type": "code",
   "execution_count": null,
   "metadata": {},
   "outputs": [],
   "source": [
    "for Month in Months:\n",
    "    df_R[Month] = 1*( df_R['FinalDrillDate']<=pd.to_datetime(Month) ) - 1*( df_R['Early_Comp']<=pd.to_datetime(Month) )"
   ]
  },
  {
   "cell_type": "code",
   "execution_count": null,
   "metadata": {},
   "outputs": [],
   "source": [
    "DUCs_by_Month_with_y_pred = ['Classification w/o TVD']\n",
    "for Month in Months:\n",
    "    DUCs_by_Month_with_y_pred.append(sum(df_R[Month]))"
   ]
  },
  {
   "cell_type": "code",
   "execution_count": null,
   "metadata": {
    "scrolled": true
   },
   "outputs": [],
   "source": [
    "DUCs_Compare.loc[3] = DUCs_by_Month_with_y_pred\n",
    "DUCs_Compare.head()"
   ]
  },
  {
   "cell_type": "code",
   "execution_count": null,
   "metadata": {},
   "outputs": [],
   "source": [
    "fig, ax1 = plt.subplots(1, 1, figsize=(15, 8)) \n",
    "ax1.plot(DUCs_Compare.iloc[0,1:], label = DUCs_Compare.iloc[0,0], c = 'm', lw = 3)\n",
    "ax1.plot(DUCs_Compare.iloc[1,1:], label = DUCs_Compare.iloc[1,0])\n",
    "ax1.plot(DUCs_Compare.iloc[2,1:], label = DUCs_Compare.iloc[2,0])\n",
    "ax1.plot(DUCs_Compare.iloc[3,1:], label = DUCs_Compare.iloc[3,0])\n",
    "\n",
    "ax1.set_title('Cumulative DUCs by Month: Comparison of Base Case and DUC Prediction Models', fontsize = 16, weight = 'bold')\n",
    "ax1.xaxis.set_major_locator(ticker.MaxNLocator(11))\n",
    "ax1.xaxis.set_minor_locator(ticker.AutoMinorLocator())\n",
    "ax1.grid()\n",
    "ax1.set_ylim(0, 450)\n",
    "plt.legend()\n",
    "plt.show()\n",
    "\n"
   ]
  },
  {
   "cell_type": "code",
   "execution_count": null,
   "metadata": {},
   "outputs": [],
   "source": [
    "# X FILTERED FOR WELL WITHOUT TVD\n",
    "X = Wells[['KBElevation','TotalDepth','EndDrillDate_InDays', \n",
    "        'Profile_C', 'Formation_C', 'Field_C', 'Type_C','MonthsDUC_Status','DUC_CountGroup']][Wells['Formation_C']>=0]\n",
    "X.shape"
   ]
  },
  {
   "cell_type": "code",
   "execution_count": null,
   "metadata": {},
   "outputs": [],
   "source": [
    "y = X['MonthsDUC_Status']\n",
    "yC = X['DUC_CountGroup']\n",
    "X.drop(['MonthsDUC_Status','DUC_CountGroup'], axis =1, inplace = True)\n",
    "y.shape, yC.shape"
   ]
  },
  {
   "cell_type": "code",
   "execution_count": null,
   "metadata": {},
   "outputs": [],
   "source": [
    "X_train,X_test, y_train, y_test = train_test_split(X, y, test_size=0.25, random_state=0)"
   ]
  },
  {
   "cell_type": "code",
   "execution_count": null,
   "metadata": {},
   "outputs": [],
   "source": [
    "len(X_test)"
   ]
  },
  {
   "cell_type": "code",
   "execution_count": null,
   "metadata": {},
   "outputs": [],
   "source": [
    "scaler = StandardScaler()\n",
    "X_train = scaler.fit_transform(X_train)\n",
    "X_test = scaler.transform(X_test)"
   ]
  },
  {
   "cell_type": "code",
   "execution_count": null,
   "metadata": {},
   "outputs": [],
   "source": [
    "n, d, mf = 175, 26, 'log2'\n",
    "RFR = RandomForestRegressor(n_estimators = n, max_depth = d, max_features = mf, random_state = 0)\n",
    "RFR.fit(X_train, y_train)"
   ]
  },
  {
   "cell_type": "code",
   "execution_count": null,
   "metadata": {},
   "outputs": [],
   "source": [
    "y_pred = RFR.predict(X_test)\n",
    "RFR_R2 = r2_score(y_test, y_pred)\n",
    "MSE = mean_squared_error(y_test, y_pred)\n",
    "RMSE = np.sqrt(MSE)\n",
    "print(n, \" ests & \" ,d, \" max depth,\", mf, \"max features, R2 for RFR is: \", RFR_R2)\n",
    "print(n, \" ests & \", d, \" max depth,\", mf, \"max features, RMSE RFR is: \", RMSE)"
   ]
  },
  {
   "cell_type": "code",
   "execution_count": null,
   "metadata": {
    "scrolled": true
   },
   "outputs": [],
   "source": [
    "plt.scatter(y_test, y_pred)\n",
    "plt.show()"
   ]
  },
  {
   "cell_type": "code",
   "execution_count": null,
   "metadata": {},
   "outputs": [],
   "source": [
    "plt.figure(figsize=(12,5)) \n",
    "sns.distplot(y_test, bins = 15, color = 'tab:green', label = 'y_test', kde = False)\n",
    "sns.distplot(y_pred, bins = 15, color = 'tab:blue', label = 'y-pred', kde = False)\n",
    "\n",
    "\n",
    "plt.title('Regression Model 2 w/o TVD Histogram y-test & y_pred')\n",
    "#plt.xlim(0,15)\n",
    "#plt.yscale('log')\n",
    "plt.grid()\n",
    "plt.legend()\n",
    "plt.show()"
   ]
  },
  {
   "cell_type": "markdown",
   "metadata": {},
   "source": [
    "# Now substitue the prediction into Wells by changing the Early Completion Date and then recalculate DUC status by month.  Reset Early Comp Date."
   ]
  },
  {
   "cell_type": "code",
   "execution_count": null,
   "metadata": {},
   "outputs": [],
   "source": [
    "df_R['Early_Comp'] = Wells['Early_Comp']"
   ]
  },
  {
   "cell_type": "code",
   "execution_count": null,
   "metadata": {},
   "outputs": [],
   "source": [
    "# CHANGE RELEVANT EARLY COMPLETION DATES - REGRESSION RESULTS ARE DIRECT MONTHS\n",
    "\n",
    "for j in range(len(y_test)):\n",
    "    ID = df_R.iloc[y_test[j:j+1].index[0]][0]\n",
    "    \n",
    "    # Y_PRED VALUES ARE FORECASTED AS MONTHS NOT CLASSES, SO NO CONVERSION REQUIRED\n",
    "    pred = y_pred[j]\n",
    "    #pred = vals[val]\n",
    "\n",
    "    df_R['Early_Comp'][df_R['EPAssetsId']==ID] = df_R['FinalDrillDate'][df_R['EPAssetsId']==ID] + timedelta(days = int(pred*30.45))"
   ]
  },
  {
   "cell_type": "code",
   "execution_count": null,
   "metadata": {},
   "outputs": [],
   "source": [
    "for Month in Months:\n",
    "    df_R[Month] = 1*( df_R['FinalDrillDate']<=pd.to_datetime(Month) ) - 1*( df_R['Early_Comp']<=pd.to_datetime(Month) )"
   ]
  },
  {
   "cell_type": "code",
   "execution_count": null,
   "metadata": {},
   "outputs": [],
   "source": [
    "DUCs_by_Month_with_y_pred = ['Regression 2 w/o TVD']\n",
    "for Month in Months:\n",
    "    DUCs_by_Month_with_y_pred.append(sum(df_R[Month]))"
   ]
  },
  {
   "cell_type": "code",
   "execution_count": null,
   "metadata": {
    "scrolled": true
   },
   "outputs": [],
   "source": [
    "DUCs_Compare.loc[4] = DUCs_by_Month_with_y_pred\n",
    "DUCs_Compare.head()"
   ]
  },
  {
   "cell_type": "code",
   "execution_count": null,
   "metadata": {},
   "outputs": [],
   "source": [
    "fig, ax1 = plt.subplots(1, 1, figsize=(15, 8)) \n",
    "ax1.plot(DUCs_Compare.iloc[0,1:], label = DUCs_Compare.iloc[0,0], c = 'm', lw = 3)\n",
    "ax1.plot(DUCs_Compare.iloc[1,1:], label = DUCs_Compare.iloc[1,0])\n",
    "ax1.plot(DUCs_Compare.iloc[2,1:], label = DUCs_Compare.iloc[2,0])\n",
    "ax1.plot(DUCs_Compare.iloc[3,1:], label = DUCs_Compare.iloc[3,0])\n",
    "ax1.plot(DUCs_Compare.iloc[4,1:], label = DUCs_Compare.iloc[4,0])\n",
    "\n",
    "ax1.set_title('Cumulative DUCs by Month: Comparison of Base Case and DUC Prediction Models', fontsize = 16, weight = 'bold')\n",
    "ax1.xaxis.set_major_locator(ticker.MaxNLocator(11))\n",
    "ax1.xaxis.set_minor_locator(ticker.AutoMinorLocator())\n",
    "ax1.set_ylim(0,450)\n",
    "ax1.grid()\n",
    "plt.legend()\n",
    "plt.show()\n"
   ]
  },
  {
   "cell_type": "code",
   "execution_count": null,
   "metadata": {},
   "outputs": [],
   "source": [
    "# COMPARE DELTA TO BASE CASE AND CALCULTAE PERCENT ERROR FOR REGRESSION - 2 w/o TVD\n",
    "Err = 0\n",
    "month = '2015-01-31'\n",
    "for Month in Months:\n",
    "    delta_err = abs((DUCs_Compare.loc[0][Month] - DUCs_Compare.loc[4][Month]) / DUCs_Compare.loc[0][Month])\n",
    "    if delta_err > Err:\n",
    "        Err = delta_err\n",
    "        month = Month\n",
    "'Regression', round(Err, 3), Month"
   ]
  },
  {
   "cell_type": "code",
   "execution_count": null,
   "metadata": {},
   "outputs": [],
   "source": [
    "# COMPARE DELTA TO BASE CASE AND CALCULTAE PERCENT ERROR FOR CLASSIFICATION - 2 w/o TVD\n",
    "Err = 0\n",
    "month = '2015-01-31'\n",
    "for Month in Months:\n",
    "    delta_err = abs((DUCs_Compare.loc[0][Month] - DUCs_Compare.loc[3][Month]) / DUCs_Compare.loc[0][Month])\n",
    "    if delta_err > Err:\n",
    "        Err = delta_err\n",
    "        month = Month\n",
    "'Classification', round(Err, 3), Month"
   ]
  },
  {
   "cell_type": "markdown",
   "metadata": {},
   "source": [
    "## These last 2 models are predicted on an x_test size of ~ 2600 wells (25%).  The maximum error at the low loint is equal or greater than this number, but the error is smaller at the peaks.\n",
    "\n",
    "## These models have not been optimized.\n",
    "\n",
    "## The Classification model w/o TVD has a lower maximum error than the regression model.  Use this when re-training up to the end of 2017.  This model performs well at the peaks."
   ]
  },
  {
   "cell_type": "code",
   "execution_count": null,
   "metadata": {},
   "outputs": [],
   "source": [
    "DUCs_Compare.head()"
   ]
  },
  {
   "cell_type": "markdown",
   "metadata": {},
   "source": [
    "### Look at cumulative sum of DUC-Months for the models vs the actual - Base Case"
   ]
  },
  {
   "cell_type": "code",
   "execution_count": null,
   "metadata": {
    "scrolled": false
   },
   "outputs": [],
   "source": [
    "sum(DUCs_Compare.iloc[0,1:]),  sum(DUCs_Compare.iloc[1,1:]), sum(DUCs_Compare.iloc[2,1:]), sum(DUCs_Compare.iloc[3,1:]), sum(DUCs_Compare.iloc[4,1:] )"
   ]
  },
  {
   "cell_type": "markdown",
   "metadata": {},
   "source": [
    "## Now investigate the performamce of training the models on the first three years of data and predict the remaining 2 years.  If successful, then a model can be used to predict furture DUC inventories with information on formation or area industry drilling plans."
   ]
  },
  {
   "cell_type": "code",
   "execution_count": null,
   "metadata": {},
   "outputs": [],
   "source": [
    "(pd.to_datetime('2017-12-31') - pd.to_datetime('2014-01-01')).days"
   ]
  },
  {
   "cell_type": "code",
   "execution_count": null,
   "metadata": {},
   "outputs": [],
   "source": [
    "X = Wells[['KBElevation','TotalDepth','EndDrillDate_InDays', \n",
    "        'Profile_C', 'Formation_C', 'Field_C', 'Type_C','MonthsDUC_Status',\n",
    "           'DUC_CountGroup']][Wells['EndDrillDate_InDays'] <= 1460]\n",
    "X.shape"
   ]
  },
  {
   "cell_type": "markdown",
   "metadata": {},
   "source": [
    "## Classification"
   ]
  },
  {
   "cell_type": "code",
   "execution_count": null,
   "metadata": {},
   "outputs": [],
   "source": [
    "y = X['MonthsDUC_Status']\n",
    "yC = X['DUC_CountGroup']\n",
    "X.drop(['MonthsDUC_Status','DUC_CountGroup'], axis =1, inplace = True)\n",
    "y.shape, yC.shape"
   ]
  },
  {
   "cell_type": "code",
   "execution_count": null,
   "metadata": {},
   "outputs": [],
   "source": [
    "X.head()"
   ]
  },
  {
   "cell_type": "code",
   "execution_count": null,
   "metadata": {},
   "outputs": [],
   "source": [
    "X_train,X_test, y_train, y_test = train_test_split(X,yC, stratify = yC, test_size=0.10, random_state=0)"
   ]
  },
  {
   "cell_type": "code",
   "execution_count": null,
   "metadata": {},
   "outputs": [],
   "source": [
    "# CHECK SPLITS BY FORMATION\n",
    "sum(X_train['Formation_C']==2), sum(X_test['Formation_C']==2), sum(X_train['Formation_C']==3), sum(X_test['Formation_C']==3) "
   ]
  },
  {
   "cell_type": "code",
   "execution_count": null,
   "metadata": {},
   "outputs": [],
   "source": [
    "scaler = StandardScaler()\n",
    "X_train = scaler.fit_transform(X_train)\n",
    "X_test = scaler.transform(X_test)"
   ]
  },
  {
   "cell_type": "code",
   "execution_count": null,
   "metadata": {},
   "outputs": [],
   "source": [
    "n, d, crit = 175, 12, 'gini'\n",
    "RFC = RandomForestClassifier(n_estimators = n, max_depth = d, criterion = crit, random_state = 0)\n",
    "RFC.fit(X_train, y_train)"
   ]
  },
  {
   "cell_type": "code",
   "execution_count": null,
   "metadata": {},
   "outputs": [],
   "source": [
    "y_pred = RFC.predict(X_test)\n",
    "print(classification_report(y_test, y_pred))"
   ]
  },
  {
   "cell_type": "code",
   "execution_count": null,
   "metadata": {
    "scrolled": true
   },
   "outputs": [],
   "source": [
    "print(confusion_matrix(y_test, y_pred))"
   ]
  },
  {
   "cell_type": "markdown",
   "metadata": {},
   "source": [
    "## Predict on the remaining wells with Final Drill Date after Dec 2017"
   ]
  },
  {
   "cell_type": "code",
   "execution_count": null,
   "metadata": {},
   "outputs": [],
   "source": [
    "sum(Wells['FinalDrillDate']>pd.to_datetime('2017-12-31'))"
   ]
  },
  {
   "cell_type": "code",
   "execution_count": null,
   "metadata": {},
   "outputs": [],
   "source": [
    "X_FWD = Wells[['KBElevation','TotalDepth','EndDrillDate_InDays', \n",
    "        'Profile_C', 'Formation_C', 'Field_C', 'Type_C','MonthsDUC_Status',\n",
    "           'DUC_CountGroup']][Wells['EndDrillDate_InDays'] > 1460]\n",
    "X_FWD.shape"
   ]
  },
  {
   "cell_type": "code",
   "execution_count": null,
   "metadata": {},
   "outputs": [],
   "source": [
    "y = X_FWD['MonthsDUC_Status']\n",
    "yC = X_FWD['DUC_CountGroup']\n",
    "X_FWD.drop(['MonthsDUC_Status','DUC_CountGroup'], axis =1, inplace = True)\n",
    "y.shape, yC.shape"
   ]
  },
  {
   "cell_type": "code",
   "execution_count": null,
   "metadata": {},
   "outputs": [],
   "source": [
    "#  Scale X_FWD on fit from X_train\n",
    "X_FWD = scaler.transform(X_FWD)"
   ]
  },
  {
   "cell_type": "code",
   "execution_count": null,
   "metadata": {},
   "outputs": [],
   "source": [
    "# Predict all forward DUCs & score against actuals\n",
    "y_FWD = RFC.predict(X_FWD)\n",
    "print(classification_report(yC, y_FWD))"
   ]
  },
  {
   "cell_type": "code",
   "execution_count": null,
   "metadata": {
    "scrolled": false
   },
   "outputs": [],
   "source": [
    "print(confusion_matrix(yC, y_FWD))"
   ]
  },
  {
   "cell_type": "markdown",
   "metadata": {},
   "source": [
    "## Reminder that the confusion matrix is showing the model is not acurately predicting well by well DUC months.  The overall aggregated trend of number of wells with low DUC months and number of wells with high DUC months is better.\n",
    "\n",
    "## Reset the Early Comp Dates to reverse changes from prior model predictions, then enter the foward predictions."
   ]
  },
  {
   "cell_type": "code",
   "execution_count": null,
   "metadata": {},
   "outputs": [],
   "source": [
    " df_R['Early_Comp'] = Wells['Early_Comp']"
   ]
  },
  {
   "cell_type": "code",
   "execution_count": null,
   "metadata": {},
   "outputs": [],
   "source": [
    "# CHANGE RELEVANT EARLY COMPLETION DATES\n",
    "vals = [0,1,2,3,4,7.45]  #Class 5 has a mean of 7.45 months\n",
    "\n",
    "for j in range(len(yC)):\n",
    "    ID = df_R.iloc[yC[j:j+1].index[0]][0]\n",
    "    \n",
    "    # CALCULATE THE PREDICTED MONTHS FROM THE CLASSIFICATION 0 TO 5\n",
    "    val = y_FWD[j]\n",
    "    pred = vals[val]\n",
    "\n",
    "    df_R['Early_Comp'][df_R['EPAssetsId']==ID] = df_R['FinalDrillDate'][df_R['EPAssetsId']==ID] + timedelta(days = int(pred*30.45))"
   ]
  },
  {
   "cell_type": "code",
   "execution_count": null,
   "metadata": {},
   "outputs": [],
   "source": [
    "for Month in Months:\n",
    "    df_R[Month] = 1*( df_R['FinalDrillDate']<=pd.to_datetime(Month) ) - 1*( df_R['Early_Comp']<=pd.to_datetime(Month) )"
   ]
  },
  {
   "cell_type": "code",
   "execution_count": null,
   "metadata": {},
   "outputs": [],
   "source": [
    "DUCs_by_Month_with_y_pred = ['Classification w/o TVD FWD from Dec 31 2017']\n",
    "for Month in Months:\n",
    "    DUCs_by_Month_with_y_pred.append(sum(df_R[Month]))"
   ]
  },
  {
   "cell_type": "code",
   "execution_count": null,
   "metadata": {},
   "outputs": [],
   "source": [
    "DUCs_Compare.head(6)"
   ]
  },
  {
   "cell_type": "code",
   "execution_count": null,
   "metadata": {},
   "outputs": [],
   "source": [
    "fig, ax1 = plt.subplots(1, 1, figsize=(15, 8)) \n",
    "ax1.plot(DUCs_Compare.iloc[0,1:37], label = DUCs_Compare.iloc[0,0], c = 'm', lw = 1)\n",
    "ax1.plot(DUCs_Compare.iloc[0,36:], label = DUCs_Compare.iloc[0,0], c = 'm', lw = 3)\n",
    "#ax1.plot(DUCs_Compare.iloc[1,1:], label = DUCs_Compare.iloc[1,0])\n",
    "#ax1.plot(DUCs_Compare.iloc[2,1:], label = DUCs_Compare.iloc[2,0])\n",
    "#ax1.plot(DUCs_Compare.iloc[3,1:], label = DUCs_Compare.iloc[3,0])\n",
    "#ax1.plot(DUCs_Compare.iloc[4,1:], label = DUCs_Compare.iloc[4,0])\n",
    "ax1.plot(DUCs_Compare.iloc[5,36:], label = DUCs_Compare.iloc[5,0], ls = '--', lw = 2)\n",
    "\n",
    "ax1.set_title('Cumulative DUCs by Month: Comparison of Base Case and Forward DUC Prediction Models', fontsize = 16, weight = 'bold')\n",
    "ax1.xaxis.set_major_locator(ticker.MaxNLocator(11))\n",
    "ax1.xaxis.set_minor_locator(ticker.AutoMinorLocator())\n",
    "ax1.grid()\n",
    "ax1.set_ylim(0, 450)\n",
    "plt.legend()\n",
    "plt.show()\n",
    "\n"
   ]
  },
  {
   "cell_type": "markdown",
   "metadata": {},
   "source": [
    "## Repeat with Regression"
   ]
  },
  {
   "cell_type": "code",
   "execution_count": null,
   "metadata": {},
   "outputs": [],
   "source": [
    "X = Wells[['KBElevation','TotalDepth','EndDrillDate_InDays', \n",
    "        'Profile_C', 'Formation_C', 'Field_C', 'Type_C','MonthsDUC_Status',\n",
    "           'DUC_CountGroup']][Wells['EndDrillDate_InDays'] <= 1460]\n",
    "X.shape"
   ]
  },
  {
   "cell_type": "code",
   "execution_count": null,
   "metadata": {},
   "outputs": [],
   "source": [
    "y = X['MonthsDUC_Status']\n",
    "yC = X['DUC_CountGroup']\n",
    "X.drop(['MonthsDUC_Status','DUC_CountGroup'], axis =1, inplace = True)\n",
    "y.shape, yC.shape"
   ]
  },
  {
   "cell_type": "code",
   "execution_count": null,
   "metadata": {},
   "outputs": [],
   "source": [
    "X.head()"
   ]
  },
  {
   "cell_type": "code",
   "execution_count": null,
   "metadata": {},
   "outputs": [],
   "source": [
    "X_train,X_test, y_train, y_test = train_test_split(X, y, test_size=0.10, random_state=0)"
   ]
  },
  {
   "cell_type": "code",
   "execution_count": null,
   "metadata": {},
   "outputs": [],
   "source": [
    "scaler = StandardScaler()\n",
    "X_train = scaler.fit_transform(X_train)\n",
    "X_test = scaler.transform(X_test)"
   ]
  },
  {
   "cell_type": "code",
   "execution_count": null,
   "metadata": {},
   "outputs": [],
   "source": [
    "n, d, mf = 175, 26, 'log2'\n",
    "RFR = RandomForestRegressor(n_estimators = n, max_depth = d, max_features = mf, random_state = 0)\n",
    "RFR.fit(X_train, y_train)"
   ]
  },
  {
   "cell_type": "code",
   "execution_count": null,
   "metadata": {},
   "outputs": [],
   "source": [
    "y_pred = RFR.predict(X_test)\n",
    "RFR_R2 = r2_score(y_test, y_pred)\n",
    "MSE = mean_squared_error(y_test, y_pred)\n",
    "RMSE = np.sqrt(MSE)\n",
    "print(n, \" ests & \" ,d, \" max depth,\", mf, \"max features, R2 for RFR is: \", RFR_R2)\n",
    "print(n, \" ests & \", d, \" max depth,\", mf, \"max features, RMSE RFR is: \", RMSE)"
   ]
  },
  {
   "cell_type": "code",
   "execution_count": null,
   "metadata": {
    "scrolled": true
   },
   "outputs": [],
   "source": [
    "plt.scatter(y_test, y_pred)\n",
    "plt.show()"
   ]
  },
  {
   "cell_type": "code",
   "execution_count": null,
   "metadata": {},
   "outputs": [],
   "source": [
    "plt.figure(figsize=(12,5)) \n",
    "sns.distplot(y_test, bins = 15, color = 'tab:green', label = 'y_test', kde = False)\n",
    "sns.distplot(y_pred, bins = 15, color = 'tab:blue', label = 'y-pred', kde = False)\n",
    "\n",
    "\n",
    "plt.title('Regression Model 2 w/o TVD Histogram y-test & y_pred')\n",
    "#plt.xlim(0,15)\n",
    "#plt.yscale('log')\n",
    "plt.grid()\n",
    "plt.legend()\n",
    "plt.show()"
   ]
  },
  {
   "cell_type": "markdown",
   "metadata": {},
   "source": [
    "## Reset the Early Comp Dates to reverse changes from prior model predictions, then enter the foward predictions."
   ]
  },
  {
   "cell_type": "code",
   "execution_count": null,
   "metadata": {},
   "outputs": [],
   "source": [
    "X_FWD = Wells[['KBElevation','TotalDepth','EndDrillDate_InDays', \n",
    "        'Profile_C', 'Formation_C', 'Field_C', 'Type_C','MonthsDUC_Status',\n",
    "           'DUC_CountGroup']][Wells['EndDrillDate_InDays'] > 1460]\n",
    "X_FWD.shape"
   ]
  },
  {
   "cell_type": "code",
   "execution_count": null,
   "metadata": {},
   "outputs": [],
   "source": [
    "y = X_FWD['MonthsDUC_Status']\n",
    "yC = X_FWD['DUC_CountGroup']\n",
    "X_FWD.drop(['MonthsDUC_Status','DUC_CountGroup'], axis =1, inplace = True)\n",
    "y.shape, yC.shape"
   ]
  },
  {
   "cell_type": "code",
   "execution_count": null,
   "metadata": {},
   "outputs": [],
   "source": [
    "#  Scale X_FWD on fit from X_train\n",
    "X_FWD = scaler.transform(X_FWD)"
   ]
  },
  {
   "cell_type": "code",
   "execution_count": null,
   "metadata": {},
   "outputs": [],
   "source": [
    "y_FWD = RFR.predict(X_FWD)\n",
    "RFR_R2 = r2_score(y, y_FWD)\n",
    "MSE = mean_squared_error(y, y_FWD)\n",
    "RMSE = np.sqrt(MSE)\n",
    "print(n, \" ests & \" ,d, \" max depth,\", mf, \"max features, R2 for RFR is: \", RFR_R2)\n",
    "print(n, \" ests & \", d, \" max depth,\", mf, \"max features, RMSE RFR is: \", RMSE)"
   ]
  },
  {
   "cell_type": "code",
   "execution_count": null,
   "metadata": {},
   "outputs": [],
   "source": [
    " df_R['Early_Comp'] = Wells['Early_Comp']"
   ]
  },
  {
   "cell_type": "code",
   "execution_count": null,
   "metadata": {},
   "outputs": [],
   "source": [
    "# CHANGE RELEVANT EARLY COMPLETION DATES - REGRESSION RESULTS ARE DIRECT MONTHS\n",
    "\n",
    "for j in range(len(y)):\n",
    "    ID = df_R.iloc[y[j:j+1].index[0]][0]\n",
    "    \n",
    "    # Y_PRED VALUES ARE FORECASTED AS MONTHS NOT CLASSES, SO NO CONVERSION REQUIRED\n",
    "    pred = y_FWD[j]\n",
    "    #pred = vals[val]\n",
    "\n",
    "    df_R['Early_Comp'][df_R['EPAssetsId']==ID] = df_R['FinalDrillDate'][df_R['EPAssetsId']==ID] + timedelta(days = int(pred*30.45))"
   ]
  },
  {
   "cell_type": "code",
   "execution_count": null,
   "metadata": {},
   "outputs": [],
   "source": [
    "for Month in Months:\n",
    "    df_R[Month] = 1*( df_R['FinalDrillDate']<=pd.to_datetime(Month) ) - 1*( df_R['Early_Comp']<=pd.to_datetime(Month) )"
   ]
  },
  {
   "cell_type": "code",
   "execution_count": null,
   "metadata": {},
   "outputs": [],
   "source": [
    "DUCs_by_Month_with_y_pred = ['Regression w/o TVD FWD from Dec 31 2017']\n",
    "for Month in Months:\n",
    "    DUCs_by_Month_with_y_pred.append(sum(df_R[Month]))"
   ]
  },
  {
   "cell_type": "code",
   "execution_count": null,
   "metadata": {
    "scrolled": false
   },
   "outputs": [],
   "source": [
    "DUCs_Compare.loc[6] = DUCs_by_Month_with_y_pred\n",
    "DUCs_Compare.head(7)"
   ]
  },
  {
   "cell_type": "code",
   "execution_count": null,
   "metadata": {
    "scrolled": false
   },
   "outputs": [],
   "source": [
    "fig, ax1 = plt.subplots(1, 1, figsize=(15, 8)) \n",
    "ax1.plot(DUCs_Compare.iloc[0,1:37], label = DUCs_Compare.iloc[0,0], c = 'm', lw = 1)\n",
    "ax1.plot(DUCs_Compare.iloc[0,36:], label = DUCs_Compare.iloc[0,0], c = 'm', lw = 3)\n",
    "#ax1.plot(DUCs_Compare.iloc[1,1:], label = DUCs_Compare.iloc[1,0])\n",
    "#ax1.plot(DUCs_Compare.iloc[2,1:], label = DUCs_Compare.iloc[2,0])\n",
    "#ax1.plot(DUCs_Compare.iloc[3,1:], label = DUCs_Compare.iloc[3,0])\n",
    "#ax1.plot(DUCs_Compare.iloc[4,1:], label = DUCs_Compare.iloc[4,0])\n",
    "ax1.plot(DUCs_Compare.iloc[5,36:], label = DUCs_Compare.iloc[5,0], ls = '--', lw = 2)\n",
    "ax1.plot(DUCs_Compare.iloc[6,36:], label = DUCs_Compare.iloc[5,0], ls = '--', lw = 2)\n",
    "\n",
    "ax1.set_title('Cumulative DUCs by Month: Comparison of Base Case and Forward DUC Prediction Models', fontsize = 16, weight = 'bold')\n",
    "ax1.xaxis.set_major_locator(ticker.MaxNLocator(11))\n",
    "ax1.xaxis.set_minor_locator(ticker.AutoMinorLocator())\n",
    "ax1.grid()\n",
    "ax1.set_ylim(0, 550)\n",
    "plt.legend()\n",
    "plt.show()\n",
    "\n"
   ]
  },
  {
   "cell_type": "code",
   "execution_count": null,
   "metadata": {},
   "outputs": [],
   "source": [
    "DUCs_Compare.to_csv('DUCS_Compare.csv')"
   ]
  },
  {
   "cell_type": "markdown",
   "metadata": {},
   "source": [
    "## Add Operator and Projected Depth to the model"
   ]
  },
  {
   "cell_type": "code",
   "execution_count": null,
   "metadata": {},
   "outputs": [],
   "source": [
    "Raw = pd.read_csv('WellHeader_DatathonRev1.csv')"
   ]
  },
  {
   "cell_type": "code",
   "execution_count": null,
   "metadata": {},
   "outputs": [],
   "source": [
    "Raw[['TotalDepth', 'ProjectedDepth']].info()"
   ]
  },
  {
   "cell_type": "code",
   "execution_count": null,
   "metadata": {},
   "outputs": [],
   "source": [
    "Raw['ProjectedDepth'].fillna(Raw['TotalDepth'], inplace = True)"
   ]
  },
  {
   "cell_type": "code",
   "execution_count": null,
   "metadata": {},
   "outputs": [],
   "source": [
    "Raw[['TotalDepth', 'ProjectedDepth']].info()"
   ]
  },
  {
   "cell_type": "code",
   "execution_count": null,
   "metadata": {
    "scrolled": true
   },
   "outputs": [],
   "source": [
    "plt.scatter(Raw['TotalDepth'], Raw['ProjectedDepth'])\n",
    "plt.show"
   ]
  },
  {
   "cell_type": "code",
   "execution_count": null,
   "metadata": {},
   "outputs": [],
   "source": [
    "Raw[['TotalDepth','ProjectedDepth']].describe()"
   ]
  },
  {
   "cell_type": "code",
   "execution_count": null,
   "metadata": {},
   "outputs": [],
   "source": [
    "Wells = pd.merge(Wells, Raw[['EPAssetsId','ProjectedDepth']], left_on = 'EPAssetsId', right_on = 'EPAssetsId', how = 'outer', sort = False)\n",
    "df_R = pd.merge(df_R, Raw[['EPAssetsId','ProjectedDepth']], left_on = 'EPAssetsId', right_on = 'EPAssetsId', how = 'outer', sort = False)"
   ]
  },
  {
   "cell_type": "markdown",
   "metadata": {},
   "source": [
    "## New Models, add Current Operator Parent (number, do not need label encoder)"
   ]
  },
  {
   "cell_type": "code",
   "execution_count": null,
   "metadata": {},
   "outputs": [],
   "source": [
    "X = Wells[['CurrentOperatorParent','KBElevation','ProjectedDepth','EndDrillDate_InDays', \n",
    "        'Profile_C', 'Formation_C', 'Field_C', 'Type_C','MonthsDUC_Status',\n",
    "           'DUC_CountGroup']][Wells['EndDrillDate_InDays'] <= 1460]\n",
    "X.shape"
   ]
  },
  {
   "cell_type": "code",
   "execution_count": null,
   "metadata": {},
   "outputs": [],
   "source": [
    "y = X['MonthsDUC_Status']\n",
    "yC = X['DUC_CountGroup']\n",
    "X.drop(['MonthsDUC_Status','DUC_CountGroup'], axis =1, inplace = True)\n",
    "y.shape, yC.shape"
   ]
  },
  {
   "cell_type": "code",
   "execution_count": null,
   "metadata": {},
   "outputs": [],
   "source": [
    "X.head()"
   ]
  },
  {
   "cell_type": "code",
   "execution_count": null,
   "metadata": {},
   "outputs": [],
   "source": [
    "X_train,X_test, y_train, y_test = train_test_split(X, y, test_size=0.10, random_state=0)"
   ]
  },
  {
   "cell_type": "code",
   "execution_count": null,
   "metadata": {},
   "outputs": [],
   "source": [
    "scaler = StandardScaler()\n",
    "X_train = scaler.fit_transform(X_train)\n",
    "X_test = scaler.transform(X_test)"
   ]
  },
  {
   "cell_type": "code",
   "execution_count": null,
   "metadata": {},
   "outputs": [],
   "source": [
    "n, d, mf = 175, 26, 'log2'\n",
    "RFR_F2 = RandomForestRegressor(n_estimators = n, max_depth = d, max_features = mf, random_state = 0)\n",
    "RFR_F2.fit(X_train, y_train)"
   ]
  },
  {
   "cell_type": "code",
   "execution_count": null,
   "metadata": {},
   "outputs": [],
   "source": [
    "y_pred = RFR_F2.predict(X_test)\n",
    "RFR_R2 = r2_score(y_test, y_pred)\n",
    "MSE = mean_squared_error(y_test, y_pred)\n",
    "RMSE = np.sqrt(MSE)\n",
    "print(n, \" ests & \" ,d, \" max depth,\", mf, \"max features, R2 for RFR is: \", RFR_R2)\n",
    "print(n, \" ests & \", d, \" max depth,\", mf, \"max features, RMSE RFR is: \", RMSE)"
   ]
  },
  {
   "cell_type": "code",
   "execution_count": null,
   "metadata": {
    "scrolled": false
   },
   "outputs": [],
   "source": [
    "plt.scatter(y_test, y_pred)\n",
    "plt.show()"
   ]
  },
  {
   "cell_type": "code",
   "execution_count": null,
   "metadata": {
    "scrolled": false
   },
   "outputs": [],
   "source": [
    "plt.figure(figsize=(12,5)) \n",
    "sns.distplot(y_test, bins = 15, color = 'tab:green', label = 'y_test', kde = False)\n",
    "sns.distplot(y_pred, bins = 15, color = 'tab:blue', label = 'y-pred', kde = False)\n",
    "\n",
    "\n",
    "plt.title('Regression Model 2 w/o TVD Histogram y-test & y_pred')\n",
    "#plt.xlim(0,15)\n",
    "#plt.yscale('log')\n",
    "plt.grid()\n",
    "plt.legend()\n",
    "plt.show()"
   ]
  },
  {
   "cell_type": "code",
   "execution_count": null,
   "metadata": {},
   "outputs": [],
   "source": [
    " df_R['Early_Comp'] = Wells['Early_Comp']"
   ]
  },
  {
   "cell_type": "code",
   "execution_count": null,
   "metadata": {},
   "outputs": [],
   "source": [
    "X_FWD = Wells[['CurrentOperatorParent','KBElevation','ProjectedDepth','EndDrillDate_InDays', \n",
    "        'Profile_C', 'Formation_C', 'Field_C', 'Type_C','MonthsDUC_Status',\n",
    "           'DUC_CountGroup']][Wells['EndDrillDate_InDays'] > 1460]\n",
    "X_FWD.shape"
   ]
  },
  {
   "cell_type": "code",
   "execution_count": null,
   "metadata": {},
   "outputs": [],
   "source": [
    "y = X_FWD['MonthsDUC_Status']\n",
    "yC = X_FWD['DUC_CountGroup']\n",
    "X_FWD.drop(['MonthsDUC_Status','DUC_CountGroup'], axis =1, inplace = True)\n",
    "y.shape, yC.shape"
   ]
  },
  {
   "cell_type": "code",
   "execution_count": null,
   "metadata": {},
   "outputs": [],
   "source": [
    "#  Scale X_FWD on fit from X_train\n",
    "X_FWD = scaler.transform(X_FWD)"
   ]
  },
  {
   "cell_type": "code",
   "execution_count": null,
   "metadata": {},
   "outputs": [],
   "source": [
    "y_FWD = RFR_F2.predict(X_FWD)\n",
    "RFR_R2 = r2_score(y, y_FWD)\n",
    "MSE = mean_squared_error(y, y_FWD)\n",
    "RMSE = np.sqrt(MSE)\n",
    "print(n, \" ests & \" ,d, \" max depth,\", mf, \"max features, R2 for RFR is: \", RFR_R2)\n",
    "print(n, \" ests & \", d, \" max depth,\", mf, \"max features, RMSE RFR is: \", RMSE)"
   ]
  },
  {
   "cell_type": "code",
   "execution_count": null,
   "metadata": {},
   "outputs": [],
   "source": [
    "# CHANGE RELEVANT EARLY COMPLETION DATES - REGRESSION RESULTS ARE DIRECT MONTHS\n",
    "for j in range(len(y)):\n",
    "    ID = df_R.iloc[y[j:j+1].index[0]][0]\n",
    "    # Y_PRED VALUES ARE FORECASTED AS MONTHS NOT CLASSES, SO NO CONVERSION REQUIRED\n",
    "    pred = y_FWD[j]\n",
    "    #pred = vals[val]\n",
    "    df_R['Early_Comp'][df_R['EPAssetsId']==ID] = df_R['FinalDrillDate'][df_R['EPAssetsId']==ID] + timedelta(days = int(pred*30.45))"
   ]
  },
  {
   "cell_type": "code",
   "execution_count": null,
   "metadata": {},
   "outputs": [],
   "source": [
    "for Month in Months:\n",
    "    df_R[Month] = 1*( df_R['FinalDrillDate']<=pd.to_datetime(Month) ) - 1*( df_R['Early_Comp']<=pd.to_datetime(Month) )"
   ]
  },
  {
   "cell_type": "code",
   "execution_count": null,
   "metadata": {},
   "outputs": [],
   "source": [
    "DUCs_by_Month_with_y_pred = ['Regression w Oper & ProjectedDepth FWD from Dec 31 2017']\n",
    "for Month in Months:\n",
    "    DUCs_by_Month_with_y_pred.append(sum(df_R[Month]))"
   ]
  },
  {
   "cell_type": "code",
   "execution_count": null,
   "metadata": {},
   "outputs": [],
   "source": [
    "RFR_F2_Results = DUCs_by_Month_with_y_pred\n"
   ]
  },
  {
   "cell_type": "markdown",
   "metadata": {},
   "source": [
    "### Classification:  First resplit using yC"
   ]
  },
  {
   "cell_type": "code",
   "execution_count": null,
   "metadata": {},
   "outputs": [],
   "source": [
    "X = Wells[['CurrentOperatorParent','KBElevation','ProjectedDepth','EndDrillDate_InDays', \n",
    "        'Profile_C', 'Formation_C', 'Field_C', 'Type_C','MonthsDUC_Status',\n",
    "           'DUC_CountGroup']][Wells['EndDrillDate_InDays'] <= 1460]\n",
    "X.shape"
   ]
  },
  {
   "cell_type": "code",
   "execution_count": null,
   "metadata": {},
   "outputs": [],
   "source": [
    "y = X['MonthsDUC_Status']\n",
    "yC = X['DUC_CountGroup']\n",
    "X.drop(['MonthsDUC_Status','DUC_CountGroup'], axis =1, inplace = True)\n",
    "y.shape, yC.shape"
   ]
  },
  {
   "cell_type": "code",
   "execution_count": null,
   "metadata": {},
   "outputs": [],
   "source": [
    "X_train,X_test, y_train, y_test = train_test_split(X,yC, stratify = yC, test_size=0.10, random_state=0)"
   ]
  },
  {
   "cell_type": "code",
   "execution_count": null,
   "metadata": {},
   "outputs": [],
   "source": [
    "scaler = StandardScaler()\n",
    "X_train = scaler.fit_transform(X_train)\n",
    "X_test = scaler.transform(X_test)"
   ]
  },
  {
   "cell_type": "code",
   "execution_count": null,
   "metadata": {},
   "outputs": [],
   "source": [
    "n, d, crit = 175, 12, 'gini'\n",
    "RFC_F2 = RandomForestClassifier(n_estimators = n, max_depth = d, criterion = crit, random_state = 0)\n",
    "RFC_F2.fit(X_train, y_train)"
   ]
  },
  {
   "cell_type": "code",
   "execution_count": null,
   "metadata": {},
   "outputs": [],
   "source": [
    "y_pred = RFC_F2.predict(X_test)\n",
    "print(classification_report(y_test, y_pred))"
   ]
  },
  {
   "cell_type": "code",
   "execution_count": null,
   "metadata": {
    "scrolled": false
   },
   "outputs": [],
   "source": [
    "print(confusion_matrix(y_test, y_pred))"
   ]
  },
  {
   "cell_type": "markdown",
   "metadata": {},
   "source": [
    "## Predict on the remaining wells with Final Drill Date afte Dec 2017"
   ]
  },
  {
   "cell_type": "code",
   "execution_count": null,
   "metadata": {},
   "outputs": [],
   "source": [
    "sum(Wells['FinalDrillDate']>pd.to_datetime('2017-12-31'))"
   ]
  },
  {
   "cell_type": "code",
   "execution_count": null,
   "metadata": {},
   "outputs": [],
   "source": [
    "X_FWD = Wells[['CurrentOperatorParent','KBElevation','ProjectedDepth','EndDrillDate_InDays', \n",
    "        'Profile_C', 'Formation_C', 'Field_C', 'Type_C','MonthsDUC_Status',\n",
    "           'DUC_CountGroup']][Wells['EndDrillDate_InDays'] > 1460]\n",
    "X_FWD.shape"
   ]
  },
  {
   "cell_type": "code",
   "execution_count": null,
   "metadata": {},
   "outputs": [],
   "source": [
    "y = X_FWD['MonthsDUC_Status']\n",
    "yC = X_FWD['DUC_CountGroup']\n",
    "X_FWD.drop(['MonthsDUC_Status','DUC_CountGroup'], axis =1, inplace = True)\n",
    "y.shape, yC.shape"
   ]
  },
  {
   "cell_type": "code",
   "execution_count": null,
   "metadata": {},
   "outputs": [],
   "source": [
    "#  Scale X_FWD on fit from X_train\n",
    "X_FWD = scaler.transform(X_FWD)"
   ]
  },
  {
   "cell_type": "code",
   "execution_count": null,
   "metadata": {
    "scrolled": true
   },
   "outputs": [],
   "source": [
    "# Predict all forward DUCs & score against actuals\n",
    "y_FWD = RFC_F2.predict(X_FWD)\n",
    "print(classification_report(yC, y_FWD))"
   ]
  },
  {
   "cell_type": "code",
   "execution_count": null,
   "metadata": {
    "scrolled": false
   },
   "outputs": [],
   "source": [
    "print(confusion_matrix(yC, y_FWD))"
   ]
  },
  {
   "cell_type": "code",
   "execution_count": null,
   "metadata": {},
   "outputs": [],
   "source": [
    "df_R['Early_Comp'] = Wells['Early_Comp']"
   ]
  },
  {
   "cell_type": "code",
   "execution_count": null,
   "metadata": {},
   "outputs": [],
   "source": [
    "# CHANGE RELEVANT EARLY COMPLETION DATES - REGRESSION RESULTS ARE DIRECT MONTHS\n",
    "for j in range(len(y)):\n",
    "    ID = df_R.iloc[y[j:j+1].index[0]][0]\n",
    "    # Y_PRED VALUES ARE FORECASTED AS MONTHS NOT CLASSES, SO NO CONVERSION REQUIRED\n",
    "    pred = y_FWD[j]\n",
    "    #pred = vals[val]\n",
    "    df_R['Early_Comp'][df_R['EPAssetsId']==ID] = df_R['FinalDrillDate'][df_R['EPAssetsId']==ID] + timedelta(days = int(pred*30.45))"
   ]
  },
  {
   "cell_type": "code",
   "execution_count": null,
   "metadata": {},
   "outputs": [],
   "source": [
    "for Month in Months:\n",
    "    df_R[Month] = 1*( df_R['FinalDrillDate']<=pd.to_datetime(Month) ) - 1*( df_R['Early_Comp']<=pd.to_datetime(Month) )"
   ]
  },
  {
   "cell_type": "code",
   "execution_count": null,
   "metadata": {},
   "outputs": [],
   "source": [
    "DUCs_by_Month_with_y_pred = ['Classification w Oper & ProjectedDepth FWD from Dec 31 2017']\n",
    "for Month in Months:\n",
    "    DUCs_by_Month_with_y_pred.append(sum(df_R[Month]))"
   ]
  },
  {
   "cell_type": "code",
   "execution_count": null,
   "metadata": {},
   "outputs": [],
   "source": [
    "RFC_F2_Results = DUCs_by_Month_with_y_pred"
   ]
  },
  {
   "cell_type": "code",
   "execution_count": null,
   "metadata": {},
   "outputs": [],
   "source": [
    "DUCs_Compare.loc[7] = RFC_F2_Results\n",
    "DUCs_Compare.loc[8] = RFR_F2_Results"
   ]
  },
  {
   "cell_type": "code",
   "execution_count": null,
   "metadata": {},
   "outputs": [],
   "source": [
    "DUCs_Compare.head(10)"
   ]
  },
  {
   "cell_type": "code",
   "execution_count": null,
   "metadata": {},
   "outputs": [],
   "source": [
    "fig, ax1 = plt.subplots(1, 1, figsize=(15, 8)) \n",
    "ax1.plot(DUCs_Compare.iloc[0,1:37], label = DUCs_Compare.iloc[0,0], c = 'm', lw = 1)\n",
    "ax1.plot(DUCs_Compare.iloc[0,36:], label = DUCs_Compare.iloc[0,0], c = 'm', lw = 3)\n",
    "#ax1.plot(DUCs_Compare.iloc[1,1:], label = DUCs_Compare.iloc[1,0])\n",
    "#ax1.plot(DUCs_Compare.iloc[2,1:], label = DUCs_Compare.iloc[2,0])\n",
    "#ax1.plot(DUCs_Compare.iloc[3,1:], label = DUCs_Compare.iloc[3,0])\n",
    "#ax1.plot(DUCs_Compare.iloc[4,1:], label = DUCs_Compare.iloc[4,0])\n",
    "ax1.plot(DUCs_Compare.iloc[5,36:], label = DUCs_Compare.iloc[5,0], ls = '--', lw = 2)\n",
    "ax1.plot(DUCs_Compare.iloc[6,36:], label = DUCs_Compare.iloc[6,0], ls = '--', lw = 2)\n",
    "ax1.plot(DUCs_Compare.iloc[7,36:], label = DUCs_Compare.iloc[7,0], ls = '--', lw = 2)\n",
    "ax1.plot(DUCs_Compare.iloc[8,36:], label = DUCs_Compare.iloc[8,0], ls = '--', lw = 2)\n",
    "\n",
    "ax1.set_title('Cumulative DUCs by Month: Comparison of Base Case and DUC Prediction Models', fontsize = 16, weight = 'bold')\n",
    "ax1.xaxis.set_major_locator(ticker.MaxNLocator(11))\n",
    "ax1.xaxis.set_minor_locator(ticker.AutoMinorLocator())\n",
    "ax1.grid()\n",
    "ax1.set_ylim(0, 550)\n",
    "plt.legend()\n",
    "plt.show()\n"
   ]
  },
  {
   "cell_type": "code",
   "execution_count": null,
   "metadata": {},
   "outputs": [],
   "source": [
    "DUCs_Compare.to_csv('DUCS_Compare.csv')"
   ]
  },
  {
   "cell_type": "markdown",
   "metadata": {},
   "source": [
    "## Try Modelling on TotalDepth and forecasting on Projected Depth"
   ]
  },
  {
   "cell_type": "code",
   "execution_count": null,
   "metadata": {},
   "outputs": [],
   "source": [
    "X = Wells[['CurrentOperatorParent','KBElevation','TotalDepth','EndDrillDate_InDays', \n",
    "        'Profile_C', 'Formation_C', 'Field_C', 'Type_C','MonthsDUC_Status',\n",
    "           'DUC_CountGroup']][Wells['EndDrillDate_InDays'] <= 1460]\n",
    "X.shape"
   ]
  },
  {
   "cell_type": "code",
   "execution_count": null,
   "metadata": {},
   "outputs": [],
   "source": [
    "X_FWD = Wells[['CurrentOperatorParent','KBElevation','ProjectedDepth','EndDrillDate_InDays', \n",
    "        'Profile_C', 'Formation_C', 'Field_C', 'Type_C','MonthsDUC_Status',\n",
    "           'DUC_CountGroup']][Wells['EndDrillDate_InDays'] > 1460]\n",
    "X_FWD.shape"
   ]
  },
  {
   "cell_type": "code",
   "execution_count": null,
   "metadata": {},
   "outputs": [],
   "source": [
    "y = X['MonthsDUC_Status']\n",
    "yC = X['DUC_CountGroup']\n",
    "X.drop(['MonthsDUC_Status','DUC_CountGroup'], axis =1, inplace = True)\n",
    "y.shape, yC.shape"
   ]
  },
  {
   "cell_type": "code",
   "execution_count": null,
   "metadata": {},
   "outputs": [],
   "source": [
    "y_FWD = X_FWD['MonthsDUC_Status']\n",
    "yC_FWD = X_FWD['DUC_CountGroup']\n",
    "X_FWD.drop(['MonthsDUC_Status','DUC_CountGroup'], axis =1, inplace = True)\n",
    "y_FWD.shape, yC_FWD.shape"
   ]
  },
  {
   "cell_type": "code",
   "execution_count": null,
   "metadata": {},
   "outputs": [],
   "source": [
    "X.head(2)"
   ]
  },
  {
   "cell_type": "code",
   "execution_count": null,
   "metadata": {},
   "outputs": [],
   "source": [
    "X_FWD.head(2)"
   ]
  },
  {
   "cell_type": "code",
   "execution_count": null,
   "metadata": {},
   "outputs": [],
   "source": [
    "X_train,X_test, y_train, y_test = train_test_split(X, y, test_size=0.10, random_state=0)"
   ]
  },
  {
   "cell_type": "code",
   "execution_count": null,
   "metadata": {},
   "outputs": [],
   "source": [
    "X_trainC,X_testC, y_trainC, y_testC = train_test_split(X, yC, test_size=0.10, random_state=0)"
   ]
  },
  {
   "cell_type": "code",
   "execution_count": null,
   "metadata": {},
   "outputs": [],
   "source": [
    "scaler = StandardScaler()\n",
    "X_train = scaler.fit_transform(X_train)\n",
    "X_test = scaler.transform(X_test)\n",
    "X_FWD = scaler.transform(X_FWD)\n",
    "X_trainC = scaler.transform(X_trainC)\n",
    "X_testC = scaler.transform(X_testC)"
   ]
  },
  {
   "cell_type": "code",
   "execution_count": null,
   "metadata": {},
   "outputs": [],
   "source": [
    "n, d, mf = 175, 26, 'log2'\n",
    "RFR_F3 = RandomForestRegressor(n_estimators = n, max_depth = d, max_features = mf, random_state = 0)\n",
    "RFR_F3.fit(X_train, y_train)"
   ]
  },
  {
   "cell_type": "code",
   "execution_count": null,
   "metadata": {},
   "outputs": [],
   "source": [
    "y_pred_RFR_F3 = RFR_F3.predict(X_test)\n",
    "RFR_R2 = r2_score(y_test, y_pred_RFR_F3)\n",
    "MSE = mean_squared_error(y_test, y_pred_RFR_F3)\n",
    "RMSE = np.sqrt(MSE)\n",
    "print(n, \" ests & \" ,d, \" max depth,\", mf, \"max features, R2 for RFR is: \", RFR_R2)\n",
    "print(n, \" ests & \", d, \" max depth,\", mf, \"max features, RMSE RFR is: \", RMSE)"
   ]
  },
  {
   "cell_type": "code",
   "execution_count": null,
   "metadata": {
    "scrolled": false
   },
   "outputs": [],
   "source": [
    "plt.scatter(y_test,y_pred_RFR_F3)\n",
    "plt.show()"
   ]
  },
  {
   "cell_type": "code",
   "execution_count": null,
   "metadata": {},
   "outputs": [],
   "source": [
    "n, d, crit = 175, 12, 'gini'\n",
    "RFC_F3 = RandomForestClassifier(n_estimators = n, max_depth = d, criterion = crit, random_state = 0)\n",
    "RFC_F3.fit(X_trainC, y_trainC)"
   ]
  },
  {
   "cell_type": "code",
   "execution_count": null,
   "metadata": {},
   "outputs": [],
   "source": [
    "y_pred_RFC_F3 = RFC_F3.predict(X_testC)\n",
    "print(classification_report(y_testC, y_pred_RFC_F3))"
   ]
  },
  {
   "cell_type": "code",
   "execution_count": null,
   "metadata": {
    "scrolled": false
   },
   "outputs": [],
   "source": [
    "print(confusion_matrix(y_testC, y_pred_RFC_F3))"
   ]
  },
  {
   "cell_type": "markdown",
   "metadata": {},
   "source": [
    "### Predict Forward"
   ]
  },
  {
   "cell_type": "code",
   "execution_count": null,
   "metadata": {
    "scrolled": true
   },
   "outputs": [],
   "source": [
    "# Predict all forward DUCs & score against actuals\n",
    "y_FWD_RFC_F3 = RFC_F3.predict(X_FWD)\n",
    "print(classification_report(yC_FWD, y_FWD_RFC_F3))"
   ]
  },
  {
   "cell_type": "code",
   "execution_count": null,
   "metadata": {
    "scrolled": false
   },
   "outputs": [],
   "source": [
    "print(confusion_matrix(yC_FWD, y_FWD_RFC_F3))"
   ]
  },
  {
   "cell_type": "code",
   "execution_count": null,
   "metadata": {},
   "outputs": [],
   "source": [
    "y_FWD_RFR_F3 = RFR_F3.predict(X_FWD)\n",
    "RFR_R2 = r2_score(y_FWD,y_FWD_RFR_F3)\n",
    "MSE = mean_squared_error(y_FWD,y_FWD_RFR_F3)\n",
    "RMSE = np.sqrt(MSE)\n",
    "print(n, \" ests & \" ,d, \" max depth,\", mf, \"max features, R2 for RFR is: \", RFR_R2)\n",
    "print(n, \" ests & \", d, \" max depth,\", mf, \"max features, RMSE RFR is: \", RMSE)"
   ]
  },
  {
   "cell_type": "markdown",
   "metadata": {},
   "source": [
    "## Reset Early Comp dates and load results for each model"
   ]
  },
  {
   "cell_type": "code",
   "execution_count": null,
   "metadata": {},
   "outputs": [],
   "source": [
    "df_R['Early_Comp'] = Wells['Early_Comp']"
   ]
  },
  {
   "cell_type": "code",
   "execution_count": null,
   "metadata": {
    "scrolled": true
   },
   "outputs": [],
   "source": [
    "# CHANGE RELEVANT EARLY COMPLETION DATES - CLASSIFICATION RESULTS ARE CLASSES & HAVE TO BE CONVERTED TO MONTHS\n",
    "for j in range(len(yC_FWD)):\n",
    "    ID = df_R.iloc[yC_FWD[j:j+1].index[0]][0]\n",
    "    # Y_PRED VALUES ARE FORECASTED AS CLASSES, SO CONVERSION REQUIRED\n",
    "    val = y_FWD_RFC_F3[j]\n",
    "    pred = vals[val]\n",
    "    df_R['Early_Comp'][df_R['EPAssetsId']==ID] = df_R['FinalDrillDate'][df_R['EPAssetsId']==ID] + timedelta(days = int(pred*30.45))"
   ]
  },
  {
   "cell_type": "code",
   "execution_count": null,
   "metadata": {},
   "outputs": [],
   "source": [
    "for Month in Months:\n",
    "    df_R[Month] = 1*( df_R['FinalDrillDate']<=pd.to_datetime(Month) ) - 1*( df_R['Early_Comp']<=pd.to_datetime(Month) )"
   ]
  },
  {
   "cell_type": "code",
   "execution_count": null,
   "metadata": {},
   "outputs": [],
   "source": [
    "DUCs_by_Month_with_y_pred = ['Classification w Oper Trained on TotalDepth, F/C on ProjectedDepth FWD from Dec 31 2017']\n",
    "for Month in Months:\n",
    "    DUCs_by_Month_with_y_pred.append(sum(df_R[Month]))"
   ]
  },
  {
   "cell_type": "code",
   "execution_count": null,
   "metadata": {},
   "outputs": [],
   "source": [
    "RFC_F3_Results = DUCs_by_Month_with_y_pred"
   ]
  },
  {
   "cell_type": "markdown",
   "metadata": {},
   "source": [
    "## Get Results by Formation"
   ]
  },
  {
   "cell_type": "code",
   "execution_count": null,
   "metadata": {},
   "outputs": [],
   "source": [
    "# Load DUCs Compare as a framework for DUC Prediction by Month\n",
    "DUCs_FWD_by_Formation = pd.read_csv('DUCs_Compare.csv')"
   ]
  },
  {
   "cell_type": "code",
   "execution_count": null,
   "metadata": {},
   "outputs": [],
   "source": [
    "DUCs_FWD_by_Formation.drop('Unnamed: 0', axis = 1, inplace = True)"
   ]
  },
  {
   "cell_type": "code",
   "execution_count": null,
   "metadata": {},
   "outputs": [],
   "source": [
    "DUCs_FWD_by_Formation['Model'] = ['Base - Cardium', 'Base - Duvernay', 'Base - Montney', 'Base - Viking',\n",
    "                                  'FWD_CLS_F3 - Cardium','FWD_CLS_F3 - Duvernay', 'FWD_CLS_F3 - Montney', 'FWD_CLS_F3 - Viking',\n",
    "                                 'FWD_REG_F3 - Cardium']#,'FWD_REG_F3 - Duvernay', 'FWD_REG_F3 - Montney', 'FWD_REG_F3 - Viking']"
   ]
  },
  {
   "cell_type": "code",
   "execution_count": null,
   "metadata": {},
   "outputs": [],
   "source": [
    "#Get BASE CASE by Formation\n",
    "Labels =  ['Base - Cardium', 'Base - Duvernay', 'Base - Montney', 'Base - Viking']\n",
    "Forms = [0,1,2,3]\n",
    "for Form in Forms:\n",
    "    entry = [Labels[Form]]\n",
    "    for Month in Months:\n",
    "        entry.append(sum(Wells[Month][Wells['Formation_C'] == Form]))\n",
    "    DUCs_FWD_by_Formation.loc[Form] = entry\n",
    "DUCs_FWD_by_Formation.head()"
   ]
  },
  {
   "cell_type": "code",
   "execution_count": null,
   "metadata": {},
   "outputs": [],
   "source": [
    "# ADD CLASSIFICATION BY FORMATION\n",
    "Labels =  ['FWD_CLS_F3 - Cardium','FWD_CLS_F3 - Duvernay', 'FWD_CLS_F3 - Montney', 'FWD_CLS_F3 - Viking']\n",
    "Forms = [0,1,2,3]\n",
    "for Form in Forms:\n",
    "    entry = [Labels[Form]]\n",
    "    for Month in Months:\n",
    "        entry.append(sum(df_R[Month][df_R['Formation_C'] == Form]))\n",
    "    DUCs_FWD_by_Formation.loc[Form+4] = entry\n",
    "DUCs_FWD_by_Formation.head(9)"
   ]
  },
  {
   "cell_type": "markdown",
   "metadata": {},
   "source": [
    "### Save Total DUCs from FWD Classifiction to DUCs_Compare"
   ]
  },
  {
   "cell_type": "code",
   "execution_count": null,
   "metadata": {},
   "outputs": [],
   "source": [
    "DUCs_Compare.loc[9] = RFC_F3_Results"
   ]
  },
  {
   "cell_type": "markdown",
   "metadata": {},
   "source": [
    "### Get Regression results"
   ]
  },
  {
   "cell_type": "code",
   "execution_count": null,
   "metadata": {},
   "outputs": [],
   "source": [
    "df_R['Early_Comp'] = Wells['Early_Comp']"
   ]
  },
  {
   "cell_type": "code",
   "execution_count": null,
   "metadata": {
    "scrolled": true
   },
   "outputs": [],
   "source": [
    "# CHANGE RELEVANT EARLY COMPLETION DATES - CLASSIFICATION RESULTS ARE CLASSES & HAVE TO BE CONVERTED TO MONTHS\n",
    "for j in range(len(y_FWD)):\n",
    "    ID = df_R.iloc[y_FWD[j:j+1].index[0]][0]\n",
    "    # Y_PRED VALUES ARE FORECASTED MONTHS SO NO CONVERSION REQUIRED\n",
    "    pred = y_FWD_RFR_F3[j]\n",
    "    #pred = vals[val]\n",
    "    df_R['Early_Comp'][df_R['EPAssetsId']==ID] = df_R['FinalDrillDate'][df_R['EPAssetsId']==ID] + timedelta(days = int(pred*30.45))"
   ]
  },
  {
   "cell_type": "code",
   "execution_count": null,
   "metadata": {},
   "outputs": [],
   "source": [
    "for Month in Months:\n",
    "    df_R[Month] = 1*( df_R['FinalDrillDate']<=pd.to_datetime(Month) ) - 1*( df_R['Early_Comp']<=pd.to_datetime(Month) )"
   ]
  },
  {
   "cell_type": "code",
   "execution_count": null,
   "metadata": {},
   "outputs": [],
   "source": [
    "DUCs_by_Month_with_y_pred = ['Regression w Oper Trained on TotalDepth, F/C on ProjectedDepth FWD from Dec 31 2017']\n",
    "for Month in Months:\n",
    "    DUCs_by_Month_with_y_pred.append(sum(df_R[Month]))"
   ]
  },
  {
   "cell_type": "code",
   "execution_count": null,
   "metadata": {},
   "outputs": [],
   "source": [
    "RFR_F3_Results = DUCs_by_Month_with_y_pred"
   ]
  },
  {
   "cell_type": "code",
   "execution_count": null,
   "metadata": {},
   "outputs": [],
   "source": [
    "DUCs_Compare.loc[10] = RFR_F3_Results"
   ]
  },
  {
   "cell_type": "markdown",
   "metadata": {},
   "source": [
    "## Get Regression Results by Formation"
   ]
  },
  {
   "cell_type": "code",
   "execution_count": null,
   "metadata": {},
   "outputs": [],
   "source": [
    "# ADD REGRESSION BY FORMATION\n",
    "Labels =  ['FWD_REG_F3 - Cardium','FWD_REG_F3 - Duvernay', 'FWD_REG_F3 - Montney', 'FWD_REG_F3 - Viking']\n",
    "Forms = [0,1,2,3]\n",
    "for Form in Forms:\n",
    "    entry = [Labels[Form]]\n",
    "    for Month in Months:\n",
    "        entry.append(sum(df_R[Month][df_R['Formation_C'] == Form]))\n",
    "    DUCs_FWD_by_Formation.loc[Form+8] = entry\n",
    "DUCs_FWD_by_Formation.head(15)"
   ]
  },
  {
   "cell_type": "code",
   "execution_count": null,
   "metadata": {},
   "outputs": [],
   "source": [
    "DUCs_FWD_by_Formation.to_csv('DUCs_FWD_by_Formation.csv')"
   ]
  },
  {
   "cell_type": "code",
   "execution_count": null,
   "metadata": {},
   "outputs": [],
   "source": [
    "DUCs_Compare.to_csv('DUCs_Compare.csv')"
   ]
  },
  {
   "cell_type": "markdown",
   "metadata": {},
   "source": [
    "### Charts - All Wells & By Formation"
   ]
  },
  {
   "cell_type": "code",
   "execution_count": null,
   "metadata": {
    "scrolled": false
   },
   "outputs": [],
   "source": [
    "fig, ax1 = plt.subplots(1, 1, figsize=(15, 8)) \n",
    "ax1.plot(DUCs_Compare.iloc[0,1:37], label = DUCs_Compare.iloc[0,0], c = 'm', lw = 1)\n",
    "ax1.plot(DUCs_Compare.iloc[0,36:], label = DUCs_Compare.iloc[0,0], c = 'm', lw = 3)\n",
    "#ax1.plot(DUCs_Compare.iloc[1,1:], label = DUCs_Compare.iloc[1,0])\n",
    "#ax1.plot(DUCs_Compare.iloc[2,1:], label = DUCs_Compare.iloc[2,0])\n",
    "#ax1.plot(DUCs_Compare.iloc[3,1:], label = DUCs_Compare.iloc[3,0])\n",
    "#ax1.plot(DUCs_Compare.iloc[4,1:], label = DUCs_Compare.iloc[4,0])\n",
    "ax1.plot(DUCs_Compare.iloc[5,36:], label = DUCs_Compare.iloc[5,0], ls = '--', lw = 2)\n",
    "ax1.plot(DUCs_Compare.iloc[6,36:], label = DUCs_Compare.iloc[6,0], ls = '--', lw = 2)\n",
    "ax1.plot(DUCs_Compare.iloc[7,36:], label = DUCs_Compare.iloc[7,0], ls = '--', lw = 2)\n",
    "ax1.plot(DUCs_Compare.iloc[8,36:], label = DUCs_Compare.iloc[8,0], ls = '--', lw = 2)\n",
    "ax1.plot(DUCs_Compare.iloc[9,36:], label = DUCs_Compare.iloc[9,0], ls = '--', lw = 2)\n",
    "ax1.plot(DUCs_Compare.iloc[10,36:], label = DUCs_Compare.iloc[10,0], ls = '--', lw = 2)\n",
    "\n",
    "ax1.set_title('Cumulative DUCs by Month: Comparison of Base Case and DUC Prediction Models', fontsize = 16, weight = 'bold')\n",
    "ax1.xaxis.set_major_locator(ticker.MaxNLocator(11))\n",
    "ax1.xaxis.set_minor_locator(ticker.AutoMinorLocator())\n",
    "ax1.grid()\n",
    "#ax1.set_ylim(0, 600)\n",
    "plt.legend()\n",
    "plt.show()"
   ]
  },
  {
   "cell_type": "markdown",
   "metadata": {},
   "source": [
    "## The RF Classification Models under predict, & RF Regression Models over predict.\n",
    "\n",
    "## Note that the directional trend is followed.  All Wells drilled after Dec 2017 (about 4000 wells) have  predicted number of DUC monts & predicted Completion month.  The DUC information for the prior wells is still in the dataset, although most are not summing to total unless they have never been completed."
   ]
  },
  {
   "cell_type": "code",
   "execution_count": null,
   "metadata": {},
   "outputs": [],
   "source": [
    "# Function to plot just results by Formation using the DUCs_FWD_by_Formation df results.  Form is 0 to 3\n",
    "\n",
    "def Form_Plot(df, Form, name, Color):\n",
    "\n",
    "    fig, ax1 = plt.subplots(1, 1, figsize=(15, 8)) \n",
    "\n",
    "    ax1.plot(DUCs_FWD_by_Formation.iloc[Form,1:], label = DUCs_FWD_by_Formation.iloc[Form,0], c = Color, lw = 1)\n",
    "    ax1.plot(DUCs_FWD_by_Formation.iloc[Form,36:], label = DUCs_FWD_by_Formation.iloc[Form,0], c = Color, lw = 3)\n",
    "\n",
    "    ax1.plot(DUCs_FWD_by_Formation.iloc[Form + 4,36:], label = DUCs_FWD_by_Formation.iloc[Form+4,0], ls = '--', lw = 2)\n",
    "    ax1.plot(DUCs_FWD_by_Formation.iloc[Form+8,36:], label = DUCs_FWD_by_Formation.iloc[Form+8,0], ls = '--', lw = 2)\n",
    "\n",
    "    ax1.set_title(('DUC Inventory for {}: Comparison of Base Case and DUC Prediction Models').format(name), fontsize = 16, weight = 'bold')\n",
    "    ax1.xaxis.set_major_locator(ticker.MaxNLocator(11))\n",
    "    ax1.xaxis.set_minor_locator(ticker.AutoMinorLocator())\n",
    "    ax1.grid()\n",
    "\n",
    "    plt.legend()\n",
    "    plt.show()\n",
    "    return"
   ]
  },
  {
   "cell_type": "code",
   "execution_count": null,
   "metadata": {},
   "outputs": [],
   "source": [
    "Form_Plot(DUCs_FWD_by_Formation, 0, \"Cardium\", 'b')"
   ]
  },
  {
   "cell_type": "code",
   "execution_count": null,
   "metadata": {},
   "outputs": [],
   "source": [
    "Form_Plot(DUCs_FWD_by_Formation, 1, \"Duvernay\", 'orange')"
   ]
  },
  {
   "cell_type": "code",
   "execution_count": null,
   "metadata": {},
   "outputs": [],
   "source": [
    "Form_Plot(DUCs_FWD_by_Formation, 2, \"Montney\", 'g')"
   ]
  },
  {
   "cell_type": "code",
   "execution_count": null,
   "metadata": {},
   "outputs": [],
   "source": [
    "Form_Plot(DUCs_FWD_by_Formation, 3, \"Viking\", 'r')"
   ]
  },
  {
   "cell_type": "markdown",
   "metadata": {},
   "source": [
    "## Sum best Models by Formation to get a Total"
   ]
  },
  {
   "cell_type": "code",
   "execution_count": null,
   "metadata": {},
   "outputs": [],
   "source": [
    "Combined_Model = DUCs_FWD_by_Formation.iloc[4,1:] + DUCs_FWD_by_Formation.iloc[9,1:] + DUCs_FWD_by_Formation.iloc[6,1:] + DUCs_FWD_by_Formation.iloc[11,1:] "
   ]
  },
  {
   "cell_type": "code",
   "execution_count": null,
   "metadata": {},
   "outputs": [],
   "source": [
    "fig, ax1 = plt.subplots(1, 1, figsize=(15, 8)) \n",
    "ax1.plot(DUCs_Compare.iloc[0,1:37], label = DUCs_Compare.iloc[0,0], c = 'm', lw = 1)\n",
    "ax1.plot(DUCs_Compare.iloc[0,36:], label = DUCs_Compare.iloc[0,0], c = 'm', lw = 3)\n",
    "#ax1.plot(DUCs_Compare.iloc[1,1:], label = DUCs_Compare.iloc[1,0])\n",
    "#ax1.plot(DUCs_Compare.iloc[2,1:], label = DUCs_Compare.iloc[2,0])\n",
    "#ax1.plot(DUCs_Compare.iloc[3,1:], label = DUCs_Compare.iloc[3,0])\n",
    "#ax1.plot(DUCs_Compare.iloc[4,1:], label = DUCs_Compare.iloc[4,0])\n",
    "ax1.plot(DUCs_Compare.iloc[5,36:], label = DUCs_Compare.iloc[5,0], ls = '--', lw = 2)\n",
    "ax1.plot(DUCs_Compare.iloc[6,36:], label = DUCs_Compare.iloc[6,0], ls = '--', lw = 2)\n",
    "ax1.plot(DUCs_Compare.iloc[7,36:], label = DUCs_Compare.iloc[7,0], ls = '--', lw = 2)\n",
    "ax1.plot(DUCs_Compare.iloc[8,36:], label = DUCs_Compare.iloc[8,0], ls = '--', lw = 2)\n",
    "ax1.plot(DUCs_Compare.iloc[9,36:], label = DUCs_Compare.iloc[9,0], ls = '--', lw = 2)\n",
    "ax1.plot(DUCs_Compare.iloc[10,36:], label = DUCs_Compare.iloc[10,0], ls = '--', lw = 2)\n",
    "ax1.plot(Combined_Model[36:], label = 'Sum of best Models by Formation', ls = '--', lw = 3, c = 'black')\n",
    "\n",
    "ax1.set_title('Cumulative DUCs by Month: Comparison of Base Case and DUC Prediction Models', fontsize = 16, weight = 'bold')\n",
    "ax1.xaxis.set_major_locator(ticker.MaxNLocator(11))\n",
    "ax1.xaxis.set_minor_locator(ticker.AutoMinorLocator())\n",
    "ax1.grid()\n",
    "#ax1.set_ylim(0, 600)\n",
    "plt.legend()\n",
    "plt.show()"
   ]
  },
  {
   "cell_type": "code",
   "execution_count": null,
   "metadata": {},
   "outputs": [],
   "source": [
    "fig, ax1 = plt.subplots(1, 1, figsize=(15, 8)) \n",
    "ax1.plot(DUCs_Compare.iloc[0,1:37], label = DUCs_Compare.iloc[0,0], c = 'm', lw = 1)\n",
    "ax1.plot(DUCs_Compare.iloc[0,36:], label = DUCs_Compare.iloc[0,0], c = 'm', lw = 3)\n",
    "#ax1.plot(DUCs_Compare.iloc[1,1:], label = DUCs_Compare.iloc[1,0])\n",
    "#ax1.plot(DUCs_Compare.iloc[2,1:], label = DUCs_Compare.iloc[2,0])\n",
    "#ax1.plot(DUCs_Compare.iloc[3,1:], label = DUCs_Compare.iloc[3,0])\n",
    "#ax1.plot(DUCs_Compare.iloc[4,1:], label = DUCs_Compare.iloc[4,0])\n",
    "#ax1.plot(DUCs_Compare.iloc[5,36:], label = DUCs_Compare.iloc[5,0], ls = '--', lw = 2)\n",
    "#ax1.plot(DUCs_Compare.iloc[6,36:], label = DUCs_Compare.iloc[6,0], ls = '--', lw = 2)\n",
    "#ax1.plot(DUCs_Compare.iloc[7,36:], label = DUCs_Compare.iloc[7,0], ls = '--', lw = 2)\n",
    "#ax1.plot(DUCs_Compare.iloc[8,36:], label = DUCs_Compare.iloc[8,0], ls = '--', lw = 2)\n",
    "ax1.plot(DUCs_Compare.iloc[9,36:], label = DUCs_Compare.iloc[9,0], ls = '--', lw = 2)\n",
    "ax1.plot(DUCs_Compare.iloc[10,36:], label = DUCs_Compare.iloc[10,0], ls = '--', lw = 2)\n",
    "ax1.plot(Combined_Model[36:], label = 'Sum of best Models by Formation', ls = '--', lw = 3, c = 'black')\n",
    "\n",
    "ax1.set_title('DUC Inventory by Month: Comparison of Base Case and DUC Prediction Models', fontsize = 18, weight = 'bold')\n",
    "ax1.xaxis.set_major_locator(ticker.MaxNLocator(11))\n",
    "ax1.xaxis.set_minor_locator(ticker.AutoMinorLocator())\n",
    "ax1.grid()\n",
    "#ax1.set_ylim(0, 600)\n",
    "plt.legend()\n",
    "plt.show()"
   ]
  },
  {
   "cell_type": "code",
   "execution_count": null,
   "metadata": {},
   "outputs": [],
   "source": [
    "Combined_Model.to_csv('Combined_Model.csv')"
   ]
  },
  {
   "cell_type": "code",
   "execution_count": null,
   "metadata": {},
   "outputs": [],
   "source": [
    "DUCs_Compare.to_csv('DUCs_Compare.csv')"
   ]
  },
  {
   "cell_type": "markdown",
   "metadata": {},
   "source": [
    "## The combined model (using the best model by formation of classification or regression) predicts the total DUC inventory reasonably well through 2018 to early 2019.  \n",
    "\n",
    "## This approach could be taken to predict the gross DUC inventory through a drilling season or a year using planned drilling program information from active operators where that is available from annual reports, announcements, and historic information or drilling licenses."
   ]
  },
  {
   "cell_type": "code",
   "execution_count": null,
   "metadata": {},
   "outputs": [],
   "source": []
  }
 ],
 "metadata": {
  "kernelspec": {
   "display_name": "Python 3",
   "language": "python",
   "name": "python3"
  },
  "language_info": {
   "codemirror_mode": {
    "name": "ipython",
    "version": 3
   },
   "file_extension": ".py",
   "mimetype": "text/x-python",
   "name": "python",
   "nbconvert_exporter": "python",
   "pygments_lexer": "ipython3",
   "version": "3.6.8"
  }
 },
 "nbformat": 4,
 "nbformat_minor": 2
}
