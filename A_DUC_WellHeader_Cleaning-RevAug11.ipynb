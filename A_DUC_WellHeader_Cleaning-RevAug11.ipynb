{
 "cells": [
  {
   "cell_type": "markdown",
   "metadata": {},
   "source": [
    "## UNTAPPED ENERGY DUC DATATHON - DATA CLEANING WELL HEADER"
   ]
  },
  {
   "cell_type": "markdown",
   "metadata": {},
   "source": [
    "### WORKFLOW\n",
    "    - Import Well Header\n",
    "    - Drop unnecessary features and check columns from dataset preparation\n",
    "    - Create dictionary / reference for Operator to potentially save memory for full dataset\n",
    "    - Fill NAN's as needed\n",
    "    - To DateTime for date columns\n",
    "    - save cleaned file\n",
    "    - Plot BH locations\n",
    "    - Check for TVD Outliers / Data Errors\n",
    "    "
   ]
  },
  {
   "cell_type": "code",
   "execution_count": null,
   "metadata": {},
   "outputs": [],
   "source": [
    "# Import libraries\n",
    "import warnings\n",
    "warnings.filterwarnings('ignore')\n",
    "import pandas as pd\n",
    "import numpy as np\n",
    "import matplotlib.pyplot as plt\n",
    "from datetime import datetime\n",
    "from sklearn.preprocessing import LabelEncoder\n",
    "%matplotlib inline"
   ]
  },
  {
   "cell_type": "code",
   "execution_count": null,
   "metadata": {},
   "outputs": [],
   "source": [
    "# Load files\n",
    "Wells = pd.read_csv('WellHeader_Datathon.csv')"
   ]
  },
  {
   "cell_type": "code",
   "execution_count": null,
   "metadata": {
    "scrolled": true
   },
   "outputs": [],
   "source": [
    "cols = Wells.columns\n",
    "cols"
   ]
  },
  {
   "cell_type": "code",
   "execution_count": null,
   "metadata": {},
   "outputs": [],
   "source": [
    "Wells.head()"
   ]
  },
  {
   "cell_type": "code",
   "execution_count": null,
   "metadata": {},
   "outputs": [],
   "source": [
    "keep_columns = ['EPAssetsId','Province', 'UWI',\n",
    "       'CurrentOperator', 'CurrentOperatorParent', 'CurrentOperatorParentName',\n",
    "       'CurrentStatus', 'CurrentStatusStandardised', 'WellType',\n",
    "       'WellTypeStandardised', 'WellName', 'Formation', 'Field', 'Pool',\n",
    "       'Surf_Location', 'Surf_Longitude', 'Surf_Latitude','BH_Location',\n",
    "       'BH_Longitude', 'BH_Latitude','TotalDepth', 'LaheeClass',\n",
    "       'Confidential','KBElevation', 'SpudDate', 'FinalDrillDate','RigReleaseDate','DaysDrilling', 'TVD', 'WellProfile',\n",
    "       'StatusDate', 'UnitFlag']\n",
    "drop_columns = list( set(cols) - set(keep_columns) )\n"
   ]
  },
  {
   "cell_type": "code",
   "execution_count": null,
   "metadata": {},
   "outputs": [],
   "source": [
    "Wells = Wells.drop(Wells[drop_columns], axis = 1)"
   ]
  },
  {
   "cell_type": "code",
   "execution_count": null,
   "metadata": {},
   "outputs": [],
   "source": [
    "Wells.head()"
   ]
  },
  {
   "cell_type": "code",
   "execution_count": null,
   "metadata": {},
   "outputs": [],
   "source": [
    "Wells.info()"
   ]
  },
  {
   "cell_type": "code",
   "execution_count": null,
   "metadata": {},
   "outputs": [],
   "source": [
    "# Convert to datetime\n",
    "date_cols = ['SpudDate', 'FinalDrillDate', 'RigReleaseDate', 'StatusDate']\n",
    "for col in date_cols:\n",
    "    Wells[col] = pd.to_datetime(Wells[col], infer_datetime_format=True)"
   ]
  },
  {
   "cell_type": "code",
   "execution_count": null,
   "metadata": {},
   "outputs": [],
   "source": [
    "Wells['UnitFlag'].fillna('No', inplace = True)"
   ]
  },
  {
   "cell_type": "code",
   "execution_count": null,
   "metadata": {},
   "outputs": [],
   "source": [
    "sum(Wells['FinalDrillDate'].isnull())"
   ]
  },
  {
   "cell_type": "code",
   "execution_count": null,
   "metadata": {},
   "outputs": [],
   "source": [
    "Wells['FinalDrillDate'].fillna(Wells['RigReleaseDate'] - pd.DateOffset(days=2) ,inplace=True)"
   ]
  },
  {
   "cell_type": "code",
   "execution_count": null,
   "metadata": {},
   "outputs": [],
   "source": [
    "sum(Wells['DaysDrilling']==0), sum(Wells['DaysDrilling'].isnull())"
   ]
  },
  {
   "cell_type": "code",
   "execution_count": null,
   "metadata": {},
   "outputs": [],
   "source": [
    "Zero_DrillDays = pd.Series(Wells['EPAssetsId'][Wells['DaysDrilling']==0])\n",
    "Zero_DrillDays.shape"
   ]
  },
  {
   "cell_type": "code",
   "execution_count": null,
   "metadata": {},
   "outputs": [],
   "source": [
    "for ID in Zero_DrillDays.index:\n",
    "    Wells['DaysDrilling'][ID] = (Wells['FinalDrillDate'][ID] - Wells['SpudDate'][ID]).days"
   ]
  },
  {
   "cell_type": "code",
   "execution_count": null,
   "metadata": {},
   "outputs": [],
   "source": [
    "Wells.info()"
   ]
  },
  {
   "cell_type": "code",
   "execution_count": null,
   "metadata": {},
   "outputs": [],
   "source": [
    "Operators = Wells[['CurrentOperatorParent', 'CurrentOperatorParentName']]\n",
    "Operators.columns = ['Op_Num', 'Op_Name']\n",
    "Operators.head()"
   ]
  },
  {
   "cell_type": "code",
   "execution_count": null,
   "metadata": {},
   "outputs": [],
   "source": [
    "Operators.drop_duplicates(inplace = True)\n",
    "Operators.index=range(Operators.shape[0])"
   ]
  },
  {
   "cell_type": "code",
   "execution_count": null,
   "metadata": {},
   "outputs": [],
   "source": [
    "Operators"
   ]
  },
  {
   "cell_type": "code",
   "execution_count": null,
   "metadata": {},
   "outputs": [],
   "source": [
    "Operators.to_csv('Operators_List.csv')"
   ]
  },
  {
   "cell_type": "code",
   "execution_count": null,
   "metadata": {},
   "outputs": [],
   "source": [
    "encoder_Formation = LabelEncoder()\n",
    "encoder_Formation.fit(Wells['Formation'])\n",
    "Wells['Formation_C'] = encoder_Formation.transform(Wells['Formation'])\n",
    "\n",
    "encoder_Field = LabelEncoder()\n",
    "encoder_Field.fit(Wells['Field'])\n",
    "Wells['Field_C'] = encoder_Field.transform(Wells['Field'])\n",
    "\n",
    "encoder_Type = LabelEncoder()\n",
    "encoder_Type.fit(Wells['WellTypeStandardised'])\n",
    "Wells['Type_C'] = encoder_Type.transform(Wells['WellTypeStandardised'])\n"
   ]
  },
  {
   "cell_type": "code",
   "execution_count": null,
   "metadata": {},
   "outputs": [],
   "source": [
    "Formations = Wells[['Formation_C', 'Formation']]\n",
    "Formations.columns = ['Formation_Num', 'Formation_Name']\n",
    "\n",
    "Formations.drop_duplicates(inplace = True)\n",
    "Formations = Formations.sort_values('Formation_Num')\n",
    "Formations.index=range(Formations.shape[0])\n",
    "Formations"
   ]
  },
  {
   "cell_type": "code",
   "execution_count": null,
   "metadata": {
    "scrolled": true
   },
   "outputs": [],
   "source": [
    "Fields = Wells[['Field_C', 'Field']]\n",
    "Fields.columns = ['Field_Num', 'Field_Name']\n",
    "\n",
    "Fields.drop_duplicates(inplace = True)\n",
    "Fields = Fields.sort_values('Field_Num')\n",
    "Fields.index=range(Fields.shape[0])\n",
    "Fields"
   ]
  },
  {
   "cell_type": "code",
   "execution_count": null,
   "metadata": {},
   "outputs": [],
   "source": [
    "Formations.to_csv('FormationNames_Nums.csv')"
   ]
  },
  {
   "cell_type": "code",
   "execution_count": null,
   "metadata": {},
   "outputs": [],
   "source": [
    "Fields.to_csv('FieldNames_Nums.csv')"
   ]
  },
  {
   "cell_type": "code",
   "execution_count": null,
   "metadata": {
    "scrolled": true
   },
   "outputs": [],
   "source": [
    "Wells.head()"
   ]
  },
  {
   "cell_type": "code",
   "execution_count": null,
   "metadata": {},
   "outputs": [],
   "source": [
    "Wells.info()"
   ]
  },
  {
   "cell_type": "code",
   "execution_count": null,
   "metadata": {
    "scrolled": true
   },
   "outputs": [],
   "source": [
    "fig, (ax1) = plt.subplots(1, 1, figsize = (8, 11))\n",
    "\n",
    "ax1.scatter(x=Wells['Surf_Longitude'][Wells['Type_C'] == 0], y=Wells['Surf_Latitude'][Wells['Type_C'] == 0], \n",
    "            marker = 'o', label = 'Gas', c = Wells['Field_C'][Wells['Type_C'] == 0])\n",
    "ax1.scatter(x=Wells['Surf_Longitude'][Wells['Type_C'] == 1], y=Wells['Surf_Latitude'][Wells['Type_C'] == 1], \n",
    "            marker = 'D', label = 'Oil', c = Wells['Field_C'][Wells['Type_C'] == 1])\n",
    "\n",
    "ax1.plot([-105, -125] , [49, 49 ], '--', c = 'r')\n",
    "ax1.plot([-105, -125], [60, 60], '--', c = 'r')\n",
    "ax1.plot([-110, -114.03, -120, -120, -110, -110], [49, 49, 53.5, 60, 60, 49 ], '-')\n",
    "\n",
    "ax1.set_title('Sample Data Surface Well Location by Field and Type')\n",
    "ax1.set_xlabel('Latutude')\n",
    "ax1.set_ylabel('Longitude')\n",
    "ax1.set_xlim(-125, -105)\n",
    "ax1.set_ylim(48, 62)\n",
    "ax1.grid()\n",
    "\n",
    "ax1.legend()\n",
    "plt.show()"
   ]
  },
  {
   "cell_type": "code",
   "execution_count": null,
   "metadata": {},
   "outputs": [],
   "source": [
    "sum(Wells['Surf_Latitude']==0)"
   ]
  },
  {
   "cell_type": "code",
   "execution_count": null,
   "metadata": {},
   "outputs": [],
   "source": [
    "sum(Wells['BH_Latitude'].isnull())"
   ]
  },
  {
   "cell_type": "code",
   "execution_count": null,
   "metadata": {
    "scrolled": true
   },
   "outputs": [],
   "source": [
    "Wells[Wells['Surf_Latitude']==0]"
   ]
  },
  {
   "cell_type": "markdown",
   "metadata": {},
   "source": [
    "### There are 12 BC wells with 0's for Lat & Long.  Fix these with corresponding Lat & Long from other wells with the same surface location."
   ]
  },
  {
   "cell_type": "code",
   "execution_count": null,
   "metadata": {},
   "outputs": [],
   "source": [
    "Ref_LatLongs = pd.read_csv('BC_Wells_with_0_Lat_Longs.csv')"
   ]
  },
  {
   "cell_type": "code",
   "execution_count": null,
   "metadata": {},
   "outputs": [],
   "source": [
    "Ref_LatLongs"
   ]
  },
  {
   "cell_type": "code",
   "execution_count": null,
   "metadata": {},
   "outputs": [],
   "source": [
    "target = Ref_LatLongs['EPAssetsId']\n",
    "reference = Ref_LatLongs['Lat_Long_Reference Well EPAssetId']\n",
    "\n",
    "for sample in range(len(target)):\n",
    "   # Ref_ID = Ref_LatLongs['Lat_Lonf_Reference'][Ref_LatLongs['EPAssetsId']==ID]\n",
    "\n",
    "    Wells['Surf_Longitude'][Wells['EPAssetsId']==target[sample]] = Wells['Surf_Longitude'][Wells['EPAssetsId']==reference[sample]]\n",
    "    Wells['Surf_Latitude'][Wells['EPAssetsId']==target[sample]] = Wells['Surf_Latitude'][Wells['EPAssetsId']==reference[sample]]"
   ]
  },
  {
   "cell_type": "markdown",
   "metadata": {},
   "source": [
    "#### Check for Outliers on TVD by searching for horizontal or directional wells that have the same TVD as Total Depth, or have identical Surface Lat & Long as BH Lat & Long, or identical Surface & BH Location to account for missing Lat / Long or missing TVD"
   ]
  },
  {
   "cell_type": "code",
   "execution_count": null,
   "metadata": {},
   "outputs": [],
   "source": [
    "fig, (ax1) = plt.subplots(1, 1, figsize = (8, 8))\n",
    "\n",
    "plt.scatter(Wells['TotalDepth'], Wells['TVD'], label = 'All Wells with TVD Entry')\n",
    "plt.scatter(Wells['TotalDepth'][Wells['WellProfile']=='Vertical'], Wells['TVD'][Wells['WellProfile']=='Vertical'], label = 'Vertical Wells')\n",
    "plt.title('Wells TVD vs Total Depth')\n",
    "plt.xlabel('Total Depth')\n",
    "plt.ylabel('TVD')\n",
    "plt.legend()\n",
    "plt.grid()\n",
    "plt.show"
   ]
  },
  {
   "cell_type": "code",
   "execution_count": null,
   "metadata": {},
   "outputs": [],
   "source": [
    "#Plot wells that TVD and Total Depth Match, Overlay Vertical wells\n",
    "\n",
    "plt.scatter(Wells['TotalDepth'][Wells['TotalDepth'] == Wells['TVD']], Wells['TVD'][Wells['TotalDepth'] == Wells['TVD']], label = 'All Wells with TVD Entry')\n",
    "plt.scatter(Wells['TotalDepth'][Wells['WellProfile']=='Vertical'], Wells['TVD'][Wells['WellProfile']=='Vertical'], label = 'Vertical Wells')\n",
    "plt.title('Wells Where TVD is Indentical to Total Depth')\n",
    "plt.xlabel('Total Depth')\n",
    "plt.ylabel('TVD')\n",
    "plt.legend()\n",
    "plt.grid()\n",
    "plt.show"
   ]
  },
  {
   "cell_type": "code",
   "execution_count": null,
   "metadata": {},
   "outputs": [],
   "source": [
    "# PLot Wells where TVD is greater than 90% of Total Depth\n",
    "\n",
    "plt.scatter(Wells['TotalDepth'][Wells['TVD']>0.9* Wells['TotalDepth']], Wells['TVD'][Wells['TVD']>0.9* Wells['TotalDepth']], label = 'All Wells with TVD Entry')\n",
    "plt.scatter(Wells['TotalDepth'][Wells['WellProfile']=='Vertical'], Wells['TVD'][Wells['WellProfile']=='Vertical'], label = 'Vertical Wells')\n",
    "plt.title('Wells Where TVD is > 90% of Total Depth')\n",
    "plt.xlabel('Total Depth')\n",
    "plt.ylabel('TVD')\n",
    "plt.legend()\n",
    "plt.grid()\n",
    "plt.show"
   ]
  },
  {
   "cell_type": "code",
   "execution_count": null,
   "metadata": {},
   "outputs": [],
   "source": [
    "# Filter for Wells where TVD is greater than 90% of Total Depth and drop Vertical Wells\n",
    "Possible_Outliers = (Wells[Wells['TVD']>0.9* Wells['TotalDepth']])\n",
    "Possible_Outliers = Possible_Outliers[['EPAssetsId','Province', 'UWI',\n",
    "       'Surf_Location', 'Surf_Longitude', 'Surf_Latitude','BH_Location',\n",
    "       'BH_Longitude', 'BH_Latitude','WellProfile', 'TotalDepth','TVD','KBElevation','WellType',\n",
    "       'WellTypeStandardised', 'WellName', 'Formation', 'Field', 'Pool']][Possible_Outliers['WellProfile']!='Vertical']"
   ]
  },
  {
   "cell_type": "code",
   "execution_count": null,
   "metadata": {},
   "outputs": [],
   "source": [
    "# Print possible outliers\n",
    "Possible_Outliers[['EPAssetsId','Province', 'UWI',\n",
    "       'Surf_Location', 'Surf_Longitude', 'Surf_Latitude','BH_Location',\n",
    "       'BH_Longitude', 'BH_Latitude','WellProfile', 'TotalDepth','TVD','KBElevation','WellType',\n",
    "       'WellTypeStandardised', 'WellName', 'Formation', 'Field', 'Pool']]"
   ]
  },
  {
   "cell_type": "code",
   "execution_count": null,
   "metadata": {
    "scrolled": true
   },
   "outputs": [],
   "source": [
    "# Filter for horizontal or directional well that have identical surface & BH Longitude\n",
    "Possible_Outliers[Possible_Outliers['Surf_Longitude']==Possible_Outliers['BH_Longitude']]"
   ]
  },
  {
   "cell_type": "code",
   "execution_count": null,
   "metadata": {},
   "outputs": [],
   "source": [
    "subheader = ['EPAssetsId','Surf_Location','BH_Location','Surf_Longitude','Surf_Latitude','BH_Longitude','BH_Latitude','TVD','TotalDepth']"
   ]
  },
  {
   "cell_type": "code",
   "execution_count": null,
   "metadata": {
    "scrolled": true
   },
   "outputs": [],
   "source": [
    "# Filter for horizontal or directional well that have identical surface & BH Latitude\n",
    "Possible_Outliers[subheader][Possible_Outliers['Surf_Latitude']==Possible_Outliers['BH_Latitude']]"
   ]
  },
  {
   "cell_type": "markdown",
   "metadata": {},
   "source": [
    "#### These return the same outlier well\n",
    "\n",
    "#### Check All Wells for Outliers via identical surface & BH Lat & Long to get wells that do not have a TVD"
   ]
  },
  {
   "cell_type": "code",
   "execution_count": null,
   "metadata": {},
   "outputs": [],
   "source": [
    "# Possible Outliers with identical Longitude, Filter out Vertical Wells\n",
    "\n",
    "PossOutlier_Long = Wells[Wells['Surf_Longitude']==Wells['BH_Longitude']]\n",
    "PossOutlier_Long = PossOutlier_Long[['EPAssetsId','Province', 'UWI',\n",
    "       'Surf_Location', 'Surf_Longitude', 'Surf_Latitude','BH_Location',\n",
    "       'BH_Longitude', 'BH_Latitude','WellProfile', 'TotalDepth','TVD','KBElevation','WellType',\n",
    "       'WellTypeStandardised', 'WellName', 'Formation', 'Field', 'Pool']][PossOutlier_Long['WellProfile']!='Vertical']\n",
    "print('Identical Longitude Filter found ', len(PossOutlier_Long), ' possible outliers')"
   ]
  },
  {
   "cell_type": "code",
   "execution_count": null,
   "metadata": {
    "scrolled": false
   },
   "outputs": [],
   "source": [
    "PossOutlier_Long"
   ]
  },
  {
   "cell_type": "markdown",
   "metadata": {},
   "source": [
    "#### Only #2585178 is an outlier from data errors"
   ]
  },
  {
   "cell_type": "code",
   "execution_count": null,
   "metadata": {},
   "outputs": [],
   "source": [
    "# Possible Outliers with identical Longitude, Filter out Vertical Wells\n",
    "\n",
    "PossOutlier_Lat = Wells[Wells['Surf_Latitude']==Wells['BH_Latitude']]\n",
    "PossOutlier_Lat = PossOutlier_Lat[['EPAssetsId','Province', 'UWI',\n",
    "       'Surf_Location', 'Surf_Longitude', 'Surf_Latitude','BH_Location',\n",
    "       'BH_Longitude', 'BH_Latitude','WellProfile', 'TotalDepth','TVD','KBElevation','WellType',\n",
    "       'WellTypeStandardised', 'WellName', 'Formation', 'Field', 'Pool']][PossOutlier_Lat['WellProfile']!='Vertical']\n",
    "print('Identical Longitude Filter found ', len(PossOutlier_Lat), ' possible outliers')"
   ]
  },
  {
   "cell_type": "code",
   "execution_count": null,
   "metadata": {},
   "outputs": [],
   "source": [
    "PossOutlier_Lat"
   ]
  },
  {
   "cell_type": "markdown",
   "metadata": {},
   "source": [
    "#### Only #2585178 is an outlier from data errors\n",
    "\n",
    "#### Check All Wells for Outliers via identical surface & BH Location Strings to get wells that do not have a TVD"
   ]
  },
  {
   "cell_type": "code",
   "execution_count": null,
   "metadata": {},
   "outputs": [],
   "source": [
    "# Possible Outliers with identical Longitude, Filter out Vertical Wells\n",
    "\n",
    "PossOutlier_Loc = Wells[Wells['Surf_Location']==Wells['BH_Location']]\n",
    "PossOutlier_Loc = PossOutlier_Loc[['EPAssetsId','Province', 'UWI',\n",
    "       'Surf_Location', 'Surf_Longitude', 'Surf_Latitude','BH_Location',\n",
    "       'BH_Longitude', 'BH_Latitude','WellProfile', 'TotalDepth','TVD','KBElevation','WellType',\n",
    "       'WellTypeStandardised', 'WellName', 'Formation', 'Field', 'Pool']][PossOutlier_Loc['WellProfile']!='Vertical']\n",
    "print('Identical Longitude Filter found ', len(PossOutlier_Loc), ' possible outliers')"
   ]
  },
  {
   "cell_type": "code",
   "execution_count": null,
   "metadata": {
    "scrolled": true
   },
   "outputs": [],
   "source": [
    "PossOutlier_Loc"
   ]
  },
  {
   "cell_type": "markdown",
   "metadata": {},
   "source": [
    "#### None of these are data errors, there is only a slight directional component to these wells"
   ]
  },
  {
   "cell_type": "markdown",
   "metadata": {},
   "source": [
    "### ! Only #2585178 is an outlier from data errors and needs the Lat Long investigated & corrected"
   ]
  },
  {
   "cell_type": "code",
   "execution_count": null,
   "metadata": {},
   "outputs": [],
   "source": [
    "# REPLACE BH LONGITUDE AND TVD FROM INVESTIGATION OF THIS WELL AND ADJACENT WELLS IN csv FILE AND TVD REGRESSION ON SAMPLE DATA\n",
    "\n",
    "Wells['BH_Longitude'][Wells['EPAssetsId']== 2585178] = -115.1173932\n",
    "Wells['TVD'][Wells['EPAssetsId']== 2585178] = 1576.6\n",
    "\n",
    "Wells[Wells['EPAssetsId']== 2585178][['EPAssetsId', 'BH_Longitude', 'TVD']]\n"
   ]
  },
  {
   "cell_type": "code",
   "execution_count": null,
   "metadata": {},
   "outputs": [],
   "source": [
    "Wells[subheader][Wells['EPAssetsId'] == 1170677]"
   ]
  },
  {
   "cell_type": "code",
   "execution_count": null,
   "metadata": {},
   "outputs": [],
   "source": [
    "Offset_to_1170677_with_TVD = [1170140,1170226,1170677,1170296,1170360]"
   ]
  },
  {
   "cell_type": "code",
   "execution_count": null,
   "metadata": {},
   "outputs": [],
   "source": [
    "Wells[subheader][Wells['EPAssetsId'].isin(Offset_to_1170677_with_TVD)]"
   ]
  },
  {
   "cell_type": "code",
   "execution_count": null,
   "metadata": {},
   "outputs": [],
   "source": [
    "# Correct erroneous TVD for well 1170677 1-9-31-19 W3 from 134m to 740m\n",
    "Wells['TVD'][Wells['EPAssetsId']== 1170677] = np.mean([741.6, 737.68, 740.09, 735.4])"
   ]
  },
  {
   "cell_type": "code",
   "execution_count": null,
   "metadata": {},
   "outputs": [],
   "source": [
    "Wells.to_csv('WellHeader_Clean.csv')"
   ]
  },
  {
   "cell_type": "code",
   "execution_count": null,
   "metadata": {},
   "outputs": [],
   "source": []
  },
  {
   "cell_type": "code",
   "execution_count": null,
   "metadata": {},
   "outputs": [],
   "source": []
  }
 ],
 "metadata": {
  "kernelspec": {
   "display_name": "Python 3",
   "language": "python",
   "name": "python3"
  },
  "language_info": {
   "codemirror_mode": {
    "name": "ipython",
    "version": 3
   },
   "file_extension": ".py",
   "mimetype": "text/x-python",
   "name": "python",
   "nbconvert_exporter": "python",
   "pygments_lexer": "ipython3",
   "version": "3.6.8"
  }
 },
 "nbformat": 4,
 "nbformat_minor": 2
}
