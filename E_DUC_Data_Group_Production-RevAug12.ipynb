{
 "cells": [
  {
   "cell_type": "markdown",
   "metadata": {},
   "source": [
    "## DUC DATA GROUP PRODUCTION INFO\n"
   ]
  },
  {
   "cell_type": "markdown",
   "metadata": {},
   "source": [
    "### WORKFLOW\n",
    "\n",
    "    - Import Well Header with completion info\n",
    "    - Import Well Production Info from Time Series grouping\n",
    "    - Use merge to add total hours, C5+, gas, oil & water production from cumulative time series files \n",
    "    - Add early & late production date features and production features to Wells file\n",
    "    - Add a production flag\n",
    "    - Add a production hours flag for wells with production hours (some wells have production and no hours)\n",
    "    - Record and save wells without production hours,  Save and record wells with production but without production hours\n",
    "    - Save Wells dataframe with cumulative production info"
   ]
  },
  {
   "cell_type": "code",
   "execution_count": null,
   "metadata": {},
   "outputs": [],
   "source": [
    "# Import libraries\n",
    "import warnings\n",
    "warnings.filterwarnings('ignore')\n",
    "import pandas as pd\n",
    "import numpy as np\n",
    "import matplotlib.pyplot as plt\n",
    "from datetime import datetime\n",
    "%matplotlib inline"
   ]
  },
  {
   "cell_type": "code",
   "execution_count": null,
   "metadata": {},
   "outputs": [],
   "source": [
    "# Load files\n",
    "Wells = pd.read_csv('WellHeader_with_Completions.csv')\n",
    "Cum_BOE=pd.read_csv('Cum_BOEProd_Time_Series.csv')"
   ]
  },
  {
   "cell_type": "code",
   "execution_count": null,
   "metadata": {
    "scrolled": true
   },
   "outputs": [],
   "source": [
    "Wells.head()"
   ]
  },
  {
   "cell_type": "code",
   "execution_count": null,
   "metadata": {
    "scrolled": false
   },
   "outputs": [],
   "source": [
    "Wells.columns"
   ]
  },
  {
   "cell_type": "code",
   "execution_count": null,
   "metadata": {},
   "outputs": [],
   "source": [
    "Wells.info()"
   ]
  },
  {
   "cell_type": "code",
   "execution_count": null,
   "metadata": {
    "scrolled": true
   },
   "outputs": [],
   "source": [
    "Cum_BOE.head()"
   ]
  },
  {
   "cell_type": "code",
   "execution_count": null,
   "metadata": {},
   "outputs": [],
   "source": [
    "Cum_BOE.shape"
   ]
  },
  {
   "cell_type": "code",
   "execution_count": null,
   "metadata": {
    "scrolled": true
   },
   "outputs": [],
   "source": [
    "P_Comp_Flag_by_BOE = pd.read_csv('Prod_by_BOE_Inferred_Completion_Flag.csv')\n",
    "P_Comp_Flag_by_BOE.head()"
   ]
  },
  {
   "cell_type": "code",
   "execution_count": null,
   "metadata": {},
   "outputs": [],
   "source": [
    "Cum_Cond = pd.read_csv('Cum_CondProd_Time_Series.csv')\n",
    "Cum_Gas = pd.read_csv('Cum_GasProd_Time_Series.csv')\n",
    "Cum_Oil = pd.read_csv('Cum_OilProd_Time_Series.csv')\n",
    "Cum_Hours = pd.read_csv('Cum_ProdHours_Time_Series.csv')\n",
    "Cum_Water = pd.read_csv('Cum_WaterProd_Time_Series.csv')"
   ]
  },
  {
   "cell_type": "code",
   "execution_count": null,
   "metadata": {},
   "outputs": [],
   "source": [
    "Cum_Cond.head()"
   ]
  },
  {
   "cell_type": "code",
   "execution_count": null,
   "metadata": {},
   "outputs": [],
   "source": [
    "Cum_Gas.head()"
   ]
  },
  {
   "cell_type": "code",
   "execution_count": null,
   "metadata": {},
   "outputs": [],
   "source": [
    "Cum_Oil.head()"
   ]
  },
  {
   "cell_type": "code",
   "execution_count": null,
   "metadata": {},
   "outputs": [],
   "source": [
    "Cum_Hours.head()"
   ]
  },
  {
   "cell_type": "code",
   "execution_count": null,
   "metadata": {},
   "outputs": [],
   "source": [
    "Cum_Water.head()"
   ]
  },
  {
   "cell_type": "code",
   "execution_count": null,
   "metadata": {},
   "outputs": [],
   "source": [
    "Cum_Cond['Condensate Production (Bbls)'] = Cum_Cond['2020-01-31 00:00:00.000']\n",
    "Wells = pd.merge(Wells, Cum_Cond[['EPAssetsId', 'Condensate Production (Bbls)']], left_on = 'EPAssetsId', right_on = 'EPAssetsId', how = 'outer', sort = False)"
   ]
  },
  {
   "cell_type": "code",
   "execution_count": null,
   "metadata": {},
   "outputs": [],
   "source": [
    "Cum_Gas['Gas Production (MMcf)'] = Cum_Gas['2020-01-31 00:00:00.000']\n",
    "Wells = pd.merge(Wells, Cum_Gas[['EPAssetsId', 'Gas Production (MMcf)']], left_on = 'EPAssetsId', right_on = 'EPAssetsId', how = 'outer', sort = False)"
   ]
  },
  {
   "cell_type": "code",
   "execution_count": null,
   "metadata": {},
   "outputs": [],
   "source": [
    "Cum_Oil['Oil Production (Bbls)'] = Cum_Oil['2020-01-31 00:00:00.000']\n",
    "Wells = pd.merge(Wells, Cum_Oil[['EPAssetsId', 'Oil Production (Bbls)']], left_on = 'EPAssetsId', right_on = 'EPAssetsId', how = 'outer', sort = False)"
   ]
  },
  {
   "cell_type": "code",
   "execution_count": null,
   "metadata": {},
   "outputs": [],
   "source": [
    "Cum_Hours['Production Hours'] = Cum_Hours['2020-01-31 00:00:00.000']\n",
    "Wells = pd.merge(Wells, Cum_Hours[['EPAssetsId', 'Production Hours']], left_on = 'EPAssetsId', right_on = 'EPAssetsId', how = 'outer', sort = False)"
   ]
  },
  {
   "cell_type": "code",
   "execution_count": null,
   "metadata": {},
   "outputs": [],
   "source": [
    "Cum_Water['Water Production (Bbls)'] = Cum_Water['2020-01-31 00:00:00.000']\n",
    "Wells = pd.merge(Wells, Cum_Water[['EPAssetsId', 'Water Production (Bbls)']], left_on = 'EPAssetsId', right_on = 'EPAssetsId', how = 'outer', sort = False)"
   ]
  },
  {
   "cell_type": "code",
   "execution_count": null,
   "metadata": {
    "scrolled": false
   },
   "outputs": [],
   "source": [
    "Wells.head()"
   ]
  },
  {
   "cell_type": "code",
   "execution_count": null,
   "metadata": {},
   "outputs": [],
   "source": [
    "Cum_BOE['Prod_Flag'] = 1 * (Cum_BOE['2020-01-31 00:00:00.000'] > 0)\n",
    "Wells = pd.merge(Wells, Cum_BOE[['EPAssetsId', 'Prod_Flag']], left_on = 'EPAssetsId', right_on = 'EPAssetsId', how = 'outer', sort = False)"
   ]
  },
  {
   "cell_type": "code",
   "execution_count": null,
   "metadata": {},
   "outputs": [],
   "source": [
    "sum(Cum_BOE['2020-01-31 00:00:00.000']>0), sum(Wells['Prod_Flag'] ==1), sum(Wells['Prod_Flag'].isnull())"
   ]
  },
  {
   "cell_type": "markdown",
   "metadata": {},
   "source": [
    "### Add Prod_Flag for wells with only water production"
   ]
  },
  {
   "cell_type": "code",
   "execution_count": null,
   "metadata": {},
   "outputs": [],
   "source": [
    "Wells['Prod_Flag'].fillna(Wells['Water Production (Bbls)'] > 0, inplace = True)"
   ]
  },
  {
   "cell_type": "code",
   "execution_count": null,
   "metadata": {},
   "outputs": [],
   "source": [
    "sum(Cum_BOE['2020-01-31 00:00:00.000']>0), sum(Wells['Prod_Flag'] ==1), sum(Wells['Prod_Flag'].isnull())"
   ]
  },
  {
   "cell_type": "markdown",
   "metadata": {},
   "source": [
    "### Add Hours_Flag to indicate wells that have hours in the production information and wells that do not."
   ]
  },
  {
   "cell_type": "code",
   "execution_count": null,
   "metadata": {},
   "outputs": [],
   "source": [
    "Cum_Hours['Hours_Flag'] = 1 * (Cum_Hours['2020-01-31 00:00:00.000'] > 0)\n",
    "Wells = pd.merge(Wells, Cum_Hours[['EPAssetsId', 'Hours_Flag']], left_on = 'EPAssetsId', right_on = 'EPAssetsId', how = 'outer', sort = False)"
   ]
  },
  {
   "cell_type": "markdown",
   "metadata": {},
   "source": [
    "### Add First and Last Production Dates"
   ]
  },
  {
   "cell_type": "code",
   "execution_count": null,
   "metadata": {},
   "outputs": [],
   "source": [
    "#Drop Unnamed column if needed\n",
    "#P_Comp_Flag_by_BOE.drop(['Unnamed: 0'], axis = 1, inplace = True)\n",
    "\n",
    "\n",
    "# Convert the status flag to the First month of production from the first occurance of 1 indicating prod in that month\n",
    "#   If there is no production, First prod'n is set to Dec 2021\n",
    "FirstProd_by_BOE = []\n",
    "Months = P_Comp_Flag_by_BOE.columns\n",
    "for row in range(len(P_Comp_Flag_by_BOE)):\n",
    "    if 1 in list(P_Comp_Flag_by_BOE.iloc[row,1:62]):\n",
    "        FirstProd_by_BOE.append(Months[(list(P_Comp_Flag_by_BOE.iloc[row,:]).index(1))])\n",
    "    else:\n",
    "        FirstProd_by_BOE.append('2020-12-31 00:00:00.000')\n",
    "FirstProd_by_BOE[0:5]"
   ]
  },
  {
   "cell_type": "code",
   "execution_count": null,
   "metadata": {
    "scrolled": true
   },
   "outputs": [],
   "source": [
    "P_Comp_Flag_by_BOE['First_Prod'] = FirstProd_by_BOE\n",
    "P_Comp_Flag_by_BOE.head()"
   ]
  },
  {
   "cell_type": "code",
   "execution_count": null,
   "metadata": {},
   "outputs": [],
   "source": [
    "Wells = pd.merge(Wells, P_Comp_Flag_by_BOE[['EPAssetsId', 'First_Prod']], left_on = 'EPAssetsId', right_on = 'EPAssetsId', how = 'outer', sort = False)"
   ]
  },
  {
   "cell_type": "code",
   "execution_count": null,
   "metadata": {},
   "outputs": [],
   "source": [
    "Wells = pd.merge(Wells, P_Comp_Flag_by_BOE[['EPAssetsId', 'Last_Prod']], left_on = 'EPAssetsId', right_on = 'EPAssetsId', how = 'outer', sort = False)"
   ]
  },
  {
   "cell_type": "code",
   "execution_count": null,
   "metadata": {},
   "outputs": [],
   "source": [
    "Wells.head()"
   ]
  },
  {
   "cell_type": "markdown",
   "metadata": {},
   "source": [
    "### Add Profile Label "
   ]
  },
  {
   "cell_type": "code",
   "execution_count": null,
   "metadata": {},
   "outputs": [],
   "source": [
    "#Encode Well Profile\n",
    "from sklearn.preprocessing import LabelEncoder\n",
    "\n",
    "encoder_Profile = LabelEncoder()\n",
    "encoder_Profile.fit(Wells['WellProfile'])\n",
    "Wells['Profile_C'] = encoder_Profile.transform(Wells['WellProfile'])"
   ]
  },
  {
   "cell_type": "markdown",
   "metadata": {},
   "source": [
    "### Add a Flag for Wells with production but without hours - HoursEst_Flag, Use to estiamte total hours for average daily BOE"
   ]
  },
  {
   "cell_type": "code",
   "execution_count": null,
   "metadata": {},
   "outputs": [],
   "source": [
    "Wells['Hours_Flag'].fillna(0, inplace = True)\n",
    "Wells['HoursEst_Flag'] = (Wells['Prod_Flag']==1) * (Wells['Hours_Flag']==0)\n",
    "sum(Wells['HoursEst_Flag']==1)"
   ]
  },
  {
   "cell_type": "code",
   "execution_count": null,
   "metadata": {},
   "outputs": [],
   "source": [
    "Wells['HoursEst_Flag'].value_counts()"
   ]
  },
  {
   "cell_type": "markdown",
   "metadata": {},
   "source": [
    "## Estimate production hours for wells on HoursEst_Flag"
   ]
  },
  {
   "cell_type": "code",
   "execution_count": null,
   "metadata": {},
   "outputs": [],
   "source": [
    "df = Wells[['EPAssetsId','Production Hours', 'HoursEst_Flag']][Wells['HoursEst_Flag']==1]\n",
    "df.head()"
   ]
  },
  {
   "cell_type": "code",
   "execution_count": null,
   "metadata": {},
   "outputs": [],
   "source": [
    "sum(Wells['Production Hours'].isnull()), sum(Wells['Production Hours']>0), sum(df['Production Hours'].isnull()), sum(df['Production Hours']>0)"
   ]
  },
  {
   "cell_type": "code",
   "execution_count": null,
   "metadata": {
    "scrolled": true
   },
   "outputs": [],
   "source": [
    "P_Comp_Flag_by_BOE['Inferred_Hours_Est'] = P_Comp_Flag_by_BOE['2020-01-31 00:00:00.000']*700-350\n",
    "P_Comp_Flag_by_BOE.head()"
   ]
  },
  {
   "cell_type": "code",
   "execution_count": null,
   "metadata": {},
   "outputs": [],
   "source": [
    "Wells = pd.merge(Wells, P_Comp_Flag_by_BOE[['EPAssetsId', 'Inferred_Hours_Est']], left_on = 'EPAssetsId', right_on = 'EPAssetsId', how = 'outer', sort = False)"
   ]
  },
  {
   "cell_type": "code",
   "execution_count": null,
   "metadata": {},
   "outputs": [],
   "source": [
    "sum(Wells['Inferred_Hours_Est'].isnull()), sum(Wells['Inferred_Hours_Est']>0)"
   ]
  },
  {
   "cell_type": "code",
   "execution_count": null,
   "metadata": {},
   "outputs": [],
   "source": [
    "Wells['Production Hours'].fillna(Wells['Inferred_Hours_Est'], inplace = True)"
   ]
  },
  {
   "cell_type": "code",
   "execution_count": null,
   "metadata": {},
   "outputs": [],
   "source": [
    "sum(Wells['Production Hours'].isnull()), sum(Wells['Production Hours']>0),  sum(Wells['Production Hours']>=0)"
   ]
  },
  {
   "cell_type": "markdown",
   "metadata": {},
   "source": [
    "###  Added production hours to 190 wells that were missing hours"
   ]
  },
  {
   "cell_type": "markdown",
   "metadata": {},
   "source": [
    "## Add Cumulative BOE and Daily Average BOE"
   ]
  },
  {
   "cell_type": "code",
   "execution_count": null,
   "metadata": {},
   "outputs": [],
   "source": [
    "Cum_BOE['TotalProd(BOE)'] = Cum_BOE['2020-01-31 00:00:00.000']\n",
    "Wells = pd.merge(Wells, Cum_BOE[['EPAssetsId', 'TotalProd(BOE)']], left_on = 'EPAssetsId', right_on = 'EPAssetsId', how = 'outer', sort = False)"
   ]
  },
  {
   "cell_type": "code",
   "execution_count": null,
   "metadata": {},
   "outputs": [],
   "source": [
    "Wells['DailyAvgProd(BOEpd)'] = 24 * Wells['TotalProd(BOE)'] / Wells['Production Hours']"
   ]
  },
  {
   "cell_type": "markdown",
   "metadata": {},
   "source": [
    "## Get Days Since Last Production"
   ]
  },
  {
   "cell_type": "code",
   "execution_count": null,
   "metadata": {},
   "outputs": [],
   "source": [
    "# Convert Date Features in Wells to datetime\n",
    "date_cols = ['SpudDate', 'FinalDrillDate','RigReleaseDate','StatusDate', 'Early_Comp', 'Late_Comp', 'First_Prod', 'Last_Prod']\n",
    "for col in date_cols:\n",
    "    Wells[col] = pd.to_datetime(Wells[col], infer_datetime_format=True)"
   ]
  },
  {
   "cell_type": "code",
   "execution_count": null,
   "metadata": {},
   "outputs": [],
   "source": [
    "Wells['DaysSinceProdn'] = pd.to_datetime('2020-02-01 00:00:00.000') -  Wells['Last_Prod']"
   ]
  },
  {
   "cell_type": "code",
   "execution_count": null,
   "metadata": {},
   "outputs": [],
   "source": [
    "Wells['DaysSinceProdn'].fillna(pd.to_datetime('2020-02-01 00:00:00.000')-pd.to_datetime('2020-02-01 00:00:00.000'), inplace =True)"
   ]
  },
  {
   "cell_type": "code",
   "execution_count": null,
   "metadata": {},
   "outputs": [],
   "source": [
    "Wells['DaysSinceProdn'] = Wells['DaysSinceProdn'].dt.days.astype('int16')"
   ]
  },
  {
   "cell_type": "code",
   "execution_count": null,
   "metadata": {},
   "outputs": [],
   "source": [
    "sum(Wells['DaysSinceProdn']==0)"
   ]
  },
  {
   "cell_type": "code",
   "execution_count": null,
   "metadata": {},
   "outputs": [],
   "source": [
    "Wells['DaysSinceProdn'] = Wells['DaysSinceProdn'].apply(lambda x: -1 if x==0 else x)"
   ]
  },
  {
   "cell_type": "code",
   "execution_count": null,
   "metadata": {},
   "outputs": [],
   "source": [
    "sum(Wells['DaysSinceProdn']==0), sum(Wells['DaysSinceProdn']== -1)"
   ]
  },
  {
   "cell_type": "markdown",
   "metadata": {},
   "source": [
    "### Get Inferred Completion Flag and Get Inferred Completion Date and enter as Early_Comp and Late_Comp\n",
    "\n",
    "### Use inferred completion derived from Cumulaitve Production since there are more wells with production than with hours."
   ]
  },
  {
   "cell_type": "code",
   "execution_count": null,
   "metadata": {},
   "outputs": [],
   "source": [
    "Wells['InferComp_Flag'] = 1*(Wells['Prod_Flag']==1)*(Wells['Comp_Flag']==0)\n",
    "sum(Wells['InferComp_Flag']==1), sum(Wells['InferComp_Flag']==0), sum(Wells['InferComp_Flag'].isnull())"
   ]
  },
  {
   "cell_type": "code",
   "execution_count": null,
   "metadata": {},
   "outputs": [],
   "source": [
    "Wells = pd.merge(Wells, P_Comp_Flag_by_BOE[['EPAssetsId', 'Inferred_Comp_Date']], left_on = 'EPAssetsId', right_on = 'EPAssetsId', how = 'outer', sort = False)"
   ]
  },
  {
   "cell_type": "code",
   "execution_count": null,
   "metadata": {},
   "outputs": [],
   "source": [
    "Wells['Inferred_Comp_Date'] = pd.to_datetime(Wells['Inferred_Comp_Date'], infer_datetime_format=True)"
   ]
  },
  {
   "cell_type": "code",
   "execution_count": null,
   "metadata": {},
   "outputs": [],
   "source": [
    "Wells['Early_Comp'].fillna(Wells['Inferred_Comp_Date'], inplace = True)\n",
    "Wells['Late_Comp'].fillna(Wells['Inferred_Comp_Date'], inplace = True)"
   ]
  },
  {
   "cell_type": "markdown",
   "metadata": {},
   "source": [
    "## Suspect there are 2 wells with only water production"
   ]
  },
  {
   "cell_type": "code",
   "execution_count": null,
   "metadata": {},
   "outputs": [],
   "source": [
    "Wells[['EPAssetsId','Formation','Field','SpudDate','Production Hours','First_Prod','Water Production (Bbls)','TotalProd(BOE)','DailyAvgProd(BOEpd)']][Wells['Production Hours']>0][Wells['Last_Prod'].isnull()].head()"
   ]
  },
  {
   "cell_type": "markdown",
   "metadata": {},
   "source": [
    "## Check Other Flags"
   ]
  },
  {
   "cell_type": "code",
   "execution_count": null,
   "metadata": {},
   "outputs": [],
   "source": [
    "sum(Wells['Comp_Flag']==1), sum(Wells['Comp_Flag'].isnull())"
   ]
  },
  {
   "cell_type": "code",
   "execution_count": null,
   "metadata": {},
   "outputs": [],
   "source": [
    "Wells['Comp_Flag'].fillna(0, inplace = True)"
   ]
  },
  {
   "cell_type": "code",
   "execution_count": null,
   "metadata": {},
   "outputs": [],
   "source": [
    "sum(Wells['Hours_Flag']==0), sum(Wells['Hours_Flag']==1), sum(Wells['Hours_Flag']== -1), sum(Wells['Hours_Flag'].isnull())"
   ]
  },
  {
   "cell_type": "code",
   "execution_count": null,
   "metadata": {},
   "outputs": [],
   "source": [
    "sum(Wells['HoursEst_Flag']==0), sum(Wells['HoursEst_Flag']==1), sum(Wells['HoursEst_Flag']== -1), sum(Wells['HoursEst_Flag'].isnull())"
   ]
  },
  {
   "cell_type": "code",
   "execution_count": null,
   "metadata": {},
   "outputs": [],
   "source": [
    "sum(Wells['Prod_Flag']==0), sum(Wells['Prod_Flag']==1), sum(Wells['Prod_Flag']== -1), sum(Wells['Prod_Flag'].isnull())"
   ]
  },
  {
   "cell_type": "markdown",
   "metadata": {},
   "source": [
    "## Reset Hours Flag  so:\n",
    "#### Flag is: 1 for Well Hours in WellProduction (10386 EPAssetsId's), 0 for No Info, but Production, -1 for No Hours and No Production"
   ]
  },
  {
   "cell_type": "code",
   "execution_count": null,
   "metadata": {},
   "outputs": [],
   "source": [
    "Wells['Hours_Flag'] = -1*(Wells['Prod_Flag']==0)*(Wells['HoursEst_Flag']==0) + 1*(Wells['Prod_Flag']==1)*(Wells['HoursEst_Flag']==0)"
   ]
  },
  {
   "cell_type": "code",
   "execution_count": null,
   "metadata": {},
   "outputs": [],
   "source": [
    "sum(Wells['Hours_Flag']==0), sum(Wells['Hours_Flag']==1), sum(Wells['Hours_Flag']== -1), sum(Wells['Hours_Flag'].isnull())"
   ]
  },
  {
   "cell_type": "code",
   "execution_count": null,
   "metadata": {},
   "outputs": [],
   "source": [
    "Wells.head()"
   ]
  },
  {
   "cell_type": "code",
   "execution_count": null,
   "metadata": {},
   "outputs": [],
   "source": [
    "Wells.info()"
   ]
  },
  {
   "cell_type": "markdown",
   "metadata": {},
   "source": [
    "### Fill Days Drilling NaN's "
   ]
  },
  {
   "cell_type": "code",
   "execution_count": null,
   "metadata": {},
   "outputs": [],
   "source": [
    "Wells['DaysDrilling'].fillna( (Wells['FinalDrillDate'] - Wells['SpudDate']).apply(lambda x: float(x.days)), inplace = True)"
   ]
  },
  {
   "cell_type": "code",
   "execution_count": null,
   "metadata": {
    "scrolled": false
   },
   "outputs": [],
   "source": [
    "Wells.info()"
   ]
  },
  {
   "cell_type": "code",
   "execution_count": null,
   "metadata": {},
   "outputs": [],
   "source": [
    "# Number of Wells Missing Completion Info that have Production\n",
    "sum(Wells['Prod_Flag'][Wells['Comp_Flag']==0])"
   ]
  },
  {
   "cell_type": "code",
   "execution_count": null,
   "metadata": {},
   "outputs": [],
   "source": [
    "# Number of Wells with Production that are Missing Hours from the Production data\n",
    "sum(Wells['Prod_Flag'][Wells['Hours_Flag']==0])"
   ]
  },
  {
   "cell_type": "code",
   "execution_count": null,
   "metadata": {},
   "outputs": [],
   "source": [
    "# Number of Wells with Production Hours over 1400 that are Missing Completion Information\n",
    "sum(Wells['Prod_Flag'][Wells['Production Hours']>1400][Wells['Comp_Flag']==0])"
   ]
  },
  {
   "cell_type": "code",
   "execution_count": null,
   "metadata": {},
   "outputs": [],
   "source": []
  },
  {
   "cell_type": "code",
   "execution_count": null,
   "metadata": {},
   "outputs": [],
   "source": []
  }
 ],
 "metadata": {
  "kernelspec": {
   "display_name": "Python 3",
   "language": "python",
   "name": "python3"
  },
  "language_info": {
   "codemirror_mode": {
    "name": "ipython",
    "version": 3
   },
   "file_extension": ".py",
   "mimetype": "text/x-python",
   "name": "python",
   "nbconvert_exporter": "python",
   "pygments_lexer": "ipython3",
   "version": "3.6.8"
  }
 },
 "nbformat": 4,
 "nbformat_minor": 2
}
